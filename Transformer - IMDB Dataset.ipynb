{
 "cells": [
  {
   "cell_type": "code",
   "execution_count": 1,
   "id": "bd206254",
   "metadata": {},
   "outputs": [],
   "source": [
    "import numpy as np\n",
    "import tensorflow_datasets as tfds\n",
    "import tensorflow as tf\n",
    "import transformer as transformer"
   ]
  },
  {
   "cell_type": "markdown",
   "id": "109ef9de",
   "metadata": {},
   "source": [
    "## Import IMDB Dataset"
   ]
  },
  {
   "cell_type": "code",
   "execution_count": 2,
   "id": "97fa55a5",
   "metadata": {},
   "outputs": [],
   "source": [
    "dataset, info = tfds.load('imdb_reviews', with_info=True,\n",
    "                          as_supervised=True)\n",
    "train_dataset, test_dataset = dataset['train'], dataset['test']"
   ]
  },
  {
   "cell_type": "markdown",
   "id": "0209deaf",
   "metadata": {},
   "source": [
    "## Makign Performant"
   ]
  },
  {
   "cell_type": "code",
   "execution_count": 3,
   "id": "b9c9faad",
   "metadata": {},
   "outputs": [],
   "source": [
    "BUFFER_SIZE = 10000\n",
    "BATCH_SIZE = 64\n",
    "\n",
    "train_dataset = train_dataset.shuffle(BUFFER_SIZE).batch(BATCH_SIZE).prefetch(tf.data.AUTOTUNE)\n",
    "test_dataset = test_dataset.batch(BATCH_SIZE).prefetch(tf.data.AUTOTUNE)"
   ]
  },
  {
   "cell_type": "markdown",
   "id": "a1e5d9c6",
   "metadata": {},
   "source": [
    "## Required Model Performance"
   ]
  },
  {
   "cell_type": "code",
   "execution_count": 4,
   "id": "ba214f6c",
   "metadata": {},
   "outputs": [],
   "source": [
    "batch_size = 64\n",
    "max_sequence_len = 50\n",
    "embedding_dim = 512\n",
    "heads = 8\n",
    "endocer_layers = 6\n",
    "max_vocab = 1000\n",
    "hidden_units = 1024\n",
    "dropout_rate = 0.1"
   ]
  },
  {
   "cell_type": "markdown",
   "id": "955cb949",
   "metadata": {},
   "source": [
    "### Building preprocessing layer"
   ]
  },
  {
   "cell_type": "code",
   "execution_count": 5,
   "id": "d249da26",
   "metadata": {},
   "outputs": [],
   "source": [
    "preprocessing = transformer.Preprocessing(max_vocab, max_sequence_len)\n",
    "preprocessing.adapt(train_dataset.map(lambda text, lable: text))"
   ]
  },
  {
   "cell_type": "markdown",
   "id": "da1a72dd",
   "metadata": {},
   "source": [
    "### Definign Model"
   ]
  },
  {
   "cell_type": "code",
   "execution_count": 8,
   "id": "f7ef890e",
   "metadata": {},
   "outputs": [
    {
     "name": "stdout",
     "output_type": "stream",
     "text": [
      "Epoch 1/5\n",
      "391/391 [==============================] - 93s 213ms/step - loss: 1.0751 - accuracy: 0.5004 - val_loss: 0.7563 - val_accuracy: 0.4999\n",
      "Epoch 2/5\n",
      "391/391 [==============================] - 78s 200ms/step - loss: 0.6755 - accuracy: 0.5718 - val_loss: 0.7543 - val_accuracy: 0.6545\n",
      "Epoch 3/5\n",
      "391/391 [==============================] - 78s 200ms/step - loss: 0.5788 - accuracy: 0.6893 - val_loss: 0.5222 - val_accuracy: 0.7130\n",
      "Epoch 4/5\n",
      "391/391 [==============================] - 81s 207ms/step - loss: 0.5372 - accuracy: 0.7261 - val_loss: 0.5906 - val_accuracy: 0.6974\n",
      "Epoch 5/5\n",
      "391/391 [==============================] - 83s 212ms/step - loss: 0.5148 - accuracy: 0.7401 - val_loss: 0.5126 - val_accuracy: 0.7121\n"
     ]
    }
   ],
   "source": [
    "model = transformer.CBERT(heads, endocer_layers, preprocessing, max_vocab, max_sequence_len, embedding_dim, hidden_units, dropout_rate)\n",
    "model.compile(loss='binary_crossentropy', optimizer='adam')\n",
    "history = model.fit(train_dataset, batch_size=64, epochs=5, validation_data=test_dataset)"
   ]
  },
  {
   "cell_type": "code",
   "execution_count": null,
   "id": "80e45b26",
   "metadata": {},
   "outputs": [],
   "source": []
  }
 ],
 "metadata": {
  "kernelspec": {
   "display_name": "Python 3",
   "language": "python",
   "name": "python3"
  },
  "language_info": {
   "codemirror_mode": {
    "name": "ipython",
    "version": 3
   },
   "file_extension": ".py",
   "mimetype": "text/x-python",
   "name": "python",
   "nbconvert_exporter": "python",
   "pygments_lexer": "ipython3",
   "version": "3.8.8"
  }
 },
 "nbformat": 4,
 "nbformat_minor": 5
}
