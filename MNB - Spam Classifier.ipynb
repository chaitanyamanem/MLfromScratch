{
 "cells": [
  {
   "cell_type": "code",
   "execution_count": 1,
   "id": "32613478",
   "metadata": {},
   "outputs": [],
   "source": [
    "import pandas as pd\n",
    "import seaborn as sns\n",
    "import matplotlib.pyplot as plt"
   ]
  },
  {
   "cell_type": "code",
   "execution_count": 60,
   "id": "2d33c51a",
   "metadata": {},
   "outputs": [],
   "source": [
    "## Some sample data\n",
    "sentences = [\n",
    "    \"Dear you got money\",\n",
    "    \"you have lecture tomorrow\",\n",
    "    \"Do you want money\",\n",
    "    \"lecture details for you\",\n",
    "    \"looking for more money\",\n",
    "    \"Ways you can get more money\",\n",
    "    \"tuition fees money\"\n",
    "]\n",
    "labels = [1, 0, 1, 0, 1, 1, 0]\n",
    "\n"
   ]
  },
  {
   "cell_type": "code",
   "execution_count": 88,
   "id": "d14817b8",
   "metadata": {},
   "outputs": [],
   "source": [
    "class MNB:\n",
    "    def __init__(self):\n",
    "        pass\n",
    "    \n",
    "    def fit(self, sentences, labels):        \n",
    "        self.spam_word_counts = {}\n",
    "        self.nspam_word_counts = {}\n",
    "        self.class_counts = {'spam':0, 'nspam':0}\n",
    "        #self.spam_voacb = set([])\n",
    "        #self.nspam_voacb = set([])\n",
    "\n",
    "        for i in range(len(sentences)):\n",
    "            if labels[i] == 1:\n",
    "                self.class_counts['spam'] += 1\n",
    "            else:\n",
    "                self.class_counts['nspam'] += 1\n",
    "\n",
    "            words = list(set(sentences[i].lower().split(\" \")))\n",
    "            #print(words)\n",
    "            for word in words:\n",
    "\n",
    "                if labels[i] == 1:                    \n",
    "                    if word not in self.spam_word_counts: self.spam_word_counts[word] = 0 \n",
    "                    self.spam_word_counts[word] += 1\n",
    "                else:\n",
    "                    #print(word)\n",
    "                    if word not in self.nspam_word_counts: self.nspam_word_counts[word] = 0 \n",
    "                    self.nspam_word_counts[word] += 1\n",
    "                    \n",
    "    def predict(self, sentence):\n",
    "        sentence = sentence.lower().strip()\n",
    "\n",
    "        for word in sentence.split(\" \"):\n",
    "            if word not in self.spam_word_counts or word not in self.nspam_word_counts: continue\n",
    "            p_s = self.class_counts['spam'] / sum(self.class_counts.values())\n",
    "            p_ns = self.class_counts['nspam'] / sum(self.class_counts.values())\n",
    "            \n",
    "            if word in self.spam_word_counts:\n",
    "                p_s *= self.spam_word_counts[word]/sum(self.spam_word_counts.values())\n",
    "            if word in self.nspam_word_counts:\n",
    "                p_ns *= self.nspam_word_counts[word]/sum(self.nspam_word_counts.values())\n",
    "            \n",
    "        return {'spam':p_s, 'not spam':p_ns}\n",
    "        \n",
    "        "
   ]
  },
  {
   "cell_type": "code",
   "execution_count": 89,
   "id": "5af8a98e",
   "metadata": {},
   "outputs": [],
   "source": [
    "mnb = MNB()\n",
    "mnb.fit(sentences, labels)"
   ]
  },
  {
   "cell_type": "code",
   "execution_count": 90,
   "id": "cb8bbcda",
   "metadata": {},
   "outputs": [
    {
     "data": {
      "text/plain": [
       "{'spam': 0.12698412698412698, 'not spam': 0.03896103896103896}"
      ]
     },
     "execution_count": 90,
     "metadata": {},
     "output_type": "execute_result"
    }
   ],
   "source": [
    "mnb.predict(\"you need money\")"
   ]
  },
  {
   "cell_type": "code",
   "execution_count": null,
   "id": "99527b8e",
   "metadata": {},
   "outputs": [],
   "source": []
  }
 ],
 "metadata": {
  "kernelspec": {
   "display_name": "Python 3",
   "language": "python",
   "name": "python3"
  },
  "language_info": {
   "codemirror_mode": {
    "name": "ipython",
    "version": 3
   },
   "file_extension": ".py",
   "mimetype": "text/x-python",
   "name": "python",
   "nbconvert_exporter": "python",
   "pygments_lexer": "ipython3",
   "version": "3.8.8"
  }
 },
 "nbformat": 4,
 "nbformat_minor": 5
}
