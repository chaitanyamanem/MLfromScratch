{
 "cells": [
  {
   "cell_type": "code",
   "execution_count": 76,
   "id": "0b08c38d",
   "metadata": {},
   "outputs": [],
   "source": [
    "#%%writefile igs_v1.py\n",
    "\n",
    "# It has start token and no masking words excluded\n",
    "\n",
    "import pandas as pd\n",
    "import matplotlib.pyplot as plt\n",
    "import seaborn as sns\n",
    "import tensorflow as tf\n",
    "from sklearn.model_selection import train_test_split\n",
    "import numpy as np\n",
    "from matplotlib.colors import Normalize, rgb2hex\n",
    "import matplotlib as mpl\n",
    "from IPython.display import HTML\n",
    "import tensorflow_text as text\n",
    "import tensorflow_datasets as tfds\n",
    "\n",
    "\n",
    "class IntegratedGradients:\n",
    "    def __init__(self, model, vectorization_layer_index, embedding_layer_index, vocab_=None, display=True):\n",
    "        \n",
    "        ## Set display model\n",
    "        self.display = display\n",
    "        \n",
    "        #language model        \n",
    "        self.model = model\n",
    "        \n",
    "        #Get embedding layer\n",
    "        self.embed_layer = self.model.layers[embedding_layer_index]\n",
    "        \n",
    "        # build new model with all layers after embedding layer\n",
    "        self.new_model = tf.keras.Sequential()\n",
    "        for layer in self.model.layers[embedding_layer_index+1:]:\n",
    "            #print(layer.name)\n",
    "            self.new_model.add(layer)\n",
    "            \n",
    "        ## Get the vectorization layer\n",
    "        self.encoder = self.model.layers[vectorization_layer_index]\n",
    "        \n",
    "        ##get the vocabulary\n",
    "        if vocab_ is None:\n",
    "            self.vocab = self.encoder.get_vocabulary()\n",
    "        else:\n",
    "            self.vocab = vocab_\n",
    "        \n",
    "    def interpret(self,sample_sentence, target_label_index, actual_label, n_steps=50):\n",
    "        \"\"\"\n",
    "        Returns the interpretations in HTML format word attribution plots\n",
    "        Input Arguments\n",
    "        \n",
    "            sample_sentence: input sentence for which prediction and explanation required for\n",
    "            target_label_index: If binary problem always 0, for sotmax output layer models, the actual prediciton index.\n",
    "            n_steps: number of interpolation steps between baseline input and actual input, actual paper suggests, anything above 30\n",
    "        \n",
    "        \"\"\"\n",
    "        \n",
    "        # Get the vector representation for the given sentence\n",
    "        #sample_vector = self.encoder([sample_sentence])\n",
    "        sample_vector = np.squeeze(self.encoder([sample_sentence]).numpy()).tolist()\n",
    "\n",
    "        # words of the given vector as per trained vocabulary, used later for plotting\n",
    "        words = [self.vocab[i] for i in sample_vector]    \n",
    "\n",
    "        # get embeddings\n",
    "        encoded = self.encoder([sample_sentence])\n",
    "        sample_embed = self.embed_layer(encoded)\n",
    "        #print(f\"Shape of the sample_embed: {sample_embed.shape}\")\n",
    "        #return\n",
    "\n",
    "        # Create a Baseline vector with zero embeddings\n",
    "        baseline_embed = tf.zeros(shape=tf.shape(sample_embed))\n",
    "\n",
    "        # Interpolate texts between base line sentence and the actual sentense\n",
    "        interpolated_texts = self.interpolate_texts(baseline_embed,\n",
    "                                           sample_embed,\n",
    "                                           n_steps)\n",
    "        #return interpolated_texts, sample_vector_mask\n",
    "        # Make the padded words to zere based on mask\n",
    "        #embed_mask = tf.stack([tf.stack([tf.squeeze(sample_vector_mask,axis=0)]*interpolated_texts.shape[0])]*interpolated_texts.shape[-1],axis=-1)\n",
    "        #interpolated_texts = tf.math.multiply(interpolated_texts,tf.cast(embed_mask,tf.float32))\n",
    "        \n",
    "\n",
    "        # Compute gradients for the interploated texts    \n",
    "        path_gradients = self.compute_gradients(interpolated_texts, target_label_index)\n",
    "        #print(f\"Shape of the path_gradients: {path_gradients.shape}\")\n",
    "\n",
    "        # sum the grads of the interpolated vectors\n",
    "        all_grads = tf.reduce_sum(path_gradients, axis=0) / n_steps\n",
    "        #print(f\"Shape of all_grads: {all_grads.shape}\")\n",
    "        # mulitply grads by (input - baseline); baseline is zero vectors\n",
    "        x_grads = tf.math.multiply(all_grads, sample_embed)\n",
    "        #print(f\"Shape of x_grads: {x_grads.shape}\")\n",
    "        # sum all gradients across the embedding dimension\n",
    "        igs = tf.reduce_sum(x_grads, axis=-1).numpy()\n",
    "        igs = tf.squeeze(igs)\n",
    "        #print(f\"Shape of igs: {igs.shape}\")\n",
    "        \n",
    "        #Filter IGs for only valid words\n",
    "        #pad_start = tf.argmin(encoded, axis=1).numpy()[0]\n",
    "        #print(f\"Pad start: {pad_start}\")\n",
    "        #igs = igs[1:pad_start]\n",
    "        #words = words[1:pad_start]\n",
    "        if len(igs) != len(words):\n",
    "            raise Exception(\"Length of the gradients and words not matching\")\n",
    "        #select colors for words based on gradients magnitude\n",
    "        colors = self.colorize(igs)\n",
    "\n",
    "        #model prediction\n",
    "        sample_pred = self.model(np.array([sample_sentence,]))\n",
    "        pred = sample_pred.numpy()       \n",
    "        \n",
    "        if not self.display:\n",
    "            return sample_vector, words, igs.numpy().tolist(), pred[0][0], actual_label\n",
    "        \n",
    "        ## Remove padding tokens and plot importance map for actual words only\n",
    "#         only_words = []\n",
    "#         only_words_colors=[]\n",
    "#         for i in range(tf.squeeze(sample_vector_mask).numpy().shape[0]):\n",
    "#             if tf.squeeze(sample_vector_mask).numpy()[i]==1:\n",
    "#                 only_words.append(words[i])\n",
    "#                 only_words_colors.append(colors[i])\n",
    "        #print the imporatence maps\n",
    "        print(f\"----------------------------------------\")\n",
    "        print(f\"input sentence: {sample_sentence}\")\n",
    "        print(f\"\\nActual Label: {actual_label},  Predicted label: {pred}\")\n",
    "        #print(\"\\n\")   \n",
    "        display(HTML(\"\".join(list(map(self.hlstr, words, colors)))))\n",
    "        print(f\"\\n {igs}\")\n",
    "        #return words, colors\n",
    "    \n",
    "    def interpolate_texts(self, baseline, text, m_steps):\n",
    "\n",
    "        \"\"\" Linearly interpolate the input vector\n",
    "        (embedding layer output of the sample vector)\"\"\"\n",
    "\n",
    "        # Generate m_steps intervals for integral_approximation() below.\n",
    "        alphas = tf.linspace(start=0.0, stop=1.0, num=m_steps+1)\n",
    "        # text = tf.cast(text, tf.float32)\n",
    "        alphas_x = alphas[:, tf.newaxis, tf.newaxis]\n",
    "        delta = text - baseline\n",
    "        texts = baseline + alphas_x * delta\n",
    "        return texts\n",
    "        \n",
    "    def compute_gradients(self, t, target_class_idx):\n",
    "\n",
    "        \"\"\" compute the gradient wrt to embedding layer output \"\"\"\n",
    "\n",
    "        with tf.GradientTape() as tape:\n",
    "            tape.watch(t)\n",
    "            probs = self.new_model(t)[:, target_class_idx]\n",
    "        grads = tape.gradient(probs, t)\n",
    "        return grads  \n",
    "    \n",
    "    def colorize(self, attrs, cmap='PiYG'):\n",
    "        \"\"\"\n",
    "        Compute hex colors based on the attributions for a single instance.\n",
    "        Uses a diverging colorscale by default and normalizes and scales\n",
    "        the colormap so that colors are consistent with the attributions.\n",
    "        \"\"\"\n",
    "\n",
    "        cmap_bound = tf.reduce_max(tf.abs(attrs))\n",
    "        #print(f\"cmap_bound:\\n{cmap_bound}\")\n",
    "        norm = Normalize(vmin=-cmap_bound, vmax=cmap_bound)\n",
    "        cmap = mpl.cm.get_cmap(cmap)\n",
    "\n",
    "        # now compute hex values of colors\n",
    "        colors = list(map(lambda x: rgb2hex(cmap(norm(x))), attrs))\n",
    "        return colors    \n",
    "    \n",
    "    def  hlstr(self,string, color='white'):\n",
    "        \"\"\"\n",
    "        Return HTML markup highlighting text with the desired color.\n",
    "        \"\"\"\n",
    "        return f\"<mark style=background-color:{color};font-size:20px;>{string} </mark>\""
   ]
  },
  {
   "cell_type": "code",
   "execution_count": 2,
   "id": "c760f9ec",
   "metadata": {},
   "outputs": [],
   "source": [
    "### Laod Keras Model"
   ]
  },
  {
   "cell_type": "code",
   "execution_count": 3,
   "id": "cc48375d",
   "metadata": {},
   "outputs": [],
   "source": [
    "model = tf.keras.models.load_model(r\"saved_models\\transformer\\imdb_keras_base\")"
   ]
  },
  {
   "cell_type": "code",
   "execution_count": 4,
   "id": "55301b7e",
   "metadata": {},
   "outputs": [
    {
     "name": "stdout",
     "output_type": "stream",
     "text": [
      "Model: \"model_9\"\n",
      "_________________________________________________________________\n",
      " Layer (type)                Output Shape              Param #   \n",
      "=================================================================\n",
      " input_layer (InputLayer)    [(None, 1)]               0         \n",
      "                                                                 \n",
      " vectorization_layer (TextVe  (None, 200)              0         \n",
      " ctorizer)                                                       \n",
      "                                                                 \n",
      " embedding_layer (TokenAndPo  (None, 200, 32)          646400    \n",
      " sitionEmbedding)                                                \n",
      "                                                                 \n",
      " tranformer_block1 (Transfor  (None, 200, 32)          10656     \n",
      " merBlock)                                                       \n",
      "                                                                 \n",
      " tranformer_block2 (Transfor  (None, 200, 32)          10656     \n",
      " merBlock)                                                       \n",
      "                                                                 \n",
      " layer_start_token_extractor  (None, 32)               0         \n",
      "  (extractStartToken)                                            \n",
      "                                                                 \n",
      " dropout_78 (Dropout)        (None, 32)                0         \n",
      "                                                                 \n",
      " dense_78 (Dense)            (None, 20)                660       \n",
      "                                                                 \n",
      " dropout_79 (Dropout)        (None, 20)                0         \n",
      "                                                                 \n",
      " dense_79 (Dense)            (None, 1)                 21        \n",
      "                                                                 \n",
      "=================================================================\n",
      "Total params: 668,393\n",
      "Trainable params: 668,393\n",
      "Non-trainable params: 0\n",
      "_________________________________________________________________\n"
     ]
    }
   ],
   "source": [
    "model.summary()"
   ]
  },
  {
   "cell_type": "code",
   "execution_count": 11,
   "id": "51ed78e5",
   "metadata": {},
   "outputs": [],
   "source": [
    "## BERT vocabulary"
   ]
  },
  {
   "cell_type": "code",
   "execution_count": 77,
   "id": "3d6f8236",
   "metadata": {},
   "outputs": [],
   "source": [
    "vocab_file = r'saved_models/transformer/imdb_keras_base_vocab.txt'\n",
    "# Open the file in read mode\n",
    "with open(vocab_file, encoding=\"utf8\") as file:\n",
    "    # Read all the lines of the file into a list\n",
    "    lines = file.readlines()\n",
    "    bert_vocab = [line.strip() for line in lines]\n"
   ]
  },
  {
   "cell_type": "code",
   "execution_count": 78,
   "id": "efd022a8",
   "metadata": {},
   "outputs": [
    {
     "data": {
      "text/plain": [
       "['', '[UNK]', '[START]', 'the', 'and', 'a', 'of', 'to', 'is', 'in']"
      ]
     },
     "execution_count": 78,
     "metadata": {},
     "output_type": "execute_result"
    }
   ],
   "source": [
    "bert_vocab[:10]"
   ]
  },
  {
   "cell_type": "markdown",
   "id": "bec3dd88",
   "metadata": {},
   "source": [
    "### Testign"
   ]
  },
  {
   "cell_type": "markdown",
   "id": "7ab625c8",
   "metadata": {},
   "source": [
    "### Movie reviews"
   ]
  },
  {
   "cell_type": "code",
   "execution_count": 125,
   "id": "2ed2513d",
   "metadata": {},
   "outputs": [
    {
     "name": "stdout",
     "output_type": "stream",
     "text": [
      "Length of the training data 25000\n",
      "Length of the testing data 25000\n"
     ]
    }
   ],
   "source": [
    "\"\"\"\n",
    "## Download and prepare dataset\n",
    "\"\"\"\n",
    "\n",
    "\n",
    "dataset, info = tfds.load('imdb_reviews', with_info=True,\n",
    "                          as_supervised=True)\n",
    "train_dataset, test_dataset = dataset['train'], dataset['test']\n",
    "print(f\"Length of the training data {len(train_dataset)}\")\n",
    "print(f\"Length of the testing data {len(test_dataset)}\")"
   ]
  },
  {
   "cell_type": "code",
   "execution_count": 126,
   "id": "b28cc3d7",
   "metadata": {},
   "outputs": [],
   "source": [
    "all_results = []\n",
    "ig = IntegratedGradients(model, 1, 2, bert_vocab, display=False)\n",
    "for review, label in test_dataset:\n",
    "    review = review.numpy().decode()\n",
    "    label = label.numpy()\n",
    "    result = ig.interpret([review],0,label)\n",
    "    all_results.append(result)  \n"
   ]
  },
  {
   "cell_type": "code",
   "execution_count": 127,
   "id": "59fe4aa0",
   "metadata": {},
   "outputs": [
    {
     "data": {
      "text/plain": [
       "25000"
      ]
     },
     "execution_count": 127,
     "metadata": {},
     "output_type": "execute_result"
    }
   ],
   "source": [
    "len(all_results)"
   ]
  },
  {
   "cell_type": "code",
   "execution_count": 129,
   "id": "2082a883",
   "metadata": {},
   "outputs": [
    {
     "data": {
      "text/html": [
       "<div>\n",
       "<style scoped>\n",
       "    .dataframe tbody tr th:only-of-type {\n",
       "        vertical-align: middle;\n",
       "    }\n",
       "\n",
       "    .dataframe tbody tr th {\n",
       "        vertical-align: top;\n",
       "    }\n",
       "\n",
       "    .dataframe thead th {\n",
       "        text-align: right;\n",
       "    }\n",
       "</style>\n",
       "<table border=\"1\" class=\"dataframe\">\n",
       "  <thead>\n",
       "    <tr style=\"text-align: right;\">\n",
       "      <th></th>\n",
       "      <th>token_ids</th>\n",
       "      <th>words</th>\n",
       "      <th>igs</th>\n",
       "      <th>predicted_label</th>\n",
       "      <th>actual_label</th>\n",
       "    </tr>\n",
       "  </thead>\n",
       "  <tbody>\n",
       "    <tr>\n",
       "      <th>0</th>\n",
       "      <td>[2, 49, 25, 96, 13, 95, 4156, 17, 727, 5045, 1...</td>\n",
       "      <td>[[START], there, are, films, that, make, caree...</td>\n",
       "      <td>[0.07312308251857758, -0.009299264289438725, -...</td>\n",
       "      <td>0.312348</td>\n",
       "      <td>1</td>\n",
       "    </tr>\n",
       "    <tr>\n",
       "      <th>1</th>\n",
       "      <td>[2, 5, 1, 724, 785, 6, 5, 15046, 2292, 1, 8570...</td>\n",
       "      <td>[[START], a, [UNK], comic, tale, of, a, downtr...</td>\n",
       "      <td>[0.10108847171068192, -0.0005103191360831261, ...</td>\n",
       "      <td>0.546827</td>\n",
       "      <td>1</td>\n",
       "    </tr>\n",
       "  </tbody>\n",
       "</table>\n",
       "</div>"
      ],
      "text/plain": [
       "                                           token_ids  \\\n",
       "0  [2, 49, 25, 96, 13, 95, 4156, 17, 727, 5045, 1...   \n",
       "1  [2, 5, 1, 724, 785, 6, 5, 15046, 2292, 1, 8570...   \n",
       "\n",
       "                                               words  \\\n",
       "0  [[START], there, are, films, that, make, caree...   \n",
       "1  [[START], a, [UNK], comic, tale, of, a, downtr...   \n",
       "\n",
       "                                                 igs  predicted_label  \\\n",
       "0  [0.07312308251857758, -0.009299264289438725, -...         0.312348   \n",
       "1  [0.10108847171068192, -0.0005103191360831261, ...         0.546827   \n",
       "\n",
       "   actual_label  \n",
       "0             1  \n",
       "1             1  "
      ]
     },
     "execution_count": 129,
     "metadata": {},
     "output_type": "execute_result"
    }
   ],
   "source": [
    "df = pd.DataFrame(data = all_results, columns=['token_ids', 'words', 'igs', 'predicted_label', 'actual_label'])\n",
    "df.head(2)"
   ]
  },
  {
   "cell_type": "code",
   "execution_count": 130,
   "id": "db078b13",
   "metadata": {},
   "outputs": [],
   "source": [
    "df.to_csv(r\"igs_data_v1.csv\",index=False)"
   ]
  },
  {
   "cell_type": "code",
   "execution_count": 99,
   "id": "6ee3a8ff",
   "metadata": {},
   "outputs": [
    {
     "name": "stdout",
     "output_type": "stream",
     "text": [
      "----------------------------------------\n",
      "input sentence: ['Adrian Pasdar is excellent in this film. He makes a fascinating woman.']\n",
      "\n",
      "Actual Label: 1,  Predicted label: [[0.98911136]]\n"
     ]
    },
    {
     "data": {
      "text/html": [
       "<mark style=background-color:#9acd61;font-size:20px;>[START] </mark><mark style=background-color:#f7f7f7;font-size:20px;>adrian </mark><mark style=background-color:#f9f1f5;font-size:20px;>[UNK] </mark><mark style=background-color:#f1f6ea;font-size:20px;>is </mark><mark style=background-color:#276419;font-size:20px;>excellent </mark><mark style=background-color:#f8f2f5;font-size:20px;>in </mark><mark style=background-color:#f7f6f7;font-size:20px;>this </mark><mark style=background-color:#f5f7f3;font-size:20px;>film </mark><mark style=background-color:#fad4e9;font-size:20px;>he </mark><mark style=background-color:#e4f4cd;font-size:20px;>makes </mark><mark style=background-color:#f4f7f0;font-size:20px;>a </mark><mark style=background-color:#9acd61;font-size:20px;>fascinating </mark><mark style=background-color:#fcdbed;font-size:20px;>woman </mark><mark style=background-color:#f6f7f5;font-size:20px;> </mark><mark style=background-color:#f6f7f5;font-size:20px;> </mark><mark style=background-color:#f7f7f6;font-size:20px;> </mark><mark style=background-color:#f8f4f6;font-size:20px;> </mark><mark style=background-color:#f7f7f7;font-size:20px;> </mark><mark style=background-color:#f7f6f7;font-size:20px;> </mark><mark style=background-color:#f4f7f0;font-size:20px;> </mark><mark style=background-color:#f7f7f6;font-size:20px;> </mark><mark style=background-color:#f6f7f5;font-size:20px;> </mark><mark style=background-color:#f5f7f3;font-size:20px;> </mark><mark style=background-color:#f9eef4;font-size:20px;> </mark><mark style=background-color:#f4f7f0;font-size:20px;> </mark><mark style=background-color:#f8f3f6;font-size:20px;> </mark><mark style=background-color:#f9eff4;font-size:20px;> </mark><mark style=background-color:#f6f7f5;font-size:20px;> </mark><mark style=background-color:#f8f5f6;font-size:20px;> </mark><mark style=background-color:#f4f7f0;font-size:20px;> </mark><mark style=background-color:#f7f6f7;font-size:20px;> </mark><mark style=background-color:#f7f7f7;font-size:20px;> </mark><mark style=background-color:#f6f7f5;font-size:20px;> </mark><mark style=background-color:#f4f7f0;font-size:20px;> </mark><mark style=background-color:#f5f7f3;font-size:20px;> </mark><mark style=background-color:#f8f5f6;font-size:20px;> </mark><mark style=background-color:#f6f7f5;font-size:20px;> </mark><mark style=background-color:#f7f7f7;font-size:20px;> </mark><mark style=background-color:#f5f7f3;font-size:20px;> </mark><mark style=background-color:#f5f7f3;font-size:20px;> </mark><mark style=background-color:#f6f7f5;font-size:20px;> </mark><mark style=background-color:#f7f7f7;font-size:20px;> </mark><mark style=background-color:#f5f7f2;font-size:20px;> </mark><mark style=background-color:#f7f6f7;font-size:20px;> </mark><mark style=background-color:#f4f7f0;font-size:20px;> </mark><mark style=background-color:#f5f7f2;font-size:20px;> </mark><mark style=background-color:#f3f7ef;font-size:20px;> </mark><mark style=background-color:#f6f7f5;font-size:20px;> </mark><mark style=background-color:#f6f7f5;font-size:20px;> </mark><mark style=background-color:#f8f5f6;font-size:20px;> </mark><mark style=background-color:#f8f5f6;font-size:20px;> </mark><mark style=background-color:#f8f3f6;font-size:20px;> </mark><mark style=background-color:#f8f3f6;font-size:20px;> </mark><mark style=background-color:#f4f7f0;font-size:20px;> </mark><mark style=background-color:#f1f6ea;font-size:20px;> </mark><mark style=background-color:#f7f6f7;font-size:20px;> </mark><mark style=background-color:#f7f6f7;font-size:20px;> </mark><mark style=background-color:#f5f7f3;font-size:20px;> </mark><mark style=background-color:#f8f5f6;font-size:20px;> </mark><mark style=background-color:#f8f4f6;font-size:20px;> </mark><mark style=background-color:#f7f7f7;font-size:20px;> </mark><mark style=background-color:#f5f7f2;font-size:20px;> </mark><mark style=background-color:#f7f7f7;font-size:20px;> </mark><mark style=background-color:#f7f7f6;font-size:20px;> </mark><mark style=background-color:#f7f6f7;font-size:20px;> </mark><mark style=background-color:#f5f7f2;font-size:20px;> </mark><mark style=background-color:#f8f4f6;font-size:20px;> </mark><mark style=background-color:#f9f1f5;font-size:20px;> </mark><mark style=background-color:#f5f7f2;font-size:20px;> </mark><mark style=background-color:#f8f4f6;font-size:20px;> </mark><mark style=background-color:#f7f7f7;font-size:20px;> </mark><mark style=background-color:#f8f3f6;font-size:20px;> </mark><mark style=background-color:#f8f5f6;font-size:20px;> </mark><mark style=background-color:#f3f6ed;font-size:20px;> </mark><mark style=background-color:#f5f7f3;font-size:20px;> </mark><mark style=background-color:#f7f6f7;font-size:20px;> </mark><mark style=background-color:#f6f7f5;font-size:20px;> </mark><mark style=background-color:#f8f5f6;font-size:20px;> </mark><mark style=background-color:#f5f7f3;font-size:20px;> </mark><mark style=background-color:#f5f7f3;font-size:20px;> </mark><mark style=background-color:#f4f7f0;font-size:20px;> </mark><mark style=background-color:#f8f4f6;font-size:20px;> </mark><mark style=background-color:#f7f7f6;font-size:20px;> </mark><mark style=background-color:#f6f7f5;font-size:20px;> </mark><mark style=background-color:#f8f2f5;font-size:20px;> </mark><mark style=background-color:#f7f7f7;font-size:20px;> </mark><mark style=background-color:#f8f4f6;font-size:20px;> </mark><mark style=background-color:#f3f6ed;font-size:20px;> </mark><mark style=background-color:#f5f7f3;font-size:20px;> </mark><mark style=background-color:#f5f7f3;font-size:20px;> </mark><mark style=background-color:#f7f6f7;font-size:20px;> </mark><mark style=background-color:#f7f6f7;font-size:20px;> </mark><mark style=background-color:#f6f7f5;font-size:20px;> </mark><mark style=background-color:#f5f7f3;font-size:20px;> </mark><mark style=background-color:#f9f1f5;font-size:20px;> </mark><mark style=background-color:#f4f7f0;font-size:20px;> </mark><mark style=background-color:#f4f7f0;font-size:20px;> </mark><mark style=background-color:#f3f6ed;font-size:20px;> </mark><mark style=background-color:#f5f7f2;font-size:20px;> </mark><mark style=background-color:#f8f4f6;font-size:20px;> </mark><mark style=background-color:#f8f5f6;font-size:20px;> </mark><mark style=background-color:#f7f7f6;font-size:20px;> </mark><mark style=background-color:#f5f7f3;font-size:20px;> </mark><mark style=background-color:#f4f7f0;font-size:20px;> </mark><mark style=background-color:#f9f1f5;font-size:20px;> </mark><mark style=background-color:#f5f7f3;font-size:20px;> </mark><mark style=background-color:#f6f7f5;font-size:20px;> </mark><mark style=background-color:#f9eef4;font-size:20px;> </mark><mark style=background-color:#f3f7ef;font-size:20px;> </mark><mark style=background-color:#f6f7f5;font-size:20px;> </mark><mark style=background-color:#f5f7f3;font-size:20px;> </mark><mark style=background-color:#f8f3f6;font-size:20px;> </mark><mark style=background-color:#f2f6ec;font-size:20px;> </mark><mark style=background-color:#f5f7f3;font-size:20px;> </mark><mark style=background-color:#f2f6ec;font-size:20px;> </mark><mark style=background-color:#f7f7f6;font-size:20px;> </mark><mark style=background-color:#f8f5f6;font-size:20px;> </mark><mark style=background-color:#f6f7f5;font-size:20px;> </mark><mark style=background-color:#f3f7ef;font-size:20px;> </mark><mark style=background-color:#f7f7f6;font-size:20px;> </mark><mark style=background-color:#f5f7f3;font-size:20px;> </mark><mark style=background-color:#f7f7f6;font-size:20px;> </mark><mark style=background-color:#f5f7f2;font-size:20px;> </mark><mark style=background-color:#f5f7f3;font-size:20px;> </mark><mark style=background-color:#f4f7f0;font-size:20px;> </mark><mark style=background-color:#f7f7f7;font-size:20px;> </mark><mark style=background-color:#f7f7f6;font-size:20px;> </mark><mark style=background-color:#f1f6ea;font-size:20px;> </mark><mark style=background-color:#f4f7f0;font-size:20px;> </mark><mark style=background-color:#f5f7f3;font-size:20px;> </mark><mark style=background-color:#f8f4f6;font-size:20px;> </mark><mark style=background-color:#f7f7f6;font-size:20px;> </mark><mark style=background-color:#f5f7f3;font-size:20px;> </mark><mark style=background-color:#f7f7f7;font-size:20px;> </mark><mark style=background-color:#f7f7f6;font-size:20px;> </mark><mark style=background-color:#f4f7f0;font-size:20px;> </mark><mark style=background-color:#f7f7f7;font-size:20px;> </mark><mark style=background-color:#f2f6ec;font-size:20px;> </mark><mark style=background-color:#f7f7f6;font-size:20px;> </mark><mark style=background-color:#f7f6f7;font-size:20px;> </mark><mark style=background-color:#f7f7f7;font-size:20px;> </mark><mark style=background-color:#f6f7f5;font-size:20px;> </mark><mark style=background-color:#f6f7f5;font-size:20px;> </mark><mark style=background-color:#f6f7f5;font-size:20px;> </mark><mark style=background-color:#f7f7f6;font-size:20px;> </mark><mark style=background-color:#f4f7f0;font-size:20px;> </mark><mark style=background-color:#f5f7f3;font-size:20px;> </mark><mark style=background-color:#f7f6f7;font-size:20px;> </mark><mark style=background-color:#f5f7f3;font-size:20px;> </mark><mark style=background-color:#f6f7f5;font-size:20px;> </mark><mark style=background-color:#f3f6ed;font-size:20px;> </mark><mark style=background-color:#f7f7f6;font-size:20px;> </mark><mark style=background-color:#f4f7f0;font-size:20px;> </mark><mark style=background-color:#f5f7f2;font-size:20px;> </mark><mark style=background-color:#f3f6ed;font-size:20px;> </mark><mark style=background-color:#f8f3f6;font-size:20px;> </mark><mark style=background-color:#f6f7f5;font-size:20px;> </mark><mark style=background-color:#f7f7f7;font-size:20px;> </mark><mark style=background-color:#f7f7f7;font-size:20px;> </mark><mark style=background-color:#f7f6f7;font-size:20px;> </mark><mark style=background-color:#f6f7f5;font-size:20px;> </mark><mark style=background-color:#f7f6f7;font-size:20px;> </mark><mark style=background-color:#f7f6f7;font-size:20px;> </mark><mark style=background-color:#f7f7f7;font-size:20px;> </mark><mark style=background-color:#f2f6ec;font-size:20px;> </mark><mark style=background-color:#f5f7f3;font-size:20px;> </mark><mark style=background-color:#f5f7f2;font-size:20px;> </mark><mark style=background-color:#f8f4f6;font-size:20px;> </mark><mark style=background-color:#f7f6f7;font-size:20px;> </mark><mark style=background-color:#f8f3f6;font-size:20px;> </mark><mark style=background-color:#f7f6f7;font-size:20px;> </mark><mark style=background-color:#f6f7f5;font-size:20px;> </mark><mark style=background-color:#f5f7f2;font-size:20px;> </mark><mark style=background-color:#f7f6f7;font-size:20px;> </mark><mark style=background-color:#f5f7f3;font-size:20px;> </mark><mark style=background-color:#f6f7f5;font-size:20px;> </mark><mark style=background-color:#f3f7ef;font-size:20px;> </mark><mark style=background-color:#f8f5f6;font-size:20px;> </mark><mark style=background-color:#f4f7f0;font-size:20px;> </mark><mark style=background-color:#f5f7f3;font-size:20px;> </mark><mark style=background-color:#f8f2f5;font-size:20px;> </mark><mark style=background-color:#f3f7ef;font-size:20px;> </mark><mark style=background-color:#f3f6ed;font-size:20px;> </mark><mark style=background-color:#f6f7f5;font-size:20px;> </mark><mark style=background-color:#f5f7f2;font-size:20px;> </mark><mark style=background-color:#f7f7f7;font-size:20px;> </mark><mark style=background-color:#f7f6f7;font-size:20px;> </mark><mark style=background-color:#f3f7ef;font-size:20px;> </mark><mark style=background-color:#f9f0f5;font-size:20px;> </mark><mark style=background-color:#f7f7f7;font-size:20px;> </mark><mark style=background-color:#f7f7f6;font-size:20px;> </mark><mark style=background-color:#f7f6f7;font-size:20px;> </mark><mark style=background-color:#f5f7f2;font-size:20px;> </mark><mark style=background-color:#f6f7f5;font-size:20px;> </mark><mark style=background-color:#f7f7f7;font-size:20px;> </mark><mark style=background-color:#f3f7ef;font-size:20px;> </mark><mark style=background-color:#f6f7f5;font-size:20px;> </mark><mark style=background-color:#f5f7f2;font-size:20px;> </mark><mark style=background-color:#f7f6f7;font-size:20px;> </mark><mark style=background-color:#f6f7f5;font-size:20px;> </mark>"
      ],
      "text/plain": [
       "<IPython.core.display.HTML object>"
      ]
     },
     "metadata": {},
     "output_type": "display_data"
    },
    {
     "name": "stdout",
     "output_type": "stream",
     "text": [
      "\n",
      " [ 1.66434631e-01 -2.48462171e-03 -1.60503834e-02  2.21091621e-02\n",
      "  3.27799737e-01 -1.36749744e-02 -2.72066519e-03  5.75973559e-03\n",
      " -8.21040422e-02  6.79497421e-02  1.09273810e-02  1.65695921e-01\n",
      " -7.36741275e-02  4.69050091e-03  4.29429114e-03  2.34020874e-04\n",
      " -1.00664971e-02 -7.98670808e-04 -3.19015700e-03  1.12641817e-02\n",
      "  1.23341708e-03  3.38944700e-03  6.63160160e-03 -2.59839240e-02\n",
      "  1.13708014e-02 -1.27807790e-02 -2.11773962e-02  5.12036774e-03\n",
      " -6.83619874e-03  1.23876547e-02 -3.14372941e-03 -1.18886936e-03\n",
      "  3.66981328e-03  1.07920617e-02  6.28064666e-03 -6.62999786e-03\n",
      "  4.72289836e-03 -1.32221123e-03  5.91934472e-03  5.95653430e-03\n",
      "  4.74296557e-03 -2.51165661e-03  8.15854035e-03 -4.10755258e-03\n",
      "  1.25119379e-02  1.01299593e-02  1.31452102e-02  3.66613362e-03\n",
      "  2.80247442e-03 -6.76310016e-03 -6.96125627e-03 -1.20319407e-02\n",
      " -1.03391428e-02  1.25063043e-02  2.06736922e-02 -2.59394944e-03\n",
      " -4.28170990e-03  7.07576796e-03 -6.75096130e-03 -8.07403959e-03\n",
      " -1.93666224e-03  9.14324448e-03 -2.31699273e-03  2.17026495e-03\n",
      " -3.63660511e-03  8.09481833e-03 -9.23631154e-03 -1.64519977e-02\n",
      "  8.40630941e-03 -9.48521588e-03 -2.39902199e-03 -1.16218422e-02\n",
      " -7.61097483e-03  1.62401125e-02  7.06900842e-03 -4.77181328e-03\n",
      "  4.55633411e-03 -6.96678506e-03  6.88399374e-03  5.49262576e-03\n",
      "  1.18366973e-02 -8.24700296e-03  3.91867012e-04  2.63172737e-03\n",
      " -1.52933560e-02 -8.24765302e-05 -1.00619262e-02  1.64441075e-02\n",
      "  6.30705897e-03  6.73973048e-03 -3.37608904e-03 -3.20911361e-03\n",
      "  3.78478598e-03  5.26214670e-03 -1.76470093e-02  1.07300570e-02\n",
      "  1.13106892e-02  1.61437634e-02  8.83844215e-03 -7.93168321e-03\n",
      " -5.94492629e-03  2.03899154e-03  5.86560043e-03  1.10884756e-02\n",
      " -1.57054123e-02  6.92986418e-03  4.90099331e-03 -2.45924946e-02\n",
      "  1.42397210e-02  4.39841719e-03  7.30664050e-03 -1.09281419e-02\n",
      "  1.95449628e-02  5.52586978e-03  1.90153699e-02  1.60397682e-03\n",
      " -7.07398169e-03  4.11106506e-03  1.36192124e-02  8.45827628e-04\n",
      "  6.59108907e-03  1.99077860e-03  9.38913319e-03  6.67657377e-03\n",
      "  1.13471244e-02 -1.96245918e-03  7.01961108e-04  2.10424829e-02\n",
      "  1.15221124e-02  6.10115286e-03 -9.83880274e-03  2.03022175e-03\n",
      "  6.21696794e-03 -7.83566502e-04  1.95046607e-03  1.22423749e-02\n",
      " -6.68282970e-04  1.94098800e-02  1.18661160e-03 -2.74271751e-03\n",
      " -6.90976158e-05  5.11646317e-03  4.77820868e-03  4.89575230e-03\n",
      "  1.39003713e-03  1.06297266e-02  5.20124566e-03 -4.04906087e-03\n",
      "  6.79319678e-03  2.70972680e-03  1.76495537e-02  1.04230642e-03\n",
      "  1.25553245e-02  9.88977030e-03  1.57700628e-02 -1.17693823e-02\n",
      "  4.75147646e-03 -3.40758823e-04 -1.98432291e-03 -4.30537993e-03\n",
      "  2.85915541e-03 -4.59218957e-03 -3.23885051e-03 -1.27338339e-03\n",
      "  1.84241980e-02  5.68338437e-03  8.69439263e-03 -8.11594911e-03\n",
      " -2.61574145e-03 -1.21171307e-02 -4.37827501e-03  2.66579562e-03\n",
      "  9.03718919e-03 -4.20459593e-03  6.77486882e-03  5.04372083e-03\n",
      "  1.41681079e-02 -5.59011148e-03  1.06107481e-02  6.44669775e-03\n",
      " -1.32185267e-02  1.51394857e-02  1.67721640e-02  4.48208489e-03\n",
      "  8.01881962e-03 -1.16426777e-03 -3.98483593e-03  1.40754357e-02\n",
      " -1.79502591e-02 -6.24998705e-04  1.76630635e-03 -3.33564822e-03\n",
      "  7.68686552e-03  2.71847844e-03 -7.36555317e-04  1.52034415e-02\n",
      "  3.52714886e-03  1.01940185e-02 -4.72992193e-03  4.36203368e-03]\n",
      "----------------------------------------\n",
      "input sentence: ['This is the definitive movie version of Hamlet. Branagh cuts nothing, but there are no wasted moments.']\n",
      "\n",
      "Actual Label: 1,  Predicted label: [[0.29744893]]\n"
     ]
    },
    {
     "data": {
      "text/html": [
       "<mark style=background-color:#cbe9a4;font-size:20px;>[START] </mark><mark style=background-color:#f9eef4;font-size:20px;>this </mark><mark style=background-color:#f2f6ec;font-size:20px;>is </mark><mark style=background-color:#eff6e5;font-size:20px;>the </mark><mark style=background-color:#91c857;font-size:20px;>definitive </mark><mark style=background-color:#faedf3;font-size:20px;>movie </mark><mark style=background-color:#eff6e5;font-size:20px;>version </mark><mark style=background-color:#f8f5f6;font-size:20px;>of </mark><mark style=background-color:#f1f6ea;font-size:20px;>hamlet </mark><mark style=background-color:#c7e89f;font-size:20px;>branagh </mark><mark style=background-color:#f9f1f5;font-size:20px;>cuts </mark><mark style=background-color:#eba3cd;font-size:20px;>nothing </mark><mark style=background-color:#f6f7f5;font-size:20px;>but </mark><mark style=background-color:#f8f4f6;font-size:20px;>there </mark><mark style=background-color:#f8f3f6;font-size:20px;>are </mark><mark style=background-color:#f4bfdf;font-size:20px;>no </mark><mark style=background-color:#8e0152;font-size:20px;>wasted </mark><mark style=background-color:#f5f7f3;font-size:20px;>moments </mark><mark style=background-color:#f8f5f6;font-size:20px;> </mark><mark style=background-color:#f1f6ea;font-size:20px;> </mark><mark style=background-color:#f6f7f5;font-size:20px;> </mark><mark style=background-color:#f5f7f3;font-size:20px;> </mark><mark style=background-color:#f3f7ef;font-size:20px;> </mark><mark style=background-color:#fce5f1;font-size:20px;> </mark><mark style=background-color:#f1f6e8;font-size:20px;> </mark><mark style=background-color:#f9eef4;font-size:20px;> </mark><mark style=background-color:#fbe8f2;font-size:20px;> </mark><mark style=background-color:#f4f7f0;font-size:20px;> </mark><mark style=background-color:#f8f2f5;font-size:20px;> </mark><mark style=background-color:#eff6e5;font-size:20px;> </mark><mark style=background-color:#f8f5f6;font-size:20px;> </mark><mark style=background-color:#f7f6f7;font-size:20px;> </mark><mark style=background-color:#f5f7f3;font-size:20px;> </mark><mark style=background-color:#f1f6ea;font-size:20px;> </mark><mark style=background-color:#f4f7f0;font-size:20px;> </mark><mark style=background-color:#f8f2f5;font-size:20px;> </mark><mark style=background-color:#f4f7f0;font-size:20px;> </mark><mark style=background-color:#f7f7f7;font-size:20px;> </mark><mark style=background-color:#f4f7f0;font-size:20px;> </mark><mark style=background-color:#f4f7f0;font-size:20px;> </mark><mark style=background-color:#f5f7f2;font-size:20px;> </mark><mark style=background-color:#f8f5f6;font-size:20px;> </mark><mark style=background-color:#f2f6ec;font-size:20px;> </mark><mark style=background-color:#f8f4f6;font-size:20px;> </mark><mark style=background-color:#f1f6e8;font-size:20px;> </mark><mark style=background-color:#f1f6ea;font-size:20px;> </mark><mark style=background-color:#f1f6e8;font-size:20px;> </mark><mark style=background-color:#f5f7f3;font-size:20px;> </mark><mark style=background-color:#f5f7f3;font-size:20px;> </mark><mark style=background-color:#f8f2f5;font-size:20px;> </mark><mark style=background-color:#f8f2f5;font-size:20px;> </mark><mark style=background-color:#f9eef4;font-size:20px;> </mark><mark style=background-color:#f9eff4;font-size:20px;> </mark><mark style=background-color:#f0f6e7;font-size:20px;> </mark><mark style=background-color:#ecf6de;font-size:20px;> </mark><mark style=background-color:#f8f5f6;font-size:20px;> </mark><mark style=background-color:#f8f4f6;font-size:20px;> </mark><mark style=background-color:#f3f6ed;font-size:20px;> </mark><mark style=background-color:#f8f2f5;font-size:20px;> </mark><mark style=background-color:#f9f1f5;font-size:20px;> </mark><mark style=background-color:#f7f6f7;font-size:20px;> </mark><mark style=background-color:#f2f6ec;font-size:20px;> </mark><mark style=background-color:#f7f6f7;font-size:20px;> </mark><mark style=background-color:#f6f7f5;font-size:20px;> </mark><mark style=background-color:#f8f5f6;font-size:20px;> </mark><mark style=background-color:#f3f6ed;font-size:20px;> </mark><mark style=background-color:#f9f1f5;font-size:20px;> </mark><mark style=background-color:#faecf3;font-size:20px;> </mark><mark style=background-color:#f3f6ed;font-size:20px;> </mark><mark style=background-color:#f9f0f5;font-size:20px;> </mark><mark style=background-color:#f7f6f7;font-size:20px;> </mark><mark style=background-color:#f9eef4;font-size:20px;> </mark><mark style=background-color:#f8f2f5;font-size:20px;> </mark><mark style=background-color:#eff6e4;font-size:20px;> </mark><mark style=background-color:#f3f7ef;font-size:20px;> </mark><mark style=background-color:#f8f4f6;font-size:20px;> </mark><mark style=background-color:#f4f7f0;font-size:20px;> </mark><mark style=background-color:#f8f2f5;font-size:20px;> </mark><mark style=background-color:#f3f7ef;font-size:20px;> </mark><mark style=background-color:#f4f7f0;font-size:20px;> </mark><mark style=background-color:#f1f6e8;font-size:20px;> </mark><mark style=background-color:#f9f1f5;font-size:20px;> </mark><mark style=background-color:#f7f7f6;font-size:20px;> </mark><mark style=background-color:#f6f7f5;font-size:20px;> </mark><mark style=background-color:#faecf3;font-size:20px;> </mark><mark style=background-color:#f7f7f7;font-size:20px;> </mark><mark style=background-color:#f9f0f5;font-size:20px;> </mark><mark style=background-color:#eff6e4;font-size:20px;> </mark><mark style=background-color:#f4f7f0;font-size:20px;> </mark><mark style=background-color:#f4f7f0;font-size:20px;> </mark><mark style=background-color:#f8f5f6;font-size:20px;> </mark><mark style=background-color:#f7f6f7;font-size:20px;> </mark><mark style=background-color:#f5f7f3;font-size:20px;> </mark><mark style=background-color:#f4f7f0;font-size:20px;> </mark><mark style=background-color:#faeaf2;font-size:20px;> </mark><mark style=background-color:#f1f6ea;font-size:20px;> </mark><mark style=background-color:#f1f6ea;font-size:20px;> </mark><mark style=background-color:#eff6e4;font-size:20px;> </mark><mark style=background-color:#f2f6ec;font-size:20px;> </mark><mark style=background-color:#f9f1f5;font-size:20px;> </mark><mark style=background-color:#f8f2f5;font-size:20px;> </mark><mark style=background-color:#f6f7f5;font-size:20px;> </mark><mark style=background-color:#f4f7f0;font-size:20px;> </mark><mark style=background-color:#f1f6ea;font-size:20px;> </mark><mark style=background-color:#faedf3;font-size:20px;> </mark><mark style=background-color:#f3f7ef;font-size:20px;> </mark><mark style=background-color:#f5f7f2;font-size:20px;> </mark><mark style=background-color:#fbe6f1;font-size:20px;> </mark><mark style=background-color:#eff6e5;font-size:20px;> </mark><mark style=background-color:#f5f7f2;font-size:20px;> </mark><mark style=background-color:#f3f7ef;font-size:20px;> </mark><mark style=background-color:#f9eff4;font-size:20px;> </mark><mark style=background-color:#edf6df;font-size:20px;> </mark><mark style=background-color:#f4f7f0;font-size:20px;> </mark><mark style=background-color:#edf6e1;font-size:20px;> </mark><mark style=background-color:#f6f7f5;font-size:20px;> </mark><mark style=background-color:#f8f2f5;font-size:20px;> </mark><mark style=background-color:#f5f7f2;font-size:20px;> </mark><mark style=background-color:#f1f6e8;font-size:20px;> </mark><mark style=background-color:#f5f7f3;font-size:20px;> </mark><mark style=background-color:#f3f7ef;font-size:20px;> </mark><mark style=background-color:#f6f7f5;font-size:20px;> </mark><mark style=background-color:#f2f6ec;font-size:20px;> </mark><mark style=background-color:#f3f7ef;font-size:20px;> </mark><mark style=background-color:#f1f6e8;font-size:20px;> </mark><mark style=background-color:#f7f6f7;font-size:20px;> </mark><mark style=background-color:#f7f7f6;font-size:20px;> </mark><mark style=background-color:#edf6df;font-size:20px;> </mark><mark style=background-color:#f1f6e8;font-size:20px;> </mark><mark style=background-color:#f4f7f0;font-size:20px;> </mark><mark style=background-color:#f9f1f5;font-size:20px;> </mark><mark style=background-color:#f6f7f5;font-size:20px;> </mark><mark style=background-color:#f3f7ef;font-size:20px;> </mark><mark style=background-color:#f7f7f7;font-size:20px;> </mark><mark style=background-color:#f6f7f5;font-size:20px;> </mark><mark style=background-color:#f1f6e8;font-size:20px;> </mark><mark style=background-color:#f7f7f7;font-size:20px;> </mark><mark style=background-color:#edf6df;font-size:20px;> </mark><mark style=background-color:#f7f7f6;font-size:20px;> </mark><mark style=background-color:#f8f5f6;font-size:20px;> </mark><mark style=background-color:#f7f7f7;font-size:20px;> </mark><mark style=background-color:#f3f7ef;font-size:20px;> </mark><mark style=background-color:#f5f7f2;font-size:20px;> </mark><mark style=background-color:#f5f7f2;font-size:20px;> </mark><mark style=background-color:#f7f7f6;font-size:20px;> </mark><mark style=background-color:#f2f6ec;font-size:20px;> </mark><mark style=background-color:#f4f7f0;font-size:20px;> </mark><mark style=background-color:#f8f4f6;font-size:20px;> </mark><mark style=background-color:#f3f7ef;font-size:20px;> </mark><mark style=background-color:#f6f7f5;font-size:20px;> </mark><mark style=background-color:#edf6e1;font-size:20px;> </mark><mark style=background-color:#f7f7f6;font-size:20px;> </mark><mark style=background-color:#f1f6e8;font-size:20px;> </mark><mark style=background-color:#f2f6ec;font-size:20px;> </mark><mark style=background-color:#eff6e4;font-size:20px;> </mark><mark style=background-color:#f9eef4;font-size:20px;> </mark><mark style=background-color:#f4f7f0;font-size:20px;> </mark><mark style=background-color:#f7f7f6;font-size:20px;> </mark><mark style=background-color:#f7f7f7;font-size:20px;> </mark><mark style=background-color:#f8f5f6;font-size:20px;> </mark><mark style=background-color:#f5f7f2;font-size:20px;> </mark><mark style=background-color:#f8f4f6;font-size:20px;> </mark><mark style=background-color:#f8f5f6;font-size:20px;> </mark><mark style=background-color:#f7f6f7;font-size:20px;> </mark><mark style=background-color:#eff6e4;font-size:20px;> </mark><mark style=background-color:#f5f7f2;font-size:20px;> </mark><mark style=background-color:#f3f6ed;font-size:20px;> </mark><mark style=background-color:#f9f1f5;font-size:20px;> </mark><mark style=background-color:#f7f6f7;font-size:20px;> </mark><mark style=background-color:#f9eef4;font-size:20px;> </mark><mark style=background-color:#f8f4f6;font-size:20px;> </mark><mark style=background-color:#f5f7f3;font-size:20px;> </mark><mark style=background-color:#f3f6ed;font-size:20px;> </mark><mark style=background-color:#f8f5f6;font-size:20px;> </mark><mark style=background-color:#f3f7ef;font-size:20px;> </mark><mark style=background-color:#f5f7f2;font-size:20px;> </mark><mark style=background-color:#eff6e5;font-size:20px;> </mark><mark style=background-color:#f8f3f6;font-size:20px;> </mark><mark style=background-color:#f2f6ec;font-size:20px;> </mark><mark style=background-color:#f4f7f0;font-size:20px;> </mark><mark style=background-color:#f9f0f5;font-size:20px;> </mark><mark style=background-color:#eff6e4;font-size:20px;> </mark><mark style=background-color:#eef6e2;font-size:20px;> </mark><mark style=background-color:#f5f7f2;font-size:20px;> </mark><mark style=background-color:#f3f6ed;font-size:20px;> </mark><mark style=background-color:#f7f6f7;font-size:20px;> </mark><mark style=background-color:#f8f4f6;font-size:20px;> </mark><mark style=background-color:#eff6e5;font-size:20px;> </mark><mark style=background-color:#faebf3;font-size:20px;> </mark><mark style=background-color:#f7f6f7;font-size:20px;> </mark><mark style=background-color:#f7f7f6;font-size:20px;> </mark><mark style=background-color:#f8f4f6;font-size:20px;> </mark><mark style=background-color:#f3f6ed;font-size:20px;> </mark><mark style=background-color:#f5f7f2;font-size:20px;> </mark><mark style=background-color:#f7f7f6;font-size:20px;> </mark><mark style=background-color:#eff6e5;font-size:20px;> </mark><mark style=background-color:#f5f7f3;font-size:20px;> </mark><mark style=background-color:#f2f6ec;font-size:20px;> </mark><mark style=background-color:#f8f4f6;font-size:20px;> </mark><mark style=background-color:#f5f7f3;font-size:20px;> </mark>"
      ],
      "text/plain": [
       "<IPython.core.display.HTML object>"
      ]
     },
     "metadata": {},
     "output_type": "display_data"
    },
    {
     "name": "stdout",
     "output_type": "stream",
     "text": [
      "\n",
      " [ 4.60300967e-02 -1.04106283e-02  8.84403195e-03  1.34048425e-02\n",
      "  7.66458139e-02 -1.25000766e-02  1.28937624e-02 -2.97341123e-03\n",
      "  9.99208167e-03  4.74661402e-02 -6.76601753e-03 -6.54596239e-02\n",
      "  2.17843987e-03 -3.44785862e-03 -4.99171996e-03 -5.16882166e-02\n",
      " -1.44263968e-01  2.26204004e-03 -3.12584476e-03  9.81586240e-03\n",
      "  2.04854924e-03  2.57192133e-03  6.25096541e-03 -2.34104935e-02\n",
      "  1.07317157e-02 -1.06300768e-02 -1.84645616e-02  4.80670063e-03\n",
      " -5.80090377e-03  1.25485230e-02 -2.72995746e-03 -1.35678111e-03\n",
      "  2.69059371e-03  9.21112858e-03  4.95491922e-03 -6.26224745e-03\n",
      "  5.22570731e-03 -9.27028945e-04  5.49018104e-03  5.31085767e-03\n",
      "  4.07042680e-03 -2.30600918e-03  8.22982565e-03 -3.64706945e-03\n",
      "  1.10512823e-02  9.84040648e-03  1.11406250e-02  2.46915361e-03\n",
      "  2.58845882e-03 -6.52008690e-03 -6.12287270e-03 -1.06442329e-02\n",
      " -9.36746411e-03  1.15054119e-02  1.83795374e-02 -2.60325987e-03\n",
      " -3.45270988e-03  6.91198558e-03 -6.35067187e-03 -7.07935216e-03\n",
      " -1.85783044e-03  8.74538347e-03 -1.81188458e-03  1.38963293e-03\n",
      " -2.97687761e-03  7.38162454e-03 -7.81120686e-03 -1.35696055e-02\n",
      "  6.82552811e-03 -8.54952447e-03 -1.54085341e-03 -1.09750219e-02\n",
      " -6.36584871e-03  1.38346814e-02  5.80598228e-03 -4.17350978e-03\n",
      "  4.79930080e-03 -6.46092137e-03  6.26242999e-03  5.48204500e-03\n",
      "  1.02980537e-02 -7.45084276e-03  3.12795397e-04  1.99280120e-03\n",
      " -1.35537731e-02 -2.48808414e-04 -8.62766616e-03  1.46327754e-02\n",
      "  5.53008262e-03  5.47085330e-03 -3.27751273e-03 -1.92788430e-03\n",
      "  2.65670335e-03  5.11688832e-03 -1.57843176e-02  9.68697015e-03\n",
      "  9.67151392e-03  1.44557636e-02  8.49458389e-03 -6.86340686e-03\n",
      " -5.83174359e-03  1.55995856e-03  5.36785182e-03  9.36137140e-03\n",
      " -1.34490598e-02  6.62778364e-03  4.14941180e-03 -2.07233764e-02\n",
      "  1.28779411e-02  3.79502680e-03  6.57976093e-03 -9.42999125e-03\n",
      "  1.78085640e-02  4.78199450e-03  1.65518895e-02  1.61910849e-03\n",
      " -6.08509965e-03  3.50242853e-03  1.09842056e-02  2.72975885e-03\n",
      "  5.77721559e-03  1.82364695e-03  8.72138608e-03  5.87559585e-03\n",
      "  1.11944135e-02 -1.60947954e-03  4.19265591e-04  1.78740099e-02\n",
      "  1.03727235e-02  5.08514605e-03 -7.79396947e-03  2.08122469e-03\n",
      "  6.15669088e-03 -6.61129132e-04  1.78029365e-03  1.07170064e-02\n",
      " -7.96068460e-04  1.72932670e-02  6.95367344e-04 -2.27557635e-03\n",
      " -8.85807676e-05  5.86781790e-03  3.90941650e-03  4.29662317e-03\n",
      "  2.73803482e-04  8.71736184e-03  4.59871441e-03 -3.92857101e-03\n",
      "  6.44178875e-03  1.61861023e-03  1.59202889e-02  5.77131752e-04\n",
      "  1.02815684e-02  8.72085243e-03  1.37612522e-02 -1.09509388e-02\n",
      "  4.81564552e-03  1.99796632e-04 -5.85579779e-04 -3.35272122e-03\n",
      "  3.61565826e-03 -3.40998266e-03 -2.95158825e-03 -1.91676314e-03\n",
      "  1.46267992e-02  4.45892010e-03  7.52058625e-03 -7.27533130e-03\n",
      " -1.46173872e-03 -1.13182906e-02 -4.36476059e-03  2.38033873e-03\n",
      "  7.34684616e-03 -2.58852798e-03  5.74517716e-03  4.09270590e-03\n",
      "  1.24531705e-02 -5.31213917e-03  8.82037170e-03  5.43407351e-03\n",
      " -8.02271161e-03  1.40260505e-02  1.46522513e-02  4.10406478e-03\n",
      "  6.94136880e-03 -1.39089930e-03 -3.48290661e-03  1.34830046e-02\n",
      " -1.47075830e-02 -1.53893931e-03  2.98244413e-04 -3.71506065e-03\n",
      "  6.82508899e-03  3.38212680e-03  9.23883636e-06  1.25260204e-02\n",
      "  2.61887955e-03  8.12151376e-03 -4.12805472e-03  3.36088589e-03]\n",
      "----------------------------------------\n",
      "input sentence: [\"I don't know why I like this movie so well, but I never get tired of watching it.\"]\n",
      "\n",
      "Actual Label: 1,  Predicted label: [[0.89934266]]\n"
     ]
    },
    {
     "data": {
      "text/html": [
       "<mark style=background-color:#77b53c;font-size:20px;>[START] </mark><mark style=background-color:#f7f7f7;font-size:20px;>i </mark><mark style=background-color:#fde0ef;font-size:20px;>dont </mark><mark style=background-color:#edf6df;font-size:20px;>know </mark><mark style=background-color:#f0b2d7;font-size:20px;>why </mark><mark style=background-color:#f9eef4;font-size:20px;>i </mark><mark style=background-color:#f1f6e8;font-size:20px;>like </mark><mark style=background-color:#faebf3;font-size:20px;>this </mark><mark style=background-color:#f7cce5;font-size:20px;>movie </mark><mark style=background-color:#f1f6e8;font-size:20px;>so </mark><mark style=background-color:#276419;font-size:20px;>well </mark><mark style=background-color:#f7f7f6;font-size:20px;>but </mark><mark style=background-color:#f3f6ed;font-size:20px;>i </mark><mark style=background-color:#ecf6de;font-size:20px;>never </mark><mark style=background-color:#e9f5d8;font-size:20px;>get </mark><mark style=background-color:#eba3cd;font-size:20px;>tired </mark><mark style=background-color:#faecf3;font-size:20px;>of </mark><mark style=background-color:#f9d1e8;font-size:20px;>watching </mark><mark style=background-color:#ecf6de;font-size:20px;>it </mark><mark style=background-color:#f0f6e7;font-size:20px;> </mark><mark style=background-color:#f6f7f5;font-size:20px;> </mark><mark style=background-color:#f5f7f2;font-size:20px;> </mark><mark style=background-color:#f3f6ed;font-size:20px;> </mark><mark style=background-color:#fde0ef;font-size:20px;> </mark><mark style=background-color:#eff6e5;font-size:20px;> </mark><mark style=background-color:#faecf3;font-size:20px;> </mark><mark style=background-color:#fce5f1;font-size:20px;> </mark><mark style=background-color:#f4f7f0;font-size:20px;> </mark><mark style=background-color:#f9f1f5;font-size:20px;> </mark><mark style=background-color:#eef6e2;font-size:20px;> </mark><mark style=background-color:#f8f4f6;font-size:20px;> </mark><mark style=background-color:#f7f6f7;font-size:20px;> </mark><mark style=background-color:#f5f7f3;font-size:20px;> </mark><mark style=background-color:#f0f6e7;font-size:20px;> </mark><mark style=background-color:#f3f7ef;font-size:20px;> </mark><mark style=background-color:#f9f0f5;font-size:20px;> </mark><mark style=background-color:#f4f7f0;font-size:20px;> </mark><mark style=background-color:#f7f6f7;font-size:20px;> </mark><mark style=background-color:#f3f7ef;font-size:20px;> </mark><mark style=background-color:#f3f7ef;font-size:20px;> </mark><mark style=background-color:#f4f7f0;font-size:20px;> </mark><mark style=background-color:#f8f5f6;font-size:20px;> </mark><mark style=background-color:#f1f6ea;font-size:20px;> </mark><mark style=background-color:#f8f3f6;font-size:20px;> </mark><mark style=background-color:#eff6e5;font-size:20px;> </mark><mark style=background-color:#f1f6e8;font-size:20px;> </mark><mark style=background-color:#eff6e4;font-size:20px;> </mark><mark style=background-color:#f5f7f3;font-size:20px;> </mark><mark style=background-color:#f5f7f3;font-size:20px;> </mark><mark style=background-color:#f9f1f5;font-size:20px;> </mark><mark style=background-color:#f9f1f5;font-size:20px;> </mark><mark style=background-color:#faedf3;font-size:20px;> </mark><mark style=background-color:#f9eef4;font-size:20px;> </mark><mark style=background-color:#eff6e4;font-size:20px;> </mark><mark style=background-color:#eaf5d9;font-size:20px;> </mark><mark style=background-color:#f8f4f6;font-size:20px;> </mark><mark style=background-color:#f8f3f6;font-size:20px;> </mark><mark style=background-color:#f3f6ed;font-size:20px;> </mark><mark style=background-color:#f9f0f5;font-size:20px;> </mark><mark style=background-color:#f9eff4;font-size:20px;> </mark><mark style=background-color:#f8f5f6;font-size:20px;> </mark><mark style=background-color:#f1f6ea;font-size:20px;> </mark><mark style=background-color:#f8f5f6;font-size:20px;> </mark><mark style=background-color:#f6f7f5;font-size:20px;> </mark><mark style=background-color:#f8f4f6;font-size:20px;> </mark><mark style=background-color:#f2f6ec;font-size:20px;> </mark><mark style=background-color:#f9eef4;font-size:20px;> </mark><mark style=background-color:#fbe9f2;font-size:20px;> </mark><mark style=background-color:#f2f6ec;font-size:20px;> </mark><mark style=background-color:#f9eef4;font-size:20px;> </mark><mark style=background-color:#f7f6f7;font-size:20px;> </mark><mark style=background-color:#faecf3;font-size:20px;> </mark><mark style=background-color:#f9f0f5;font-size:20px;> </mark><mark style=background-color:#edf6df;font-size:20px;> </mark><mark style=background-color:#f3f6ed;font-size:20px;> </mark><mark style=background-color:#f8f3f6;font-size:20px;> </mark><mark style=background-color:#f4f7f0;font-size:20px;> </mark><mark style=background-color:#f9f0f5;font-size:20px;> </mark><mark style=background-color:#f3f6ed;font-size:20px;> </mark><mark style=background-color:#f3f7ef;font-size:20px;> </mark><mark style=background-color:#eff6e5;font-size:20px;> </mark><mark style=background-color:#f9eff4;font-size:20px;> </mark><mark style=background-color:#f7f7f6;font-size:20px;> </mark><mark style=background-color:#f5f7f3;font-size:20px;> </mark><mark style=background-color:#faeaf2;font-size:20px;> </mark><mark style=background-color:#f7f7f7;font-size:20px;> </mark><mark style=background-color:#f9eef4;font-size:20px;> </mark><mark style=background-color:#edf6df;font-size:20px;> </mark><mark style=background-color:#f3f7ef;font-size:20px;> </mark><mark style=background-color:#f3f7ef;font-size:20px;> </mark><mark style=background-color:#f8f4f6;font-size:20px;> </mark><mark style=background-color:#f8f5f6;font-size:20px;> </mark><mark style=background-color:#f5f7f3;font-size:20px;> </mark><mark style=background-color:#f3f7ef;font-size:20px;> </mark><mark style=background-color:#fbe7f2;font-size:20px;> </mark><mark style=background-color:#f0f6e7;font-size:20px;> </mark><mark style=background-color:#f0f6e7;font-size:20px;> </mark><mark style=background-color:#ecf6de;font-size:20px;> </mark><mark style=background-color:#f1f6e8;font-size:20px;> </mark><mark style=background-color:#f9f0f5;font-size:20px;> </mark><mark style=background-color:#f9f1f5;font-size:20px;> </mark><mark style=background-color:#f6f7f5;font-size:20px;> </mark><mark style=background-color:#f3f7ef;font-size:20px;> </mark><mark style=background-color:#f0f6e7;font-size:20px;> </mark><mark style=background-color:#fbe8f2;font-size:20px;> </mark><mark style=background-color:#f3f6ed;font-size:20px;> </mark><mark style=background-color:#f4f7f0;font-size:20px;> </mark><mark style=background-color:#fde2f0;font-size:20px;> </mark><mark style=background-color:#eef6e2;font-size:20px;> </mark><mark style=background-color:#f5f7f2;font-size:20px;> </mark><mark style=background-color:#f3f6ed;font-size:20px;> </mark><mark style=background-color:#f9eef4;font-size:20px;> </mark><mark style=background-color:#eaf5d9;font-size:20px;> </mark><mark style=background-color:#f3f7ef;font-size:20px;> </mark><mark style=background-color:#ebf6db;font-size:20px;> </mark><mark style=background-color:#f6f7f5;font-size:20px;> </mark><mark style=background-color:#f9f0f5;font-size:20px;> </mark><mark style=background-color:#f5f7f2;font-size:20px;> </mark><mark style=background-color:#eff6e4;font-size:20px;> </mark><mark style=background-color:#f6f7f5;font-size:20px;> </mark><mark style=background-color:#f3f7ef;font-size:20px;> </mark><mark style=background-color:#f6f7f5;font-size:20px;> </mark><mark style=background-color:#f1f6e8;font-size:20px;> </mark><mark style=background-color:#f3f6ed;font-size:20px;> </mark><mark style=background-color:#eff6e5;font-size:20px;> </mark><mark style=background-color:#f7f6f7;font-size:20px;> </mark><mark style=background-color:#f7f7f6;font-size:20px;> </mark><mark style=background-color:#eaf5d9;font-size:20px;> </mark><mark style=background-color:#eff6e5;font-size:20px;> </mark><mark style=background-color:#f3f7ef;font-size:20px;> </mark><mark style=background-color:#f9eef4;font-size:20px;> </mark><mark style=background-color:#f5f7f3;font-size:20px;> </mark><mark style=background-color:#f3f6ed;font-size:20px;> </mark><mark style=background-color:#f7f7f7;font-size:20px;> </mark><mark style=background-color:#f6f7f5;font-size:20px;> </mark><mark style=background-color:#eff6e5;font-size:20px;> </mark><mark style=background-color:#f7f6f7;font-size:20px;> </mark><mark style=background-color:#eaf5d9;font-size:20px;> </mark><mark style=background-color:#f7f7f6;font-size:20px;> </mark><mark style=background-color:#f8f5f6;font-size:20px;> </mark><mark style=background-color:#f7f7f7;font-size:20px;> </mark><mark style=background-color:#f3f7ef;font-size:20px;> </mark><mark style=background-color:#f4f7f0;font-size:20px;> </mark><mark style=background-color:#f4f7f0;font-size:20px;> </mark><mark style=background-color:#f7f7f6;font-size:20px;> </mark><mark style=background-color:#f1f6e8;font-size:20px;> </mark><mark style=background-color:#f4f7f0;font-size:20px;> </mark><mark style=background-color:#f8f3f6;font-size:20px;> </mark><mark style=background-color:#f3f6ed;font-size:20px;> </mark><mark style=background-color:#f6f7f5;font-size:20px;> </mark><mark style=background-color:#ebf6dc;font-size:20px;> </mark><mark style=background-color:#f7f7f6;font-size:20px;> </mark><mark style=background-color:#eff6e5;font-size:20px;> </mark><mark style=background-color:#f1f6e8;font-size:20px;> </mark><mark style=background-color:#edf6e1;font-size:20px;> </mark><mark style=background-color:#faecf3;font-size:20px;> </mark><mark style=background-color:#f4f7f0;font-size:20px;> </mark><mark style=background-color:#f7f7f7;font-size:20px;> </mark><mark style=background-color:#f7f6f7;font-size:20px;> </mark><mark style=background-color:#f8f4f6;font-size:20px;> </mark><mark style=background-color:#f5f7f2;font-size:20px;> </mark><mark style=background-color:#f8f3f6;font-size:20px;> </mark><mark style=background-color:#f8f4f6;font-size:20px;> </mark><mark style=background-color:#f7f6f7;font-size:20px;> </mark><mark style=background-color:#ecf6de;font-size:20px;> </mark><mark style=background-color:#f4f7f0;font-size:20px;> </mark><mark style=background-color:#f1f6ea;font-size:20px;> </mark><mark style=background-color:#f9eff4;font-size:20px;> </mark><mark style=background-color:#f7f6f7;font-size:20px;> </mark><mark style=background-color:#faecf3;font-size:20px;> </mark><mark style=background-color:#f8f3f6;font-size:20px;> </mark><mark style=background-color:#f5f7f3;font-size:20px;> </mark><mark style=background-color:#f1f6ea;font-size:20px;> </mark><mark style=background-color:#f8f4f6;font-size:20px;> </mark><mark style=background-color:#f3f7ef;font-size:20px;> </mark><mark style=background-color:#f4f7f0;font-size:20px;> </mark><mark style=background-color:#eef6e2;font-size:20px;> </mark><mark style=background-color:#f8f2f5;font-size:20px;> </mark><mark style=background-color:#f1f6e8;font-size:20px;> </mark><mark style=background-color:#f3f7ef;font-size:20px;> </mark><mark style=background-color:#faedf3;font-size:20px;> </mark><mark style=background-color:#edf6df;font-size:20px;> </mark><mark style=background-color:#edf6df;font-size:20px;> </mark><mark style=background-color:#f4f7f0;font-size:20px;> </mark><mark style=background-color:#f2f6ec;font-size:20px;> </mark><mark style=background-color:#f7f6f7;font-size:20px;> </mark><mark style=background-color:#f8f4f6;font-size:20px;> </mark><mark style=background-color:#edf6e1;font-size:20px;> </mark><mark style=background-color:#fbe8f2;font-size:20px;> </mark><mark style=background-color:#f7f6f7;font-size:20px;> </mark><mark style=background-color:#f7f7f6;font-size:20px;> </mark><mark style=background-color:#f8f3f6;font-size:20px;> </mark><mark style=background-color:#f3f6ed;font-size:20px;> </mark><mark style=background-color:#f5f7f2;font-size:20px;> </mark><mark style=background-color:#f7f7f7;font-size:20px;> </mark><mark style=background-color:#edf6e1;font-size:20px;> </mark><mark style=background-color:#f5f7f3;font-size:20px;> </mark><mark style=background-color:#f1f6e8;font-size:20px;> </mark><mark style=background-color:#f8f3f6;font-size:20px;> </mark><mark style=background-color:#f5f7f2;font-size:20px;> </mark>"
      ],
      "text/plain": [
       "<IPython.core.display.HTML object>"
      ]
     },
     "metadata": {},
     "output_type": "display_data"
    },
    {
     "name": "stdout",
     "output_type": "stream",
     "text": [
      "\n",
      " [ 1.71817392e-01 -5.71286771e-04 -5.44223934e-02  3.23808007e-02\n",
      " -1.11971691e-01 -2.24713106e-02  2.12970227e-02 -2.92512327e-02\n",
      " -7.98016265e-02  2.00828202e-02  2.73068100e-01  2.05234624e-03\n",
      "  1.32103059e-02  3.51138227e-02  4.41553146e-02 -1.25486016e-01\n",
      " -2.62632594e-02 -7.42614418e-02  3.42319980e-02  2.26704199e-02\n",
      "  3.68045550e-03  6.56978693e-03  1.35836191e-02 -5.48043028e-02\n",
      "  2.41151229e-02 -2.62118224e-02 -4.34014574e-02  1.04578845e-02\n",
      " -1.47314407e-02  2.79542040e-02 -6.80345204e-03 -3.39937746e-03\n",
      "  6.14203140e-03  2.14153752e-02  1.16647352e-02 -1.55122951e-02\n",
      "  1.03955446e-02 -2.83376127e-03  1.17222015e-02  1.20101320e-02\n",
      "  9.22487117e-03 -5.74030261e-03  1.83459446e-02 -8.72820057e-03\n",
      "  2.50607524e-02  2.10043415e-02  2.58879326e-02  6.09423686e-03\n",
      "  4.86804638e-03 -1.48471640e-02 -1.39113050e-02 -2.54509840e-02\n",
      " -2.22842675e-02  2.60690004e-02  4.24381420e-02 -6.56325929e-03\n",
      " -9.41076688e-03  1.48571031e-02 -1.50947897e-02 -1.73107106e-02\n",
      " -4.66646906e-03  1.90366395e-02 -4.57122317e-03  3.29369586e-03\n",
      " -7.82433897e-03  1.67243052e-02 -1.94565654e-02 -3.38785313e-02\n",
      "  1.59353130e-02 -2.04359703e-02 -4.07070713e-03 -2.62451358e-02\n",
      " -1.59498397e-02  3.27902213e-02  1.36536956e-02 -1.05661275e-02\n",
      "  1.00883488e-02 -1.53352544e-02  1.38002783e-02  1.19041204e-02\n",
      "  2.45818365e-02 -1.75794885e-02  4.09355387e-04  4.43897676e-03\n",
      " -3.18799317e-02 -1.36054493e-03 -2.04975009e-02  3.38724814e-02\n",
      "  1.26406495e-02  1.24484412e-02 -8.15228187e-03 -5.87608572e-03\n",
      "  6.02962635e-03  1.09465104e-02 -3.72357480e-02  2.16485523e-02\n",
      "  2.29738243e-02  3.42570245e-02  1.93117224e-02 -1.62479337e-02\n",
      " -1.36538092e-02  2.96485005e-03  1.17535256e-02  2.20098272e-02\n",
      " -3.45989093e-02  1.45326154e-02  9.70462710e-03 -5.03710844e-02\n",
      "  2.93200742e-02  7.88609497e-03  1.48231220e-02 -2.29037404e-02\n",
      "  4.06879038e-02  1.07121496e-02  3.88111770e-02  2.92179640e-03\n",
      " -1.54576637e-02  7.36916345e-03  2.58826241e-02  2.90075783e-03\n",
      "  1.26105007e-02  3.90085205e-03  1.94539130e-02  1.30304648e-02\n",
      "  2.42669098e-02 -4.22305986e-03  6.10260293e-04  4.18774784e-02\n",
      "  2.38284133e-02  1.15071312e-02 -1.92279592e-02  4.61803377e-03\n",
      "  1.34921353e-02 -1.74343167e-03  3.66505142e-03  2.40929648e-02\n",
      " -2.23276578e-03  4.18958664e-02  1.59223191e-03 -5.92074450e-03\n",
      " -8.88536219e-04  1.21853435e-02  9.55792237e-03  9.36706364e-03\n",
      "  5.31859230e-04  2.05669254e-02  1.06148506e-02 -9.55253467e-03\n",
      "  1.39556695e-02  4.15774062e-03  3.66776213e-02  1.25254784e-03\n",
      "  2.40220334e-02  1.98213160e-02  3.15303467e-02 -2.56626233e-02\n",
      "  1.04744993e-02 -5.36162406e-05 -3.46409529e-03 -8.07061978e-03\n",
      "  6.74754754e-03 -8.75890348e-03 -7.20610563e-03 -4.24933061e-03\n",
      "  3.60745117e-02  1.05140759e-02  1.71528012e-02 -1.75949242e-02\n",
      " -4.24375478e-03 -2.62939967e-02 -1.00611821e-02  4.64123627e-03\n",
      "  1.74532048e-02 -8.28227587e-03  1.25541221e-02  8.96021724e-03\n",
      "  2.86942292e-02 -1.25600994e-02  2.09385678e-02  1.21832006e-02\n",
      " -2.40985267e-02  3.20096277e-02  3.35699357e-02  8.89936648e-03\n",
      "  1.58761796e-02 -2.97018699e-03 -8.49207025e-03  3.01865563e-02\n",
      " -3.61580625e-02 -3.62851843e-03  1.50747411e-03 -8.81079584e-03\n",
      "  1.44493002e-02  8.37594271e-03 -1.10861170e-03  2.99443044e-02\n",
      "  5.84740983e-03  1.94154754e-02 -1.01210456e-02  7.90667348e-03]\n",
      "----------------------------------------\n",
      "input sentence: ['The film lacked depth, with weak characters and a confusing plot. It failed to engage, leaving me disappointed and uninterested.']\n",
      "\n",
      "Actual Label: 0,  Predicted label: [[0.01826902]]\n"
     ]
    },
    {
     "data": {
      "text/html": [
       "<mark style=background-color:#8e0152;font-size:20px;>[START] </mark><mark style=background-color:#f7f7f6;font-size:20px;>the </mark><mark style=background-color:#f1f6ea;font-size:20px;>film </mark><mark style=background-color:#faebf3;font-size:20px;>lacked </mark><mark style=background-color:#f9f1f5;font-size:20px;>depth </mark><mark style=background-color:#f7f6f7;font-size:20px;>with </mark><mark style=background-color:#f3bdde;font-size:20px;>weak </mark><mark style=background-color:#f7f7f6;font-size:20px;>characters </mark><mark style=background-color:#f4f7f0;font-size:20px;>and </mark><mark style=background-color:#f1f6ea;font-size:20px;>a </mark><mark style=background-color:#f9d1e8;font-size:20px;>confusing </mark><mark style=background-color:#fce4f0;font-size:20px;>plot </mark><mark style=background-color:#f0f6e7;font-size:20px;>it </mark><mark style=background-color:#e897c4;font-size:20px;>failed </mark><mark style=background-color:#f7f7f6;font-size:20px;>to </mark><mark style=background-color:#f7f7f7;font-size:20px;>engage </mark><mark style=background-color:#f8f2f5;font-size:20px;>leaving </mark><mark style=background-color:#f4f7f0;font-size:20px;>me </mark><mark style=background-color:#dc70aa;font-size:20px;>disappointed </mark><mark style=background-color:#ecf6de;font-size:20px;>and </mark><mark style=background-color:#f1f6e8;font-size:20px;>uninterested </mark><mark style=background-color:#f5f7f3;font-size:20px;> </mark><mark style=background-color:#f4f7f0;font-size:20px;> </mark><mark style=background-color:#faecf3;font-size:20px;> </mark><mark style=background-color:#f2f6ec;font-size:20px;> </mark><mark style=background-color:#f8f2f5;font-size:20px;> </mark><mark style=background-color:#f9eef4;font-size:20px;> </mark><mark style=background-color:#f5f7f2;font-size:20px;> </mark><mark style=background-color:#f8f5f6;font-size:20px;> </mark><mark style=background-color:#f1f6ea;font-size:20px;> </mark><mark style=background-color:#f7f7f7;font-size:20px;> </mark><mark style=background-color:#f7f7f7;font-size:20px;> </mark><mark style=background-color:#f5f7f3;font-size:20px;> </mark><mark style=background-color:#f3f7ef;font-size:20px;> </mark><mark style=background-color:#f5f7f2;font-size:20px;> </mark><mark style=background-color:#f8f4f6;font-size:20px;> </mark><mark style=background-color:#f5f7f2;font-size:20px;> </mark><mark style=background-color:#f7f7f6;font-size:20px;> </mark><mark style=background-color:#f5f7f2;font-size:20px;> </mark><mark style=background-color:#f4f7f0;font-size:20px;> </mark><mark style=background-color:#f5f7f2;font-size:20px;> </mark><mark style=background-color:#f7f7f7;font-size:20px;> </mark><mark style=background-color:#f3f7ef;font-size:20px;> </mark><mark style=background-color:#f7f6f7;font-size:20px;> </mark><mark style=background-color:#f2f6ec;font-size:20px;> </mark><mark style=background-color:#f3f6ed;font-size:20px;> </mark><mark style=background-color:#f2f6ec;font-size:20px;> </mark><mark style=background-color:#f5f7f3;font-size:20px;> </mark><mark style=background-color:#f5f7f3;font-size:20px;> </mark><mark style=background-color:#f8f4f6;font-size:20px;> </mark><mark style=background-color:#f8f5f6;font-size:20px;> </mark><mark style=background-color:#f8f2f5;font-size:20px;> </mark><mark style=background-color:#f8f3f6;font-size:20px;> </mark><mark style=background-color:#f2f6ec;font-size:20px;> </mark><mark style=background-color:#eff6e5;font-size:20px;> </mark><mark style=background-color:#f7f6f7;font-size:20px;> </mark><mark style=background-color:#f7f6f7;font-size:20px;> </mark><mark style=background-color:#f4f7f0;font-size:20px;> </mark><mark style=background-color:#f8f5f6;font-size:20px;> </mark><mark style=background-color:#f8f4f6;font-size:20px;> </mark><mark style=background-color:#f7f7f7;font-size:20px;> </mark><mark style=background-color:#f3f7ef;font-size:20px;> </mark><mark style=background-color:#f7f7f7;font-size:20px;> </mark><mark style=background-color:#f6f7f5;font-size:20px;> </mark><mark style=background-color:#f7f7f7;font-size:20px;> </mark><mark style=background-color:#f4f7f0;font-size:20px;> </mark><mark style=background-color:#f8f4f6;font-size:20px;> </mark><mark style=background-color:#f9f0f5;font-size:20px;> </mark><mark style=background-color:#f4f7f0;font-size:20px;> </mark><mark style=background-color:#f8f3f6;font-size:20px;> </mark><mark style=background-color:#f7f7f7;font-size:20px;> </mark><mark style=background-color:#f8f2f5;font-size:20px;> </mark><mark style=background-color:#f8f4f6;font-size:20px;> </mark><mark style=background-color:#f1f6ea;font-size:20px;> </mark><mark style=background-color:#f4f7f0;font-size:20px;> </mark><mark style=background-color:#f7f6f7;font-size:20px;> </mark><mark style=background-color:#f5f7f2;font-size:20px;> </mark><mark style=background-color:#f8f4f6;font-size:20px;> </mark><mark style=background-color:#f4f7f0;font-size:20px;> </mark><mark style=background-color:#f5f7f2;font-size:20px;> </mark><mark style=background-color:#f3f6ed;font-size:20px;> </mark><mark style=background-color:#f8f4f6;font-size:20px;> </mark><mark style=background-color:#f7f7f6;font-size:20px;> </mark><mark style=background-color:#f6f7f5;font-size:20px;> </mark><mark style=background-color:#f9f1f5;font-size:20px;> </mark><mark style=background-color:#f7f7f6;font-size:20px;> </mark><mark style=background-color:#f8f4f6;font-size:20px;> </mark><mark style=background-color:#f1f6e8;font-size:20px;> </mark><mark style=background-color:#f5f7f2;font-size:20px;> </mark><mark style=background-color:#f4f7f0;font-size:20px;> </mark><mark style=background-color:#f7f6f7;font-size:20px;> </mark><mark style=background-color:#f7f7f7;font-size:20px;> </mark><mark style=background-color:#f5f7f3;font-size:20px;> </mark><mark style=background-color:#f5f7f2;font-size:20px;> </mark><mark style=background-color:#f9eff4;font-size:20px;> </mark><mark style=background-color:#f3f6ed;font-size:20px;> </mark><mark style=background-color:#f3f6ed;font-size:20px;> </mark><mark style=background-color:#f1f6ea;font-size:20px;> </mark><mark style=background-color:#f3f7ef;font-size:20px;> </mark><mark style=background-color:#f8f4f6;font-size:20px;> </mark><mark style=background-color:#f8f5f6;font-size:20px;> </mark><mark style=background-color:#f6f7f5;font-size:20px;> </mark><mark style=background-color:#f5f7f2;font-size:20px;> </mark><mark style=background-color:#f3f6ed;font-size:20px;> </mark><mark style=background-color:#f9f1f5;font-size:20px;> </mark><mark style=background-color:#f4f7f0;font-size:20px;> </mark><mark style=background-color:#f5f7f2;font-size:20px;> </mark><mark style=background-color:#faedf3;font-size:20px;> </mark><mark style=background-color:#f1f6ea;font-size:20px;> </mark><mark style=background-color:#f5f7f3;font-size:20px;> </mark><mark style=background-color:#f4f7f0;font-size:20px;> </mark><mark style=background-color:#f8f3f6;font-size:20px;> </mark><mark style=background-color:#eff6e5;font-size:20px;> </mark><mark style=background-color:#f5f7f2;font-size:20px;> </mark><mark style=background-color:#f0f6e7;font-size:20px;> </mark><mark style=background-color:#f5f7f3;font-size:20px;> </mark><mark style=background-color:#f8f4f6;font-size:20px;> </mark><mark style=background-color:#f5f7f3;font-size:20px;> </mark><mark style=background-color:#f2f6ec;font-size:20px;> </mark><mark style=background-color:#f5f7f3;font-size:20px;> </mark><mark style=background-color:#f5f7f2;font-size:20px;> </mark><mark style=background-color:#f5f7f3;font-size:20px;> </mark><mark style=background-color:#f3f7ef;font-size:20px;> </mark><mark style=background-color:#f5f7f2;font-size:20px;> </mark><mark style=background-color:#f2f6ec;font-size:20px;> </mark><mark style=background-color:#f7f7f6;font-size:20px;> </mark><mark style=background-color:#f7f7f6;font-size:20px;> </mark><mark style=background-color:#eff6e5;font-size:20px;> </mark><mark style=background-color:#f2f6ec;font-size:20px;> </mark><mark style=background-color:#f5f7f2;font-size:20px;> </mark><mark style=background-color:#f8f3f6;font-size:20px;> </mark><mark style=background-color:#f6f7f5;font-size:20px;> </mark><mark style=background-color:#f4f7f0;font-size:20px;> </mark><mark style=background-color:#f7f7f6;font-size:20px;> </mark><mark style=background-color:#f6f7f5;font-size:20px;> </mark><mark style=background-color:#f3f6ed;font-size:20px;> </mark><mark style=background-color:#f7f7f6;font-size:20px;> </mark><mark style=background-color:#f0f6e7;font-size:20px;> </mark><mark style=background-color:#f6f7f5;font-size:20px;> </mark><mark style=background-color:#f7f7f7;font-size:20px;> </mark><mark style=background-color:#f7f7f6;font-size:20px;> </mark><mark style=background-color:#f5f7f2;font-size:20px;> </mark><mark style=background-color:#f5f7f2;font-size:20px;> </mark><mark style=background-color:#f5f7f2;font-size:20px;> </mark><mark style=background-color:#f6f7f5;font-size:20px;> </mark><mark style=background-color:#f3f6ed;font-size:20px;> </mark><mark style=background-color:#f4f7f0;font-size:20px;> </mark><mark style=background-color:#f7f6f7;font-size:20px;> </mark><mark style=background-color:#f4f7f0;font-size:20px;> </mark><mark style=background-color:#f6f7f5;font-size:20px;> </mark><mark style=background-color:#f0f6e7;font-size:20px;> </mark><mark style=background-color:#f7f7f6;font-size:20px;> </mark><mark style=background-color:#f2f6ec;font-size:20px;> </mark><mark style=background-color:#f3f6ed;font-size:20px;> </mark><mark style=background-color:#f1f6ea;font-size:20px;> </mark><mark style=background-color:#f8f2f5;font-size:20px;> </mark><mark style=background-color:#f5f7f2;font-size:20px;> </mark><mark style=background-color:#f6f7f5;font-size:20px;> </mark><mark style=background-color:#f7f7f7;font-size:20px;> </mark><mark style=background-color:#f7f6f7;font-size:20px;> </mark><mark style=background-color:#f5f7f3;font-size:20px;> </mark><mark style=background-color:#f7f6f7;font-size:20px;> </mark><mark style=background-color:#f7f6f7;font-size:20px;> </mark><mark style=background-color:#f7f7f6;font-size:20px;> </mark><mark style=background-color:#f1f6e8;font-size:20px;> </mark><mark style=background-color:#f5f7f2;font-size:20px;> </mark><mark style=background-color:#f3f7ef;font-size:20px;> </mark><mark style=background-color:#f8f4f6;font-size:20px;> </mark><mark style=background-color:#f7f7f6;font-size:20px;> </mark><mark style=background-color:#f8f2f5;font-size:20px;> </mark><mark style=background-color:#f7f6f7;font-size:20px;> </mark><mark style=background-color:#f6f7f5;font-size:20px;> </mark><mark style=background-color:#f3f7ef;font-size:20px;> </mark><mark style=background-color:#f7f6f7;font-size:20px;> </mark><mark style=background-color:#f4f7f0;font-size:20px;> </mark><mark style=background-color:#f5f7f2;font-size:20px;> </mark><mark style=background-color:#f2f6ec;font-size:20px;> </mark><mark style=background-color:#f8f5f6;font-size:20px;> </mark><mark style=background-color:#f3f6ed;font-size:20px;> </mark><mark style=background-color:#f4f7f0;font-size:20px;> </mark><mark style=background-color:#f8f4f6;font-size:20px;> </mark><mark style=background-color:#f1f6e8;font-size:20px;> </mark><mark style=background-color:#f1f6e8;font-size:20px;> </mark><mark style=background-color:#f5f7f2;font-size:20px;> </mark><mark style=background-color:#f3f7ef;font-size:20px;> </mark><mark style=background-color:#f7f7f6;font-size:20px;> </mark><mark style=background-color:#f7f7f7;font-size:20px;> </mark><mark style=background-color:#f1f6ea;font-size:20px;> </mark><mark style=background-color:#f9eff4;font-size:20px;> </mark><mark style=background-color:#f7f7f6;font-size:20px;> </mark><mark style=background-color:#f7f7f6;font-size:20px;> </mark><mark style=background-color:#f7f7f7;font-size:20px;> </mark><mark style=background-color:#f4f7f0;font-size:20px;> </mark><mark style=background-color:#f5f7f3;font-size:20px;> </mark><mark style=background-color:#f7f7f6;font-size:20px;> </mark><mark style=background-color:#f1f6e8;font-size:20px;> </mark><mark style=background-color:#f5f7f3;font-size:20px;> </mark><mark style=background-color:#f3f6ed;font-size:20px;> </mark><mark style=background-color:#f7f6f7;font-size:20px;> </mark><mark style=background-color:#f5f7f3;font-size:20px;> </mark>"
      ],
      "text/plain": [
       "<IPython.core.display.HTML object>"
      ]
     },
     "metadata": {},
     "output_type": "display_data"
    },
    {
     "name": "stdout",
     "output_type": "stream",
     "text": [
      "\n",
      " [-1.02270581e-02  6.97889191e-05  6.49452209e-04 -1.08983484e-03\n",
      " -4.82852105e-04 -9.45262145e-05 -3.69332545e-03  3.81421414e-05\n",
      "  3.80024430e-04  6.98146934e-04 -2.75010569e-03 -1.72234734e-03\n",
      "  8.72801873e-04 -5.07886009e-03  7.10809400e-05 -3.71917849e-05\n",
      " -4.15073562e-04  3.58457852e-04 -6.28505182e-03  1.28117937e-03\n",
      "  7.69221806e-04  1.87969781e-04  3.32463940e-04 -1.02687581e-03\n",
      "  5.65175200e-04 -4.20782133e-04 -7.92625127e-04  2.98262865e-04\n",
      " -2.03224481e-04  6.47930545e-04 -6.60505029e-05 -5.84498775e-06\n",
      "  1.62729761e-04  4.69250430e-04  2.69234704e-04 -2.56235013e-04\n",
      "  3.19044571e-04  1.82451913e-05  2.99584412e-04  3.30811774e-04\n",
      "  2.66899297e-04 -6.79938530e-05  4.23919817e-04 -9.75980947e-05\n",
      "  6.15394558e-04  5.24771283e-04  5.60466025e-04  1.79585855e-04\n",
      "  1.84000921e-04 -2.80211680e-04 -2.25718555e-04 -4.48115374e-04\n",
      " -3.98878154e-04  6.20661478e-04  9.21517261e-04 -8.34914099e-05\n",
      " -1.21422723e-04  3.82338301e-04 -2.13291933e-04 -2.65929091e-04\n",
      " -3.71538044e-05  4.54195018e-04 -2.22172821e-06  1.02271239e-04\n",
      " -7.82237912e-05  3.92263813e-04 -3.05979833e-04 -6.00091065e-04\n",
      "  3.80922691e-04 -3.45407519e-04 -6.36826007e-05 -4.22039971e-04\n",
      " -2.85180897e-04  6.88697852e-04  3.32945405e-04 -1.43446785e-04\n",
      "  2.97330786e-04 -2.55185965e-04  3.51525174e-04  3.06439004e-04\n",
      "  5.40713198e-04 -2.72241450e-04  7.20471726e-05  1.13464921e-04\n",
      " -5.43206697e-04  5.24913776e-05 -3.13921337e-04  7.60683208e-04\n",
      "  2.99975858e-04  3.37581412e-04 -1.12418187e-04 -3.14049394e-05\n",
      "  1.86560457e-04  2.84159527e-04 -6.85661216e-04  5.14524174e-04\n",
      "  5.22012240e-04  7.14682450e-04  4.27082588e-04 -2.40882335e-04\n",
      " -1.94163265e-04  1.14229704e-04  3.08121031e-04  5.21189941e-04\n",
      " -5.32069884e-04  3.53816111e-04  2.52094876e-04 -8.92667216e-04\n",
      "  6.86102256e-04  2.20528964e-04  3.86432715e-04 -3.81664431e-04\n",
      "  8.83921050e-04  2.71399098e-04  8.29681754e-04  1.81929936e-04\n",
      " -2.45896576e-04  2.32771941e-04  6.07592054e-04  1.66418584e-04\n",
      "  2.92180805e-04  1.70181360e-04  4.66114143e-04  3.08770890e-04\n",
      "  5.71121054e-04  3.36061930e-06  7.81624694e-05  9.19300597e-04\n",
      "  5.79519547e-04  3.15991929e-04 -3.65158368e-04  1.55379792e-04\n",
      "  3.70409340e-04  7.67924284e-05  1.43843718e-04  5.24774601e-04\n",
      "  1.18744647e-05  8.52045487e-04  8.74310208e-05 -4.94638516e-05\n",
      "  4.92426116e-05  2.96412327e-04  2.81162938e-04  2.83134752e-04\n",
      "  8.16201646e-05  4.82044707e-04  3.26038542e-04 -1.11274654e-04\n",
      "  3.68693785e-04  1.51045359e-04  8.00438575e-04  7.26002327e-05\n",
      "  6.08577684e-04  4.80174815e-04  6.96114264e-04 -4.63993812e-04\n",
      "  3.15636164e-04  9.31841787e-05 -2.58651562e-06 -8.70052172e-05\n",
      "  1.89324419e-04 -1.00014207e-04 -9.65885120e-05  9.10004019e-07\n",
      "  7.61473901e-04  2.78634194e-04  4.19639080e-04 -2.87233328e-04\n",
      "  1.79890194e-05 -4.27044346e-04 -1.25050166e-04  1.43339901e-04\n",
      "  4.45053360e-04 -8.75778132e-05  3.47797235e-04  2.63426162e-04\n",
      "  6.37199555e-04 -1.77285066e-04  4.99160669e-04  3.22064909e-04\n",
      " -2.92673416e-04  7.27532024e-04  7.36038783e-04  2.46961019e-04\n",
      "  4.29418607e-04  5.58507163e-05 -5.95824240e-05  6.71016751e-04\n",
      " -6.53553987e-04  9.45645297e-06  6.18004851e-05 -5.35816362e-05\n",
      "  3.72483133e-04  2.17158580e-04  7.53006607e-05  7.23042875e-04\n",
      "  1.94173088e-04  4.94081876e-04 -1.25303777e-04  2.11082108e-04]\n",
      "----------------------------------------\n",
      "input sentence: [\"The movie's lackluster plot and uninspired performances didn't leave me impressed.\"]\n",
      "\n",
      "Actual Label: 0,  Predicted label: [[0.06644555]]\n"
     ]
    },
    {
     "data": {
      "text/html": [
       "<mark style=background-color:#fbd9ec;font-size:20px;>[START] </mark><mark style=background-color:#f6f7f5;font-size:20px;>the </mark><mark style=background-color:#eef6e2;font-size:20px;>movies </mark><mark style=background-color:#eeabd2;font-size:20px;>lackluster </mark><mark style=background-color:#f1b5d9;font-size:20px;>plot </mark><mark style=background-color:#edf6e1;font-size:20px;>and </mark><mark style=background-color:#8e0152;font-size:20px;>uninspired </mark><mark style=background-color:#bee490;font-size:20px;>performances </mark><mark style=background-color:#d14895;font-size:20px;>didnt </mark><mark style=background-color:#f0f6e7;font-size:20px;>leave </mark><mark style=background-color:#eff6e4;font-size:20px;>me </mark><mark style=background-color:#aeda7a;font-size:20px;>impressed </mark><mark style=background-color:#f5f7f2;font-size:20px;> </mark><mark style=background-color:#f5f7f2;font-size:20px;> </mark><mark style=background-color:#f4f7f0;font-size:20px;> </mark><mark style=background-color:#f7f7f6;font-size:20px;> </mark><mark style=background-color:#f9f1f5;font-size:20px;> </mark><mark style=background-color:#f7f7f7;font-size:20px;> </mark><mark style=background-color:#f8f5f6;font-size:20px;> </mark><mark style=background-color:#f1f6ea;font-size:20px;> </mark><mark style=background-color:#f5f7f3;font-size:20px;> </mark><mark style=background-color:#f5f7f3;font-size:20px;> </mark><mark style=background-color:#f3f7ef;font-size:20px;> </mark><mark style=background-color:#fce5f1;font-size:20px;> </mark><mark style=background-color:#f1f6e8;font-size:20px;> </mark><mark style=background-color:#f9eff4;font-size:20px;> </mark><mark style=background-color:#fbe9f2;font-size:20px;> </mark><mark style=background-color:#f4f7f0;font-size:20px;> </mark><mark style=background-color:#f8f3f6;font-size:20px;> </mark><mark style=background-color:#eff6e5;font-size:20px;> </mark><mark style=background-color:#f7f6f7;font-size:20px;> </mark><mark style=background-color:#f7f7f7;font-size:20px;> </mark><mark style=background-color:#f5f7f3;font-size:20px;> </mark><mark style=background-color:#f2f6ec;font-size:20px;> </mark><mark style=background-color:#f4f7f0;font-size:20px;> </mark><mark style=background-color:#f8f2f5;font-size:20px;> </mark><mark style=background-color:#f3f7ef;font-size:20px;> </mark><mark style=background-color:#f7f7f7;font-size:20px;> </mark><mark style=background-color:#f3f7ef;font-size:20px;> </mark><mark style=background-color:#f4f7f0;font-size:20px;> </mark><mark style=background-color:#f5f7f2;font-size:20px;> </mark><mark style=background-color:#f7f6f7;font-size:20px;> </mark><mark style=background-color:#f2f6ec;font-size:20px;> </mark><mark style=background-color:#f8f5f6;font-size:20px;> </mark><mark style=background-color:#f1f6e8;font-size:20px;> </mark><mark style=background-color:#f1f6e8;font-size:20px;> </mark><mark style=background-color:#f1f6e8;font-size:20px;> </mark><mark style=background-color:#f5f7f3;font-size:20px;> </mark><mark style=background-color:#f5f7f3;font-size:20px;> </mark><mark style=background-color:#f8f2f5;font-size:20px;> </mark><mark style=background-color:#f8f3f6;font-size:20px;> </mark><mark style=background-color:#f9eff4;font-size:20px;> </mark><mark style=background-color:#f9f0f5;font-size:20px;> </mark><mark style=background-color:#f0f6e7;font-size:20px;> </mark><mark style=background-color:#ecf6de;font-size:20px;> </mark><mark style=background-color:#f8f5f6;font-size:20px;> </mark><mark style=background-color:#f8f5f6;font-size:20px;> </mark><mark style=background-color:#f3f6ed;font-size:20px;> </mark><mark style=background-color:#f8f3f6;font-size:20px;> </mark><mark style=background-color:#f8f2f5;font-size:20px;> </mark><mark style=background-color:#f7f6f7;font-size:20px;> </mark><mark style=background-color:#f2f6ec;font-size:20px;> </mark><mark style=background-color:#f7f6f7;font-size:20px;> </mark><mark style=background-color:#f6f7f5;font-size:20px;> </mark><mark style=background-color:#f8f5f6;font-size:20px;> </mark><mark style=background-color:#f3f6ed;font-size:20px;> </mark><mark style=background-color:#f9f1f5;font-size:20px;> </mark><mark style=background-color:#faedf3;font-size:20px;> </mark><mark style=background-color:#f3f7ef;font-size:20px;> </mark><mark style=background-color:#f9f1f5;font-size:20px;> </mark><mark style=background-color:#f7f6f7;font-size:20px;> </mark><mark style=background-color:#f9eff4;font-size:20px;> </mark><mark style=background-color:#f8f2f5;font-size:20px;> </mark><mark style=background-color:#eff6e4;font-size:20px;> </mark><mark style=background-color:#f3f7ef;font-size:20px;> </mark><mark style=background-color:#f8f4f6;font-size:20px;> </mark><mark style=background-color:#f4f7f0;font-size:20px;> </mark><mark style=background-color:#f8f2f5;font-size:20px;> </mark><mark style=background-color:#f3f7ef;font-size:20px;> </mark><mark style=background-color:#f4f7f0;font-size:20px;> </mark><mark style=background-color:#f1f6e8;font-size:20px;> </mark><mark style=background-color:#f8f2f5;font-size:20px;> </mark><mark style=background-color:#f7f7f6;font-size:20px;> </mark><mark style=background-color:#f6f7f5;font-size:20px;> </mark><mark style=background-color:#faedf3;font-size:20px;> </mark><mark style=background-color:#f7f7f6;font-size:20px;> </mark><mark style=background-color:#f9f1f5;font-size:20px;> </mark><mark style=background-color:#eef6e2;font-size:20px;> </mark><mark style=background-color:#f4f7f0;font-size:20px;> </mark><mark style=background-color:#f3f7ef;font-size:20px;> </mark><mark style=background-color:#f8f5f6;font-size:20px;> </mark><mark style=background-color:#f7f6f7;font-size:20px;> </mark><mark style=background-color:#f5f7f3;font-size:20px;> </mark><mark style=background-color:#f4f7f0;font-size:20px;> </mark><mark style=background-color:#faebf3;font-size:20px;> </mark><mark style=background-color:#f1f6ea;font-size:20px;> </mark><mark style=background-color:#f1f6ea;font-size:20px;> </mark><mark style=background-color:#eef6e2;font-size:20px;> </mark><mark style=background-color:#f2f6ec;font-size:20px;> </mark><mark style=background-color:#f8f2f5;font-size:20px;> </mark><mark style=background-color:#f8f3f6;font-size:20px;> </mark><mark style=background-color:#f6f7f5;font-size:20px;> </mark><mark style=background-color:#f4f7f0;font-size:20px;> </mark><mark style=background-color:#f1f6ea;font-size:20px;> </mark><mark style=background-color:#f9eef4;font-size:20px;> </mark><mark style=background-color:#f3f7ef;font-size:20px;> </mark><mark style=background-color:#f5f7f2;font-size:20px;> </mark><mark style=background-color:#fbe7f2;font-size:20px;> </mark><mark style=background-color:#eff6e5;font-size:20px;> </mark><mark style=background-color:#f5f7f2;font-size:20px;> </mark><mark style=background-color:#f3f6ed;font-size:20px;> </mark><mark style=background-color:#f9f0f5;font-size:20px;> </mark><mark style=background-color:#edf6df;font-size:20px;> </mark><mark style=background-color:#f4f7f0;font-size:20px;> </mark><mark style=background-color:#edf6e1;font-size:20px;> </mark><mark style=background-color:#f5f7f3;font-size:20px;> </mark><mark style=background-color:#f8f3f6;font-size:20px;> </mark><mark style=background-color:#f5f7f2;font-size:20px;> </mark><mark style=background-color:#f0f6e7;font-size:20px;> </mark><mark style=background-color:#f5f7f3;font-size:20px;> </mark><mark style=background-color:#f3f7ef;font-size:20px;> </mark><mark style=background-color:#f5f7f3;font-size:20px;> </mark><mark style=background-color:#f2f6ec;font-size:20px;> </mark><mark style=background-color:#f3f7ef;font-size:20px;> </mark><mark style=background-color:#f0f6e7;font-size:20px;> </mark><mark style=background-color:#f7f7f7;font-size:20px;> </mark><mark style=background-color:#f7f7f6;font-size:20px;> </mark><mark style=background-color:#edf6df;font-size:20px;> </mark><mark style=background-color:#f1f6e8;font-size:20px;> </mark><mark style=background-color:#f4f7f0;font-size:20px;> </mark><mark style=background-color:#f9f1f5;font-size:20px;> </mark><mark style=background-color:#f5f7f3;font-size:20px;> </mark><mark style=background-color:#f3f6ed;font-size:20px;> </mark><mark style=background-color:#f7f7f6;font-size:20px;> </mark><mark style=background-color:#f6f7f5;font-size:20px;> </mark><mark style=background-color:#f1f6e8;font-size:20px;> </mark><mark style=background-color:#f7f7f7;font-size:20px;> </mark><mark style=background-color:#edf6df;font-size:20px;> </mark><mark style=background-color:#f7f7f6;font-size:20px;> </mark><mark style=background-color:#f7f6f7;font-size:20px;> </mark><mark style=background-color:#f7f7f6;font-size:20px;> </mark><mark style=background-color:#f3f7ef;font-size:20px;> </mark><mark style=background-color:#f4f7f0;font-size:20px;> </mark><mark style=background-color:#f4f7f0;font-size:20px;> </mark><mark style=background-color:#f7f7f6;font-size:20px;> </mark><mark style=background-color:#f1f6ea;font-size:20px;> </mark><mark style=background-color:#f4f7f0;font-size:20px;> </mark><mark style=background-color:#f8f5f6;font-size:20px;> </mark><mark style=background-color:#f3f6ed;font-size:20px;> </mark><mark style=background-color:#f5f7f3;font-size:20px;> </mark><mark style=background-color:#eef6e2;font-size:20px;> </mark><mark style=background-color:#f7f7f6;font-size:20px;> </mark><mark style=background-color:#f1f6e8;font-size:20px;> </mark><mark style=background-color:#f2f6ec;font-size:20px;> </mark><mark style=background-color:#eff6e4;font-size:20px;> </mark><mark style=background-color:#f9eef4;font-size:20px;> </mark><mark style=background-color:#f4f7f0;font-size:20px;> </mark><mark style=background-color:#f7f7f6;font-size:20px;> </mark><mark style=background-color:#f7f7f7;font-size:20px;> </mark><mark style=background-color:#f8f5f6;font-size:20px;> </mark><mark style=background-color:#f5f7f2;font-size:20px;> </mark><mark style=background-color:#f8f5f6;font-size:20px;> </mark><mark style=background-color:#f8f5f6;font-size:20px;> </mark><mark style=background-color:#f7f6f7;font-size:20px;> </mark><mark style=background-color:#eef6e2;font-size:20px;> </mark><mark style=background-color:#f4f7f0;font-size:20px;> </mark><mark style=background-color:#f3f6ed;font-size:20px;> </mark><mark style=background-color:#f8f2f5;font-size:20px;> </mark><mark style=background-color:#f7f7f7;font-size:20px;> </mark><mark style=background-color:#f9eef4;font-size:20px;> </mark><mark style=background-color:#f8f4f6;font-size:20px;> </mark><mark style=background-color:#f5f7f3;font-size:20px;> </mark><mark style=background-color:#f3f6ed;font-size:20px;> </mark><mark style=background-color:#f7f6f7;font-size:20px;> </mark><mark style=background-color:#f3f7ef;font-size:20px;> </mark><mark style=background-color:#f5f7f2;font-size:20px;> </mark><mark style=background-color:#f0f6e7;font-size:20px;> </mark><mark style=background-color:#f8f3f6;font-size:20px;> </mark><mark style=background-color:#f1f6ea;font-size:20px;> </mark><mark style=background-color:#f3f7ef;font-size:20px;> </mark><mark style=background-color:#f8f2f5;font-size:20px;> </mark><mark style=background-color:#eff6e4;font-size:20px;> </mark><mark style=background-color:#eff6e4;font-size:20px;> </mark><mark style=background-color:#f5f7f2;font-size:20px;> </mark><mark style=background-color:#f3f6ed;font-size:20px;> </mark><mark style=background-color:#f7f7f6;font-size:20px;> </mark><mark style=background-color:#f8f5f6;font-size:20px;> </mark><mark style=background-color:#eff6e4;font-size:20px;> </mark><mark style=background-color:#faecf3;font-size:20px;> </mark><mark style=background-color:#f7f7f7;font-size:20px;> </mark><mark style=background-color:#f7f7f6;font-size:20px;> </mark><mark style=background-color:#f8f5f6;font-size:20px;> </mark><mark style=background-color:#f3f6ed;font-size:20px;> </mark><mark style=background-color:#f5f7f2;font-size:20px;> </mark><mark style=background-color:#f7f7f6;font-size:20px;> </mark><mark style=background-color:#eff6e5;font-size:20px;> </mark><mark style=background-color:#f5f7f3;font-size:20px;> </mark><mark style=background-color:#f2f6ec;font-size:20px;> </mark><mark style=background-color:#f8f4f6;font-size:20px;> </mark><mark style=background-color:#f5f7f3;font-size:20px;> </mark>"
      ],
      "text/plain": [
       "<IPython.core.display.HTML object>"
      ]
     },
     "metadata": {},
     "output_type": "display_data"
    },
    {
     "name": "stdout",
     "output_type": "stream",
     "text": [
      "\n",
      " [-7.4620442e-03  2.8821587e-04  3.4081088e-03 -1.3840374e-02\n",
      " -1.2749240e-02  3.5253661e-03 -3.1899132e-02  1.1722483e-02\n",
      " -2.2426851e-02  2.7269500e-03  3.0905479e-03  1.3773781e-02\n",
      "  8.7410607e-04  9.1450615e-04  1.0101087e-03  2.1135819e-04\n",
      " -1.6119755e-03 -8.2023937e-05 -5.5600714e-04  2.1474820e-03\n",
      "  6.0102751e-04  6.7993603e-04  1.4280786e-03 -4.8582396e-03\n",
      "  2.4193630e-03 -2.0804137e-03 -3.7448613e-03  1.1386650e-03\n",
      " -1.1292445e-03  2.9069842e-03 -4.9078790e-04 -2.3264578e-04\n",
      "  6.0943142e-04  1.9861890e-03  1.0954936e-03 -1.2779899e-03\n",
      "  1.3156021e-03 -7.6890574e-05  1.2675565e-03  1.2041053e-03\n",
      "  9.6743321e-04 -4.7713355e-04  1.9182733e-03 -6.1540457e-04\n",
      "  2.4657254e-03  2.2530053e-03  2.4281025e-03  6.3969468e-04\n",
      "  7.0731225e-04 -1.3645398e-03 -1.1795922e-03 -2.1557186e-03\n",
      " -1.9057565e-03  2.5771614e-03  3.9919461e-03 -5.1619578e-04\n",
      " -6.3369784e-04  1.5840130e-03 -1.1795429e-03 -1.3434775e-03\n",
      " -3.4817023e-04  1.9194860e-03 -2.8352113e-04  2.9956785e-04\n",
      " -5.0024741e-04  1.6513071e-03 -1.5423060e-03 -2.7973820e-03\n",
      "  1.4862359e-03 -1.7192486e-03 -2.5072484e-04 -2.1423055e-03\n",
      " -1.2825315e-03  3.0677421e-03  1.3002056e-03 -7.7085715e-04\n",
      "  1.1705139e-03 -1.2509685e-03  1.4427404e-03  1.2116826e-03\n",
      "  2.2848484e-03 -1.4554501e-03  1.8616812e-04  4.0961523e-04\n",
      " -2.7491297e-03  2.3750472e-05 -1.6739658e-03  3.2477549e-03\n",
      "  1.2439790e-03  1.2752963e-03 -6.4498943e-04 -2.8131343e-04\n",
      "  6.4923137e-04  1.1554155e-03 -3.3138609e-03  2.1760403e-03\n",
      "  2.2194770e-03  3.2767886e-03  1.9560766e-03 -1.3868394e-03\n",
      " -1.1378383e-03  4.1582668e-04  1.2124992e-03  2.1263044e-03\n",
      " -2.7136751e-03  1.4844605e-03  9.6895336e-04 -4.2633824e-03\n",
      "  2.8618542e-03  8.7966182e-04  1.5098118e-03 -1.8771975e-03\n",
      "  3.9042460e-03  1.0873615e-03  3.6044186e-03  5.8213389e-04\n",
      " -1.2299460e-03  9.4753987e-04  2.4970302e-03  7.1610144e-04\n",
      "  1.2839822e-03  4.9874280e-04  1.9361972e-03  1.3584163e-03\n",
      "  2.4929810e-03 -1.9161089e-04  1.7744652e-04  3.8582615e-03\n",
      "  2.4046593e-03  1.1869475e-03 -1.7087343e-03  6.0415501e-04\n",
      "  1.5073265e-03  6.5182132e-05  4.8812234e-04  2.2825981e-03\n",
      " -1.1512375e-04  3.9061757e-03  2.3489841e-04 -4.0735654e-04\n",
      "  7.1176910e-05  1.3124582e-03  1.0659479e-03  1.0300032e-03\n",
      "  1.2181298e-04  1.9974834e-03  1.1772979e-03 -7.1428600e-04\n",
      "  1.5706850e-03  5.1660161e-04  3.4772023e-03  1.6296131e-04\n",
      "  2.4006187e-03  1.9657216e-03  3.0542519e-03 -2.2512255e-03\n",
      "  1.2111291e-03  1.9081356e-04 -8.8887289e-05 -5.2548491e-04\n",
      "  8.2112430e-04 -5.9890916e-04 -5.5062905e-04 -3.3242052e-04\n",
      "  3.3192884e-03  1.1195941e-03  1.6909803e-03 -1.4841169e-03\n",
      " -1.1336111e-04 -2.2594691e-03 -8.4901764e-04  5.7646935e-04\n",
      "  1.6609847e-03 -4.3747621e-04  1.3520533e-03  9.6392527e-04\n",
      "  2.7325423e-03 -1.0540374e-03  2.0346595e-03  1.2778663e-03\n",
      " -1.4881023e-03  3.1250180e-03  3.1601496e-03  9.2922657e-04\n",
      "  1.6285495e-03  1.2449513e-05 -5.9088529e-04  3.0347826e-03\n",
      " -3.0868778e-03 -2.1025821e-04  8.9141831e-05 -5.4349692e-04\n",
      "  1.6687091e-03  9.3712180e-04  1.8543587e-04  2.9168169e-03\n",
      "  6.3549250e-04  1.8949261e-03 -7.8976963e-04  7.4418902e-04]\n",
      "----------------------------------------\n",
      "input sentence: ['The movie was a complete letdown: weak plot, uninspiring performances, and a total waste of time.']\n",
      "\n",
      "Actual Label: 0,  Predicted label: [[0.01532645]]\n"
     ]
    },
    {
     "data": {
      "text/html": [
       "<mark style=background-color:#8e0152;font-size:20px;>[START] </mark><mark style=background-color:#f7f7f6;font-size:20px;>the </mark><mark style=background-color:#f7f7f7;font-size:20px;>movie </mark><mark style=background-color:#f0f6e7;font-size:20px;>was </mark><mark style=background-color:#f4f7f0;font-size:20px;>a </mark><mark style=background-color:#fce5f1;font-size:20px;>complete </mark><mark style=background-color:#f8f2f5;font-size:20px;>letdown </mark><mark style=background-color:#f9d3e8;font-size:20px;>weak </mark><mark style=background-color:#fad6ea;font-size:20px;>plot </mark><mark style=background-color:#f7f7f6;font-size:20px;>uninspiring </mark><mark style=background-color:#bee490;font-size:20px;>performances </mark><mark style=background-color:#f1f6ea;font-size:20px;>and </mark><mark style=background-color:#f5f7f3;font-size:20px;>a </mark><mark style=background-color:#fbe6f1;font-size:20px;>total </mark><mark style=background-color:#b1116d;font-size:20px;>waste </mark><mark style=background-color:#f7f7f6;font-size:20px;>of </mark><mark style=background-color:#f7f7f6;font-size:20px;>time </mark><mark style=background-color:#f7f7f6;font-size:20px;> </mark><mark style=background-color:#f7f7f7;font-size:20px;> </mark><mark style=background-color:#f4f7f0;font-size:20px;> </mark><mark style=background-color:#f6f7f5;font-size:20px;> </mark><mark style=background-color:#f6f7f5;font-size:20px;> </mark><mark style=background-color:#f5f7f3;font-size:20px;> </mark><mark style=background-color:#f9f0f5;font-size:20px;> </mark><mark style=background-color:#f4f7f0;font-size:20px;> </mark><mark style=background-color:#f8f4f6;font-size:20px;> </mark><mark style=background-color:#f8f2f5;font-size:20px;> </mark><mark style=background-color:#f5f7f3;font-size:20px;> </mark><mark style=background-color:#f7f6f7;font-size:20px;> </mark><mark style=background-color:#f3f7ef;font-size:20px;> </mark><mark style=background-color:#f7f7f7;font-size:20px;> </mark><mark style=background-color:#f7f7f6;font-size:20px;> </mark><mark style=background-color:#f6f7f5;font-size:20px;> </mark><mark style=background-color:#f5f7f2;font-size:20px;> </mark><mark style=background-color:#f5f7f3;font-size:20px;> </mark><mark style=background-color:#f7f6f7;font-size:20px;> </mark><mark style=background-color:#f5f7f3;font-size:20px;> </mark><mark style=background-color:#f7f7f6;font-size:20px;> </mark><mark style=background-color:#f5f7f3;font-size:20px;> </mark><mark style=background-color:#f5f7f3;font-size:20px;> </mark><mark style=background-color:#f5f7f3;font-size:20px;> </mark><mark style=background-color:#f7f7f7;font-size:20px;> </mark><mark style=background-color:#f5f7f2;font-size:20px;> </mark><mark style=background-color:#f7f7f7;font-size:20px;> </mark><mark style=background-color:#f3f7ef;font-size:20px;> </mark><mark style=background-color:#f4f7f0;font-size:20px;> </mark><mark style=background-color:#f4f7f0;font-size:20px;> </mark><mark style=background-color:#f6f7f5;font-size:20px;> </mark><mark style=background-color:#f6f7f5;font-size:20px;> </mark><mark style=background-color:#f8f5f6;font-size:20px;> </mark><mark style=background-color:#f7f6f7;font-size:20px;> </mark><mark style=background-color:#f8f4f6;font-size:20px;> </mark><mark style=background-color:#f8f4f6;font-size:20px;> </mark><mark style=background-color:#f3f7ef;font-size:20px;> </mark><mark style=background-color:#f2f6ec;font-size:20px;> </mark><mark style=background-color:#f7f7f7;font-size:20px;> </mark><mark style=background-color:#f7f7f7;font-size:20px;> </mark><mark style=background-color:#f5f7f2;font-size:20px;> </mark><mark style=background-color:#f7f6f7;font-size:20px;> </mark><mark style=background-color:#f7f6f7;font-size:20px;> </mark><mark style=background-color:#f7f7f7;font-size:20px;> </mark><mark style=background-color:#f5f7f2;font-size:20px;> </mark><mark style=background-color:#f7f7f6;font-size:20px;> </mark><mark style=background-color:#f7f7f6;font-size:20px;> </mark><mark style=background-color:#f7f7f7;font-size:20px;> </mark><mark style=background-color:#f5f7f2;font-size:20px;> </mark><mark style=background-color:#f8f5f6;font-size:20px;> </mark><mark style=background-color:#f8f3f6;font-size:20px;> </mark><mark style=background-color:#f5f7f2;font-size:20px;> </mark><mark style=background-color:#f8f5f6;font-size:20px;> </mark><mark style=background-color:#f7f7f7;font-size:20px;> </mark><mark style=background-color:#f8f4f6;font-size:20px;> </mark><mark style=background-color:#f8f5f6;font-size:20px;> </mark><mark style=background-color:#f3f7ef;font-size:20px;> </mark><mark style=background-color:#f5f7f3;font-size:20px;> </mark><mark style=background-color:#f7f7f7;font-size:20px;> </mark><mark style=background-color:#f5f7f3;font-size:20px;> </mark><mark style=background-color:#f7f6f7;font-size:20px;> </mark><mark style=background-color:#f5f7f3;font-size:20px;> </mark><mark style=background-color:#f5f7f3;font-size:20px;> </mark><mark style=background-color:#f4f7f0;font-size:20px;> </mark><mark style=background-color:#f7f6f7;font-size:20px;> </mark><mark style=background-color:#f7f7f6;font-size:20px;> </mark><mark style=background-color:#f7f7f6;font-size:20px;> </mark><mark style=background-color:#f8f3f6;font-size:20px;> </mark><mark style=background-color:#f7f7f6;font-size:20px;> </mark><mark style=background-color:#f8f5f6;font-size:20px;> </mark><mark style=background-color:#f3f6ed;font-size:20px;> </mark><mark style=background-color:#f5f7f3;font-size:20px;> </mark><mark style=background-color:#f5f7f3;font-size:20px;> </mark><mark style=background-color:#f7f7f7;font-size:20px;> </mark><mark style=background-color:#f7f7f7;font-size:20px;> </mark><mark style=background-color:#f6f7f5;font-size:20px;> </mark><mark style=background-color:#f5f7f3;font-size:20px;> </mark><mark style=background-color:#f8f2f5;font-size:20px;> </mark><mark style=background-color:#f4f7f0;font-size:20px;> </mark><mark style=background-color:#f4f7f0;font-size:20px;> </mark><mark style=background-color:#f3f7ef;font-size:20px;> </mark><mark style=background-color:#f5f7f2;font-size:20px;> </mark><mark style=background-color:#f7f6f7;font-size:20px;> </mark><mark style=background-color:#f7f6f7;font-size:20px;> </mark><mark style=background-color:#f7f7f6;font-size:20px;> </mark><mark style=background-color:#f5f7f3;font-size:20px;> </mark><mark style=background-color:#f4f7f0;font-size:20px;> </mark><mark style=background-color:#f8f3f6;font-size:20px;> </mark><mark style=background-color:#f5f7f3;font-size:20px;> </mark><mark style=background-color:#f5f7f3;font-size:20px;> </mark><mark style=background-color:#f9f1f5;font-size:20px;> </mark><mark style=background-color:#f3f7ef;font-size:20px;> </mark><mark style=background-color:#f6f7f5;font-size:20px;> </mark><mark style=background-color:#f5f7f2;font-size:20px;> </mark><mark style=background-color:#f8f5f6;font-size:20px;> </mark><mark style=background-color:#f2f6ec;font-size:20px;> </mark><mark style=background-color:#f5f7f3;font-size:20px;> </mark><mark style=background-color:#f3f6ed;font-size:20px;> </mark><mark style=background-color:#f6f7f5;font-size:20px;> </mark><mark style=background-color:#f7f6f7;font-size:20px;> </mark><mark style=background-color:#f5f7f3;font-size:20px;> </mark><mark style=background-color:#f3f7ef;font-size:20px;> </mark><mark style=background-color:#f6f7f5;font-size:20px;> </mark><mark style=background-color:#f5f7f3;font-size:20px;> </mark><mark style=background-color:#f6f7f5;font-size:20px;> </mark><mark style=background-color:#f5f7f2;font-size:20px;> </mark><mark style=background-color:#f5f7f3;font-size:20px;> </mark><mark style=background-color:#f4f7f0;font-size:20px;> </mark><mark style=background-color:#f7f7f6;font-size:20px;> </mark><mark style=background-color:#f7f7f6;font-size:20px;> </mark><mark style=background-color:#f2f6ec;font-size:20px;> </mark><mark style=background-color:#f4f7f0;font-size:20px;> </mark><mark style=background-color:#f5f7f3;font-size:20px;> </mark><mark style=background-color:#f8f5f6;font-size:20px;> </mark><mark style=background-color:#f6f7f5;font-size:20px;> </mark><mark style=background-color:#f5f7f2;font-size:20px;> </mark><mark style=background-color:#f7f7f6;font-size:20px;> </mark><mark style=background-color:#f6f7f5;font-size:20px;> </mark><mark style=background-color:#f4f7f0;font-size:20px;> </mark><mark style=background-color:#f7f7f6;font-size:20px;> </mark><mark style=background-color:#f2f6ec;font-size:20px;> </mark><mark style=background-color:#f7f7f6;font-size:20px;> </mark><mark style=background-color:#f7f7f7;font-size:20px;> </mark><mark style=background-color:#f7f7f6;font-size:20px;> </mark><mark style=background-color:#f5f7f3;font-size:20px;> </mark><mark style=background-color:#f5f7f3;font-size:20px;> </mark><mark style=background-color:#f5f7f3;font-size:20px;> </mark><mark style=background-color:#f7f7f6;font-size:20px;> </mark><mark style=background-color:#f4f7f0;font-size:20px;> </mark><mark style=background-color:#f5f7f3;font-size:20px;> </mark><mark style=background-color:#f7f7f7;font-size:20px;> </mark><mark style=background-color:#f5f7f2;font-size:20px;> </mark><mark style=background-color:#f6f7f5;font-size:20px;> </mark><mark style=background-color:#f3f6ed;font-size:20px;> </mark><mark style=background-color:#f7f7f6;font-size:20px;> </mark><mark style=background-color:#f3f7ef;font-size:20px;> </mark><mark style=background-color:#f5f7f2;font-size:20px;> </mark><mark style=background-color:#f3f7ef;font-size:20px;> </mark><mark style=background-color:#f8f4f6;font-size:20px;> </mark><mark style=background-color:#f5f7f3;font-size:20px;> </mark><mark style=background-color:#f7f7f6;font-size:20px;> </mark><mark style=background-color:#f7f7f7;font-size:20px;> </mark><mark style=background-color:#f7f7f7;font-size:20px;> </mark><mark style=background-color:#f6f7f5;font-size:20px;> </mark><mark style=background-color:#f7f7f7;font-size:20px;> </mark><mark style=background-color:#f7f7f7;font-size:20px;> </mark><mark style=background-color:#f7f7f6;font-size:20px;> </mark><mark style=background-color:#f3f6ed;font-size:20px;> </mark><mark style=background-color:#f5f7f3;font-size:20px;> </mark><mark style=background-color:#f5f7f2;font-size:20px;> </mark><mark style=background-color:#f8f5f6;font-size:20px;> </mark><mark style=background-color:#f7f7f6;font-size:20px;> </mark><mark style=background-color:#f8f4f6;font-size:20px;> </mark><mark style=background-color:#f7f7f7;font-size:20px;> </mark><mark style=background-color:#f6f7f5;font-size:20px;> </mark><mark style=background-color:#f5f7f2;font-size:20px;> </mark><mark style=background-color:#f7f7f7;font-size:20px;> </mark><mark style=background-color:#f5f7f3;font-size:20px;> </mark><mark style=background-color:#f5f7f3;font-size:20px;> </mark><mark style=background-color:#f3f7ef;font-size:20px;> </mark><mark style=background-color:#f7f6f7;font-size:20px;> </mark><mark style=background-color:#f4f7f0;font-size:20px;> </mark><mark style=background-color:#f5f7f3;font-size:20px;> </mark><mark style=background-color:#f8f5f6;font-size:20px;> </mark><mark style=background-color:#f3f7ef;font-size:20px;> </mark><mark style=background-color:#f3f7ef;font-size:20px;> </mark><mark style=background-color:#f5f7f3;font-size:20px;> </mark><mark style=background-color:#f5f7f2;font-size:20px;> </mark><mark style=background-color:#f7f7f6;font-size:20px;> </mark><mark style=background-color:#f7f7f7;font-size:20px;> </mark><mark style=background-color:#f3f7ef;font-size:20px;> </mark><mark style=background-color:#f8f2f5;font-size:20px;> </mark><mark style=background-color:#f7f7f6;font-size:20px;> </mark><mark style=background-color:#f7f7f6;font-size:20px;> </mark><mark style=background-color:#f7f7f6;font-size:20px;> </mark><mark style=background-color:#f5f7f2;font-size:20px;> </mark><mark style=background-color:#f5f7f3;font-size:20px;> </mark><mark style=background-color:#f7f7f6;font-size:20px;> </mark><mark style=background-color:#f3f6ed;font-size:20px;> </mark><mark style=background-color:#f6f7f5;font-size:20px;> </mark><mark style=background-color:#f4f7f0;font-size:20px;> </mark><mark style=background-color:#f7f7f7;font-size:20px;> </mark><mark style=background-color:#f6f7f5;font-size:20px;> </mark>"
      ],
      "text/plain": [
       "<IPython.core.display.HTML object>"
      ]
     },
     "metadata": {},
     "output_type": "display_data"
    },
    {
     "name": "stdout",
     "output_type": "stream",
     "text": [
      "\n",
      " [-1.20320870e-02  8.52874364e-05 -4.11192887e-05  1.00201322e-03\n",
      "  4.37991141e-04 -1.81148457e-03 -5.31939906e-04 -3.10587324e-03\n",
      " -3.00762779e-03  6.38069396e-05  4.46502538e-03  8.34031787e-04\n",
      "  2.61318055e-04 -1.70596177e-03 -1.04810027e-02  1.30516710e-05\n",
      "  1.89582352e-05  3.95892566e-05 -4.38236893e-05  3.90226312e-04\n",
      "  1.00330828e-04  1.63329649e-04  2.60900881e-04 -7.38291768e-04\n",
      "  4.37617535e-04 -2.96330138e-04 -5.62303001e-04  2.36521882e-04\n",
      " -1.39864540e-04  5.11059596e-04 -3.12755583e-05  9.51066613e-06\n",
      "  1.20109995e-04  3.54522112e-04  2.09576974e-04 -1.85756857e-04\n",
      "  2.53173203e-04  2.53030812e-05  2.28261226e-04  2.59634864e-04\n",
      "  2.09280843e-04 -4.39406213e-05  3.31354327e-04 -5.56938176e-05\n",
      "  4.81733790e-04  4.02765087e-04  4.24762926e-04  1.51750486e-04\n",
      "  1.49924526e-04 -2.07727382e-04 -1.41811135e-04 -3.19474348e-04\n",
      " -2.85220332e-04  4.78359056e-04  6.96914853e-04 -4.93018306e-05\n",
      " -7.83532596e-05  2.97657680e-04 -1.34611124e-04 -1.67753416e-04\n",
      " -1.80765128e-05  3.41372332e-04  1.06936641e-05  7.82237694e-05\n",
      " -4.05113678e-05  2.98589410e-04 -2.11752820e-04 -4.41503478e-04\n",
      "  2.92522542e-04 -2.39338813e-04 -3.37376041e-05 -2.89085729e-04\n",
      " -2.09490070e-04  5.32536884e-04  2.52389553e-04 -8.30714998e-05\n",
      "  2.37367174e-04 -1.78198723e-04  2.69711571e-04  2.43610033e-04\n",
      "  4.18089272e-04 -1.83647469e-04  6.64882537e-05  8.55934049e-05\n",
      " -3.85699619e-04  5.06010256e-05 -2.07589794e-04  5.82297449e-04\n",
      "  2.36687716e-04  2.65359151e-04 -7.46493024e-05 -1.67857797e-06\n",
      "  1.46439736e-04  2.24508840e-04 -4.92268708e-04  3.97922471e-04\n",
      "  4.18906391e-04  5.58615488e-04  3.37953155e-04 -1.64867262e-04\n",
      " -1.23078818e-04  9.33111805e-05  2.33886065e-04  4.02217644e-04\n",
      " -3.94762406e-04  2.70479621e-04  1.98960959e-04 -6.38683501e-04\n",
      "  5.27283235e-04  1.71129126e-04  3.00450891e-04 -2.63455819e-04\n",
      "  6.65685337e-04  2.10972663e-04  6.31029543e-04  1.58272946e-04\n",
      " -1.76082569e-04  1.94298380e-04  4.80261340e-04  1.24281272e-04\n",
      "  2.23271316e-04  1.35079725e-04  3.50347778e-04  2.45102361e-04\n",
      "  4.26499464e-04  2.05322722e-05  6.58513745e-05  6.95950061e-04\n",
      "  4.69168648e-04  2.51306948e-04 -2.68888165e-04  1.32916146e-04\n",
      "  3.04402260e-04  8.90986412e-05  1.22072452e-04  3.84099520e-04\n",
      "  1.39849799e-05  6.73093426e-04  7.34812056e-05 -2.42422102e-05\n",
      "  4.66934143e-05  2.22154806e-04  2.39730522e-04  2.36997090e-04\n",
      "  7.87011886e-05  3.82412953e-04  2.65947718e-04 -6.91018358e-05\n",
      "  2.98827450e-04  1.41412660e-04  6.02821237e-04  5.71538549e-05\n",
      "  4.84366028e-04  3.68040870e-04  5.35121944e-04 -3.28504742e-04\n",
      "  2.52371479e-04  8.66693736e-05 -1.12407724e-05 -3.90673085e-05\n",
      "  1.45020880e-04 -5.52074052e-05 -6.78947836e-05  2.04041207e-05\n",
      "  6.01660926e-04  2.36950495e-04  3.14750301e-04 -1.99699047e-04\n",
      "  4.40242438e-05 -2.92912911e-04 -7.77852838e-05  1.17901291e-04\n",
      "  3.49482871e-04 -6.56635675e-05  2.69148644e-04  2.19464448e-04\n",
      "  4.77128662e-04 -1.28239131e-04  3.89781693e-04  2.59043300e-04\n",
      " -2.04473996e-04  5.54639439e-04  5.54099388e-04  1.92537074e-04\n",
      "  3.29797447e-04  8.57746563e-05 -2.27042328e-05  5.20889065e-04\n",
      " -4.86193283e-04  2.98800660e-05  5.45827788e-05  2.88989395e-06\n",
      "  2.99330393e-04  2.00870825e-04  7.05423809e-05  5.74827485e-04\n",
      "  1.60509793e-04  3.80600424e-04 -7.34757486e-05  1.67023973e-04]\n",
      "----------------------------------------\n",
      "input sentence: ['The woman in this movie']\n",
      "\n",
      "Actual Label: 0,  Predicted label: [[0.51013434]]\n"
     ]
    },
    {
     "data": {
      "text/html": [
       "<mark style=background-color:#e6f5d0;font-size:20px;>[START] </mark><mark style=background-color:#f7f7f7;font-size:20px;>the </mark><mark style=background-color:#8e0152;font-size:20px;>woman </mark><mark style=background-color:#ebf6dc;font-size:20px;>in </mark><mark style=background-color:#f8f3f6;font-size:20px;>this </mark><mark style=background-color:#faebf3;font-size:20px;>movie </mark><mark style=background-color:#eff6e5;font-size:20px;> </mark><mark style=background-color:#f7f7f7;font-size:20px;> </mark><mark style=background-color:#fce5f1;font-size:20px;> </mark><mark style=background-color:#f3f6ed;font-size:20px;> </mark><mark style=background-color:#f0f6e7;font-size:20px;> </mark><mark style=background-color:#f6f7f5;font-size:20px;> </mark><mark style=background-color:#f5f7f2;font-size:20px;> </mark><mark style=background-color:#f4f7f0;font-size:20px;> </mark><mark style=background-color:#f4f7f0;font-size:20px;> </mark><mark style=background-color:#f7f7f6;font-size:20px;> </mark><mark style=background-color:#f9eff4;font-size:20px;> </mark><mark style=background-color:#f7f7f7;font-size:20px;> </mark><mark style=background-color:#f8f4f6;font-size:20px;> </mark><mark style=background-color:#f0f6e7;font-size:20px;> </mark><mark style=background-color:#f5f7f3;font-size:20px;> </mark><mark style=background-color:#f5f7f2;font-size:20px;> </mark><mark style=background-color:#f3f6ed;font-size:20px;> </mark><mark style=background-color:#fde1ef;font-size:20px;> </mark><mark style=background-color:#eff6e5;font-size:20px;> </mark><mark style=background-color:#faedf3;font-size:20px;> </mark><mark style=background-color:#fbe6f1;font-size:20px;> </mark><mark style=background-color:#f4f7f0;font-size:20px;> </mark><mark style=background-color:#f9f1f5;font-size:20px;> </mark><mark style=background-color:#eef6e2;font-size:20px;> </mark><mark style=background-color:#f8f5f6;font-size:20px;> </mark><mark style=background-color:#f7f6f7;font-size:20px;> </mark><mark style=background-color:#f5f7f3;font-size:20px;> </mark><mark style=background-color:#f1f6e8;font-size:20px;> </mark><mark style=background-color:#f3f7ef;font-size:20px;> </mark><mark style=background-color:#f9f1f5;font-size:20px;> </mark><mark style=background-color:#f3f7ef;font-size:20px;> </mark><mark style=background-color:#f7f7f7;font-size:20px;> </mark><mark style=background-color:#f3f7ef;font-size:20px;> </mark><mark style=background-color:#f3f7ef;font-size:20px;> </mark><mark style=background-color:#f4f7f0;font-size:20px;> </mark><mark style=background-color:#f8f5f6;font-size:20px;> </mark><mark style=background-color:#f1f6ea;font-size:20px;> </mark><mark style=background-color:#f8f4f6;font-size:20px;> </mark><mark style=background-color:#eff6e5;font-size:20px;> </mark><mark style=background-color:#f1f6e8;font-size:20px;> </mark><mark style=background-color:#eff6e5;font-size:20px;> </mark><mark style=background-color:#f5f7f3;font-size:20px;> </mark><mark style=background-color:#f5f7f3;font-size:20px;> </mark><mark style=background-color:#f9f1f5;font-size:20px;> </mark><mark style=background-color:#f9f1f5;font-size:20px;> </mark><mark style=background-color:#faedf3;font-size:20px;> </mark><mark style=background-color:#f9eef4;font-size:20px;> </mark><mark style=background-color:#eff6e5;font-size:20px;> </mark><mark style=background-color:#ebf6db;font-size:20px;> </mark><mark style=background-color:#f8f5f6;font-size:20px;> </mark><mark style=background-color:#f8f4f6;font-size:20px;> </mark><mark style=background-color:#f3f6ed;font-size:20px;> </mark><mark style=background-color:#f9f1f5;font-size:20px;> </mark><mark style=background-color:#f9f0f5;font-size:20px;> </mark><mark style=background-color:#f7f6f7;font-size:20px;> </mark><mark style=background-color:#f1f6ea;font-size:20px;> </mark><mark style=background-color:#f7f6f7;font-size:20px;> </mark><mark style=background-color:#f6f7f5;font-size:20px;> </mark><mark style=background-color:#f8f4f6;font-size:20px;> </mark><mark style=background-color:#f2f6ec;font-size:20px;> </mark><mark style=background-color:#f9eff4;font-size:20px;> </mark><mark style=background-color:#faeaf2;font-size:20px;> </mark><mark style=background-color:#f3f6ed;font-size:20px;> </mark><mark style=background-color:#f9eff4;font-size:20px;> </mark><mark style=background-color:#f7f6f7;font-size:20px;> </mark><mark style=background-color:#faedf3;font-size:20px;> </mark><mark style=background-color:#f9f1f5;font-size:20px;> </mark><mark style=background-color:#edf6e1;font-size:20px;> </mark><mark style=background-color:#f3f6ed;font-size:20px;> </mark><mark style=background-color:#f8f3f6;font-size:20px;> </mark><mark style=background-color:#f4f7f0;font-size:20px;> </mark><mark style=background-color:#f9f1f5;font-size:20px;> </mark><mark style=background-color:#f3f6ed;font-size:20px;> </mark><mark style=background-color:#f3f7ef;font-size:20px;> </mark><mark style=background-color:#f0f6e7;font-size:20px;> </mark><mark style=background-color:#f9f0f5;font-size:20px;> </mark><mark style=background-color:#f7f7f6;font-size:20px;> </mark><mark style=background-color:#f6f7f5;font-size:20px;> </mark><mark style=background-color:#faebf3;font-size:20px;> </mark><mark style=background-color:#f7f7f7;font-size:20px;> </mark><mark style=background-color:#f9eff4;font-size:20px;> </mark><mark style=background-color:#edf6df;font-size:20px;> </mark><mark style=background-color:#f3f7ef;font-size:20px;> </mark><mark style=background-color:#f3f7ef;font-size:20px;> </mark><mark style=background-color:#f8f4f6;font-size:20px;> </mark><mark style=background-color:#f8f5f6;font-size:20px;> </mark><mark style=background-color:#f5f7f3;font-size:20px;> </mark><mark style=background-color:#f3f7ef;font-size:20px;> </mark><mark style=background-color:#fbe8f2;font-size:20px;> </mark><mark style=background-color:#f1f6e8;font-size:20px;> </mark><mark style=background-color:#f0f6e7;font-size:20px;> </mark><mark style=background-color:#edf6df;font-size:20px;> </mark><mark style=background-color:#f1f6ea;font-size:20px;> </mark><mark style=background-color:#f9f0f5;font-size:20px;> </mark><mark style=background-color:#f8f2f5;font-size:20px;> </mark><mark style=background-color:#f6f7f5;font-size:20px;> </mark><mark style=background-color:#f3f7ef;font-size:20px;> </mark><mark style=background-color:#f1f6e8;font-size:20px;> </mark><mark style=background-color:#fbe9f2;font-size:20px;> </mark><mark style=background-color:#f3f6ed;font-size:20px;> </mark><mark style=background-color:#f4f7f0;font-size:20px;> </mark><mark style=background-color:#fce4f0;font-size:20px;> </mark><mark style=background-color:#eef6e2;font-size:20px;> </mark><mark style=background-color:#f5f7f2;font-size:20px;> </mark><mark style=background-color:#f3f6ed;font-size:20px;> </mark><mark style=background-color:#f9eef4;font-size:20px;> </mark><mark style=background-color:#ebf6db;font-size:20px;> </mark><mark style=background-color:#f3f7ef;font-size:20px;> </mark><mark style=background-color:#ebf6dc;font-size:20px;> </mark><mark style=background-color:#f6f7f5;font-size:20px;> </mark><mark style=background-color:#f9f1f5;font-size:20px;> </mark><mark style=background-color:#f5f7f2;font-size:20px;> </mark><mark style=background-color:#eff6e5;font-size:20px;> </mark><mark style=background-color:#f5f7f3;font-size:20px;> </mark><mark style=background-color:#f3f7ef;font-size:20px;> </mark><mark style=background-color:#f6f7f5;font-size:20px;> </mark><mark style=background-color:#f1f6e8;font-size:20px;> </mark><mark style=background-color:#f3f6ed;font-size:20px;> </mark><mark style=background-color:#f0f6e7;font-size:20px;> </mark><mark style=background-color:#f7f6f7;font-size:20px;> </mark><mark style=background-color:#f7f7f6;font-size:20px;> </mark><mark style=background-color:#ebf6db;font-size:20px;> </mark><mark style=background-color:#f0f6e7;font-size:20px;> </mark><mark style=background-color:#f3f7ef;font-size:20px;> </mark><mark style=background-color:#f9eff4;font-size:20px;> </mark><mark style=background-color:#f5f7f3;font-size:20px;> </mark><mark style=background-color:#f3f6ed;font-size:20px;> </mark><mark style=background-color:#f7f7f7;font-size:20px;> </mark><mark style=background-color:#f6f7f5;font-size:20px;> </mark><mark style=background-color:#f0f6e7;font-size:20px;> </mark><mark style=background-color:#f7f7f7;font-size:20px;> </mark><mark style=background-color:#eaf5d9;font-size:20px;> </mark><mark style=background-color:#f7f7f6;font-size:20px;> </mark><mark style=background-color:#f8f5f6;font-size:20px;> </mark><mark style=background-color:#f7f7f7;font-size:20px;> </mark><mark style=background-color:#f3f7ef;font-size:20px;> </mark><mark style=background-color:#f4f7f0;font-size:20px;> </mark><mark style=background-color:#f4f7f0;font-size:20px;> </mark><mark style=background-color:#f7f7f6;font-size:20px;> </mark><mark style=background-color:#f1f6e8;font-size:20px;> </mark><mark style=background-color:#f4f7f0;font-size:20px;> </mark><mark style=background-color:#f8f3f6;font-size:20px;> </mark><mark style=background-color:#f3f6ed;font-size:20px;> </mark><mark style=background-color:#f6f7f5;font-size:20px;> </mark><mark style=background-color:#ecf6de;font-size:20px;> </mark><mark style=background-color:#f7f7f6;font-size:20px;> </mark><mark style=background-color:#f0f6e7;font-size:20px;> </mark><mark style=background-color:#f1f6e8;font-size:20px;> </mark><mark style=background-color:#edf6e1;font-size:20px;> </mark><mark style=background-color:#faedf3;font-size:20px;> </mark><mark style=background-color:#f4f7f0;font-size:20px;> </mark><mark style=background-color:#f7f7f6;font-size:20px;> </mark><mark style=background-color:#f7f6f7;font-size:20px;> </mark><mark style=background-color:#f8f4f6;font-size:20px;> </mark><mark style=background-color:#f5f7f2;font-size:20px;> </mark><mark style=background-color:#f8f4f6;font-size:20px;> </mark><mark style=background-color:#f8f4f6;font-size:20px;> </mark><mark style=background-color:#f7f6f7;font-size:20px;> </mark><mark style=background-color:#edf6df;font-size:20px;> </mark><mark style=background-color:#f3f7ef;font-size:20px;> </mark><mark style=background-color:#f2f6ec;font-size:20px;> </mark><mark style=background-color:#f9f0f5;font-size:20px;> </mark><mark style=background-color:#f7f6f7;font-size:20px;> </mark><mark style=background-color:#faedf3;font-size:20px;> </mark><mark style=background-color:#f8f3f6;font-size:20px;> </mark><mark style=background-color:#f5f7f3;font-size:20px;> </mark><mark style=background-color:#f2f6ec;font-size:20px;> </mark><mark style=background-color:#f8f4f6;font-size:20px;> </mark><mark style=background-color:#f3f7ef;font-size:20px;> </mark><mark style=background-color:#f4f7f0;font-size:20px;> </mark><mark style=background-color:#eff6e4;font-size:20px;> </mark><mark style=background-color:#f8f2f5;font-size:20px;> </mark><mark style=background-color:#f1f6e8;font-size:20px;> </mark><mark style=background-color:#f3f7ef;font-size:20px;> </mark><mark style=background-color:#f9eef4;font-size:20px;> </mark><mark style=background-color:#edf6e1;font-size:20px;> </mark><mark style=background-color:#edf6e1;font-size:20px;> </mark><mark style=background-color:#f4f7f0;font-size:20px;> </mark><mark style=background-color:#f2f6ec;font-size:20px;> </mark><mark style=background-color:#f7f7f7;font-size:20px;> </mark><mark style=background-color:#f8f4f6;font-size:20px;> </mark><mark style=background-color:#eef6e2;font-size:20px;> </mark><mark style=background-color:#fbe9f2;font-size:20px;> </mark><mark style=background-color:#f7f6f7;font-size:20px;> </mark><mark style=background-color:#f7f7f6;font-size:20px;> </mark><mark style=background-color:#f8f4f6;font-size:20px;> </mark><mark style=background-color:#f3f6ed;font-size:20px;> </mark><mark style=background-color:#f4f7f0;font-size:20px;> </mark><mark style=background-color:#f7f7f7;font-size:20px;> </mark><mark style=background-color:#eef6e2;font-size:20px;> </mark><mark style=background-color:#f5f7f3;font-size:20px;> </mark><mark style=background-color:#f1f6ea;font-size:20px;> </mark><mark style=background-color:#f8f3f6;font-size:20px;> </mark><mark style=background-color:#f5f7f2;font-size:20px;> </mark>"
      ],
      "text/plain": [
       "<IPython.core.display.HTML object>"
      ]
     },
     "metadata": {},
     "output_type": "display_data"
    },
    {
     "name": "stdout",
     "output_type": "stream",
     "text": [
      "\n",
      " [ 0.0447471  -0.0013285  -0.22300746  0.03010074 -0.00730678 -0.02433763\n",
      "  0.01996477 -0.00051307 -0.03412658  0.01219139  0.01759204  0.00223393\n",
      "  0.006958    0.00715521  0.00739289  0.00047407 -0.01502183 -0.00157491\n",
      " -0.00542413  0.01774902  0.00418756  0.00524704  0.01103241 -0.04204707\n",
      "  0.01930251 -0.01928473 -0.03263164  0.00859188 -0.01091139  0.02299396\n",
      " -0.00485334 -0.0023881   0.00479422  0.01663071  0.00891013 -0.0115967\n",
      "  0.00886429 -0.00133934  0.00925168  0.00939473  0.00764076 -0.00418833\n",
      "  0.0151622  -0.00639679  0.01970226  0.01737007  0.02001668  0.00500425\n",
      "  0.0045833  -0.01184193 -0.01046039 -0.0195225  -0.01689103  0.0208149\n",
      "  0.03302172 -0.00517791 -0.00652511  0.01185016 -0.01089559 -0.01282303\n",
      " -0.00335814  0.01517086 -0.0028063   0.00242807 -0.00532047  0.01329274\n",
      " -0.01448756 -0.02575505  0.01219375 -0.01563823 -0.00275493 -0.01979022\n",
      " -0.0118492   0.02542758  0.01078146 -0.00758243  0.00836037 -0.01135781\n",
      "  0.01085969  0.00947326  0.01891708 -0.01296371  0.00045801  0.00332561\n",
      " -0.02424646 -0.000727   -0.01549042  0.02662876  0.00977414  0.0095493\n",
      " -0.00619049 -0.00372649  0.0047276   0.00885524 -0.0286555   0.0171129\n",
      "  0.01801594  0.02762445  0.01534062 -0.01222895 -0.01019146  0.00258806\n",
      "  0.00926762  0.01708136 -0.02632048  0.01150819  0.00808866 -0.03816175\n",
      "  0.02292826  0.00639765  0.01174955 -0.01748605  0.0320237   0.00871512\n",
      "  0.02976355  0.00300689 -0.01131602  0.00671627  0.01992957  0.00395734\n",
      "  0.01013941  0.0033069   0.01571744  0.01064258  0.01916176 -0.00287861\n",
      "  0.00070862  0.03234868  0.01901877  0.0091293  -0.01456558  0.00438115\n",
      "  0.01135813 -0.00089136  0.00342151  0.01857219 -0.00149709  0.03344163\n",
      "  0.0013408  -0.00422423 -0.00062588  0.00975755  0.00822011  0.0073374\n",
      "  0.00022761  0.01623182  0.00866958 -0.00710787  0.01131217  0.00346292\n",
      "  0.02889297  0.00122104  0.01905954  0.01579398  0.02464034 -0.01990437\n",
      "  0.00854916  0.00056386 -0.00234783 -0.00554609  0.00577867 -0.00614868\n",
      " -0.00540355 -0.0030324   0.02787057  0.00879375  0.01331581 -0.01340861\n",
      " -0.00215171 -0.01992917 -0.00774389  0.00396281  0.01330175 -0.00590292\n",
      "  0.00998474  0.00723616  0.02247032 -0.00936276  0.01637613  0.00958549\n",
      " -0.0165625   0.02559233  0.02587314  0.00712989  0.01236304 -0.00133538\n",
      " -0.00607613  0.02434625 -0.02739376 -0.00276739  0.00074331 -0.00660921\n",
      "  0.01146235  0.00744717 -0.00022389  0.02407803  0.00475668  0.01486273\n",
      " -0.00731394  0.00595363]\n",
      "----------------------------------------\n",
      "input sentence: ['The man in this movie']\n",
      "\n",
      "Actual Label: 0,  Predicted label: [[0.9254959]]\n"
     ]
    },
    {
     "data": {
      "text/html": [
       "<mark style=background-color:#276419;font-size:20px;>[START] </mark><mark style=background-color:#f8f3f6;font-size:20px;>the </mark><mark style=background-color:#f5f7f2;font-size:20px;>man </mark><mark style=background-color:#d2ecb0;font-size:20px;>in </mark><mark style=background-color:#faebf3;font-size:20px;>this </mark><mark style=background-color:#f8d0e7;font-size:20px;>movie </mark><mark style=background-color:#e7f5d3;font-size:20px;> </mark><mark style=background-color:#f7f6f7;font-size:20px;> </mark><mark style=background-color:#f3bdde;font-size:20px;> </mark><mark style=background-color:#edf6e1;font-size:20px;> </mark><mark style=background-color:#e9f5d8;font-size:20px;> </mark><mark style=background-color:#f5f7f3;font-size:20px;> </mark><mark style=background-color:#f1f6ea;font-size:20px;> </mark><mark style=background-color:#f1f6ea;font-size:20px;> </mark><mark style=background-color:#f1f6e8;font-size:20px;> </mark><mark style=background-color:#f7f7f7;font-size:20px;> </mark><mark style=background-color:#fce5f1;font-size:20px;> </mark><mark style=background-color:#f8f5f6;font-size:20px;> </mark><mark style=background-color:#f9f0f5;font-size:20px;> </mark><mark style=background-color:#e9f5d6;font-size:20px;> </mark><mark style=background-color:#f5f7f2;font-size:20px;> </mark><mark style=background-color:#f3f6ed;font-size:20px;> </mark><mark style=background-color:#eff6e4;font-size:20px;> </mark><mark style=background-color:#f0b2d7;font-size:20px;> </mark><mark style=background-color:#e7f5d3;font-size:20px;> </mark><mark style=background-color:#fde0ef;font-size:20px;> </mark><mark style=background-color:#f5c6e2;font-size:20px;> </mark><mark style=background-color:#f1f6e8;font-size:20px;> </mark><mark style=background-color:#faeaf2;font-size:20px;> </mark><mark style=background-color:#e2f3ca;font-size:20px;> </mark><mark style=background-color:#f9f1f5;font-size:20px;> </mark><mark style=background-color:#f8f4f6;font-size:20px;> </mark><mark style=background-color:#f3f7ef;font-size:20px;> </mark><mark style=background-color:#e9f5d8;font-size:20px;> </mark><mark style=background-color:#eff6e5;font-size:20px;> </mark><mark style=background-color:#fbe9f2;font-size:20px;> </mark><mark style=background-color:#f1f6e8;font-size:20px;> </mark><mark style=background-color:#f8f5f6;font-size:20px;> </mark><mark style=background-color:#f0f6e7;font-size:20px;> </mark><mark style=background-color:#eff6e5;font-size:20px;> </mark><mark style=background-color:#f1f6ea;font-size:20px;> </mark><mark style=background-color:#f8f2f5;font-size:20px;> </mark><mark style=background-color:#ebf6dc;font-size:20px;> </mark><mark style=background-color:#f9eff4;font-size:20px;> </mark><mark style=background-color:#e7f5d2;font-size:20px;> </mark><mark style=background-color:#eaf5d9;font-size:20px;> </mark><mark style=background-color:#e7f5d2;font-size:20px;> </mark><mark style=background-color:#f3f6ed;font-size:20px;> </mark><mark style=background-color:#f4f7f0;font-size:20px;> </mark><mark style=background-color:#faeaf2;font-size:20px;> </mark><mark style=background-color:#faecf3;font-size:20px;> </mark><mark style=background-color:#fde1ef;font-size:20px;> </mark><mark style=background-color:#fce4f0;font-size:20px;> </mark><mark style=background-color:#e7f5d2;font-size:20px;> </mark><mark style=background-color:#cbe9a4;font-size:20px;> </mark><mark style=background-color:#f9f1f5;font-size:20px;> </mark><mark style=background-color:#f9eef4;font-size:20px;> </mark><mark style=background-color:#edf6e1;font-size:20px;> </mark><mark style=background-color:#faeaf2;font-size:20px;> </mark><mark style=background-color:#fbe8f2;font-size:20px;> </mark><mark style=background-color:#f8f3f6;font-size:20px;> </mark><mark style=background-color:#ebf6dc;font-size:20px;> </mark><mark style=background-color:#f8f3f6;font-size:20px;> </mark><mark style=background-color:#f5f7f3;font-size:20px;> </mark><mark style=background-color:#f9f0f5;font-size:20px;> </mark><mark style=background-color:#edf6df;font-size:20px;> </mark><mark style=background-color:#fce5f1;font-size:20px;> </mark><mark style=background-color:#f9d3e8;font-size:20px;> </mark><mark style=background-color:#edf6df;font-size:20px;> </mark><mark style=background-color:#fce5f1;font-size:20px;> </mark><mark style=background-color:#f8f4f6;font-size:20px;> </mark><mark style=background-color:#fde0ef;font-size:20px;> </mark><mark style=background-color:#fbe9f2;font-size:20px;> </mark><mark style=background-color:#d9f0bc;font-size:20px;> </mark><mark style=background-color:#eff6e4;font-size:20px;> </mark><mark style=background-color:#f9eef4;font-size:20px;> </mark><mark style=background-color:#f1f6e8;font-size:20px;> </mark><mark style=background-color:#faeaf2;font-size:20px;> </mark><mark style=background-color:#eef6e2;font-size:20px;> </mark><mark style=background-color:#eff6e5;font-size:20px;> </mark><mark style=background-color:#e7f5d2;font-size:20px;> </mark><mark style=background-color:#fbe8f2;font-size:20px;> </mark><mark style=background-color:#f7f7f6;font-size:20px;> </mark><mark style=background-color:#f5f7f2;font-size:20px;> </mark><mark style=background-color:#fbd8eb;font-size:20px;> </mark><mark style=background-color:#f7f6f7;font-size:20px;> </mark><mark style=background-color:#fce5f1;font-size:20px;> </mark><mark style=background-color:#d9f0bc;font-size:20px;> </mark><mark style=background-color:#eff6e5;font-size:20px;> </mark><mark style=background-color:#eff6e5;font-size:20px;> </mark><mark style=background-color:#f9eff4;font-size:20px;> </mark><mark style=background-color:#f8f2f5;font-size:20px;> </mark><mark style=background-color:#f3f7ef;font-size:20px;> </mark><mark style=background-color:#f0f6e7;font-size:20px;> </mark><mark style=background-color:#f8cee6;font-size:20px;> </mark><mark style=background-color:#e9f5d8;font-size:20px;> </mark><mark style=background-color:#e7f5d3;font-size:20px;> </mark><mark style=background-color:#d6eeb6;font-size:20px;> </mark><mark style=background-color:#ebf6db;font-size:20px;> </mark><mark style=background-color:#fbe9f2;font-size:20px;> </mark><mark style=background-color:#faecf3;font-size:20px;> </mark><mark style=background-color:#f5f7f3;font-size:20px;> </mark><mark style=background-color:#eff6e5;font-size:20px;> </mark><mark style=background-color:#e9f5d6;font-size:20px;> </mark><mark style=background-color:#f8d0e7;font-size:20px;> </mark><mark style=background-color:#eef6e2;font-size:20px;> </mark><mark style=background-color:#f1f6e8;font-size:20px;> </mark><mark style=background-color:#f2b8db;font-size:20px;> </mark><mark style=background-color:#e1f3c7;font-size:20px;> </mark><mark style=background-color:#f2f6ec;font-size:20px;> </mark><mark style=background-color:#edf6e1;font-size:20px;> </mark><mark style=background-color:#fce4f0;font-size:20px;> </mark><mark style=background-color:#cfebaa;font-size:20px;> </mark><mark style=background-color:#f0f6e7;font-size:20px;> </mark><mark style=background-color:#d0ecad;font-size:20px;> </mark><mark style=background-color:#f5f7f2;font-size:20px;> </mark><mark style=background-color:#fbe9f2;font-size:20px;> </mark><mark style=background-color:#f2f6ec;font-size:20px;> </mark><mark style=background-color:#e6f5d0;font-size:20px;> </mark><mark style=background-color:#f6f7f5;font-size:20px;> </mark><mark style=background-color:#eff6e5;font-size:20px;> </mark><mark style=background-color:#f5f7f2;font-size:20px;> </mark><mark style=background-color:#ebf6db;font-size:20px;> </mark><mark style=background-color:#eff6e4;font-size:20px;> </mark><mark style=background-color:#e8f5d5;font-size:20px;> </mark><mark style=background-color:#f8f4f6;font-size:20px;> </mark><mark style=background-color:#f7f7f6;font-size:20px;> </mark><mark style=background-color:#cbe9a4;font-size:20px;> </mark><mark style=background-color:#e7f5d3;font-size:20px;> </mark><mark style=background-color:#eff6e5;font-size:20px;> </mark><mark style=background-color:#fce5f1;font-size:20px;> </mark><mark style=background-color:#f4f7f0;font-size:20px;> </mark><mark style=background-color:#eef6e2;font-size:20px;> </mark><mark style=background-color:#f7f6f7;font-size:20px;> </mark><mark style=background-color:#f5f7f2;font-size:20px;> </mark><mark style=background-color:#e8f5d5;font-size:20px;> </mark><mark style=background-color:#f8f5f6;font-size:20px;> </mark><mark style=background-color:#c7e89f;font-size:20px;> </mark><mark style=background-color:#f6f7f5;font-size:20px;> </mark><mark style=background-color:#f8f2f5;font-size:20px;> </mark><mark style=background-color:#f7f7f7;font-size:20px;> </mark><mark style=background-color:#f0f6e7;font-size:20px;> </mark><mark style=background-color:#f0f6e7;font-size:20px;> </mark><mark style=background-color:#f1f6e8;font-size:20px;> </mark><mark style=background-color:#f7f7f6;font-size:20px;> </mark><mark style=background-color:#e9f5d8;font-size:20px;> </mark><mark style=background-color:#f0f6e7;font-size:20px;> </mark><mark style=background-color:#f9eef4;font-size:20px;> </mark><mark style=background-color:#eef6e2;font-size:20px;> </mark><mark style=background-color:#f4f7f0;font-size:20px;> </mark><mark style=background-color:#d4edb3;font-size:20px;> </mark><mark style=background-color:#f7f7f6;font-size:20px;> </mark><mark style=background-color:#e7f5d3;font-size:20px;> </mark><mark style=background-color:#ebf6db;font-size:20px;> </mark><mark style=background-color:#ddf1c1;font-size:20px;> </mark><mark style=background-color:#fde1ef;font-size:20px;> </mark><mark style=background-color:#f1f6e8;font-size:20px;> </mark><mark style=background-color:#f7f7f7;font-size:20px;> </mark><mark style=background-color:#f8f3f6;font-size:20px;> </mark><mark style=background-color:#f9f1f5;font-size:20px;> </mark><mark style=background-color:#f3f7ef;font-size:20px;> </mark><mark style=background-color:#f9eff4;font-size:20px;> </mark><mark style=background-color:#f9f1f5;font-size:20px;> </mark><mark style=background-color:#f8f4f6;font-size:20px;> </mark><mark style=background-color:#d2ecb0;font-size:20px;> </mark><mark style=background-color:#f0f6e7;font-size:20px;> </mark><mark style=background-color:#ecf6de;font-size:20px;> </mark><mark style=background-color:#fbe7f2;font-size:20px;> </mark><mark style=background-color:#f8f4f6;font-size:20px;> </mark><mark style=background-color:#fde1ef;font-size:20px;> </mark><mark style=background-color:#f9eef4;font-size:20px;> </mark><mark style=background-color:#f4f7f0;font-size:20px;> </mark><mark style=background-color:#ecf6de;font-size:20px;> </mark><mark style=background-color:#f9eef4;font-size:20px;> </mark><mark style=background-color:#eff6e4;font-size:20px;> </mark><mark style=background-color:#f1f6ea;font-size:20px;> </mark><mark style=background-color:#e2f3ca;font-size:20px;> </mark><mark style=background-color:#faecf3;font-size:20px;> </mark><mark style=background-color:#e9f5d8;font-size:20px;> </mark><mark style=background-color:#eff6e5;font-size:20px;> </mark><mark style=background-color:#fde0ef;font-size:20px;> </mark><mark style=background-color:#ddf1c1;font-size:20px;> </mark><mark style=background-color:#d9f0bc;font-size:20px;> </mark><mark style=background-color:#f1f6ea;font-size:20px;> </mark><mark style=background-color:#edf6df;font-size:20px;> </mark><mark style=background-color:#f7f6f7;font-size:20px;> </mark><mark style=background-color:#f9eff4;font-size:20px;> </mark><mark style=background-color:#dff2c4;font-size:20px;> </mark><mark style=background-color:#f8d0e7;font-size:20px;> </mark><mark style=background-color:#f8f4f6;font-size:20px;> </mark><mark style=background-color:#f6f7f5;font-size:20px;> </mark><mark style=background-color:#f9f0f5;font-size:20px;> </mark><mark style=background-color:#eef6e2;font-size:20px;> </mark><mark style=background-color:#f1f6e8;font-size:20px;> </mark><mark style=background-color:#f7f6f7;font-size:20px;> </mark><mark style=background-color:#ddf1c1;font-size:20px;> </mark><mark style=background-color:#f3f7ef;font-size:20px;> </mark><mark style=background-color:#ebf6db;font-size:20px;> </mark><mark style=background-color:#f9eef4;font-size:20px;> </mark><mark style=background-color:#f2f6ec;font-size:20px;> </mark>"
      ],
      "text/plain": [
       "<IPython.core.display.HTML object>"
      ]
     },
     "metadata": {},
     "output_type": "display_data"
    },
    {
     "name": "stdout",
     "output_type": "stream",
     "text": [
      "\n",
      " [ 1.36442482e-01 -5.29642589e-03  3.21952626e-03  3.92650142e-02\n",
      " -1.47565845e-02 -3.74251194e-02  2.54232958e-02 -1.58423278e-03\n",
      " -4.91907746e-02  1.59529559e-02  2.23836917e-02  3.06558469e-03\n",
      "  8.83834902e-03  8.94603226e-03  9.66559909e-03 -8.36443156e-04\n",
      " -2.07383111e-02 -2.15322152e-03 -7.72847049e-03  2.32058298e-02\n",
      "  4.15599626e-03  7.44264573e-03  1.37979025e-02 -5.61399236e-02\n",
      "  2.48693898e-02 -2.66755521e-02 -4.42218706e-02  1.03472658e-02\n",
      " -1.53928036e-02  2.91288886e-02 -7.06407148e-03 -3.58937657e-03\n",
      "  5.93846105e-03  2.15556324e-02  1.18942549e-02 -1.63624529e-02\n",
      "  9.70342103e-03 -2.82954797e-03  1.15924217e-02  1.21477684e-02\n",
      "  9.29360185e-03 -6.20044582e-03  1.85261741e-02 -8.61638039e-03\n",
      "  2.56261528e-02  2.11252142e-02  2.61885133e-02  6.66876603e-03\n",
      "  4.36408445e-03 -1.52631225e-02 -1.38383042e-02 -2.61445399e-02\n",
      " -2.31361948e-02  2.66175158e-02  4.33394462e-02 -6.98645785e-03\n",
      " -9.83701088e-03  1.52458716e-02 -1.51399104e-02 -1.73833780e-02\n",
      " -4.93125152e-03  1.86128542e-02 -4.80813161e-03  3.13439919e-03\n",
      " -7.93620571e-03  1.69985592e-02 -2.03368571e-02 -3.60927656e-02\n",
      "  1.62150618e-02 -2.08855104e-02 -4.04599588e-03 -2.67630909e-02\n",
      " -1.66026074e-02  3.43437791e-02  1.36715733e-02 -1.04331095e-02\n",
      "  1.03907827e-02 -1.59341972e-02  1.40131507e-02  1.17835589e-02\n",
      "  2.57907528e-02 -1.79461837e-02  3.99587676e-04  3.79353063e-03\n",
      " -3.25329676e-02 -1.84615329e-03 -2.09891181e-02  3.48887108e-02\n",
      "  1.27826110e-02  1.26180910e-02 -8.76985118e-03 -6.25574496e-03\n",
      "  6.15786668e-03  1.07596871e-02 -3.85394134e-02  2.21056119e-02\n",
      "  2.49264445e-02  3.66144255e-02  2.00780705e-02 -1.66579355e-02\n",
      " -1.37244491e-02  2.97489436e-03  1.17927194e-02  2.24939976e-02\n",
      " -3.79584990e-02  1.48538761e-02  1.01142917e-02 -5.25323190e-02\n",
      "  2.99090669e-02  7.90334679e-03  1.49774672e-02 -2.33967099e-02\n",
      "  4.15592194e-02  1.10829724e-02  3.96198183e-02  3.29413265e-03\n",
      " -1.65133495e-02  8.01364332e-03  2.72234008e-02  1.31352618e-03\n",
      "  1.23995068e-02  3.94859724e-03  1.93379745e-02  1.28855901e-02\n",
      "  2.39875205e-02 -4.13388200e-03  7.53741711e-04  4.30917181e-02\n",
      "  2.48105042e-02  1.19535420e-02 -2.04093587e-02  4.87313047e-03\n",
      "  1.42863467e-02 -1.14300521e-03  3.71169439e-03  2.36520469e-02\n",
      " -2.48451880e-03  4.55998741e-02  1.76686049e-03 -6.35245815e-03\n",
      " -9.72075388e-04  1.16211250e-02  1.11649781e-02  9.62505862e-03\n",
      "  7.31671229e-04  2.16066092e-02  1.14482427e-02 -1.00281872e-02\n",
      "  1.43790562e-02  4.70797345e-03  3.77080515e-02  9.17768106e-04\n",
      "  2.53711399e-02  2.00826004e-02  3.21546979e-02 -2.62073874e-02\n",
      "  1.06410831e-02 -1.72723085e-05 -5.05938102e-03 -7.37871975e-03\n",
      "  6.06006198e-03 -9.25484486e-03 -7.43281096e-03 -4.22124192e-03\n",
      "  3.91742215e-02  1.14112571e-02  1.74572878e-02 -1.82992574e-02\n",
      " -4.07146802e-03 -2.65014172e-02 -1.02113551e-02  4.64434270e-03\n",
      "  1.78451594e-02 -9.88928787e-03  1.28120892e-02  9.31036286e-03\n",
      "  2.92083807e-02 -1.28195416e-02  2.18503028e-02  1.24602737e-02\n",
      " -2.73113754e-02  3.27550098e-02  3.41159105e-02  9.16905422e-03\n",
      "  1.61905959e-02 -1.13751553e-03 -8.77507590e-03  3.11771650e-02\n",
      " -3.83474194e-02 -3.46544944e-03  1.79626606e-03 -8.09952430e-03\n",
      "  1.45238005e-02  1.05928238e-02 -1.14411488e-03  3.25776562e-02\n",
      "  6.07333891e-03  2.01930720e-02 -1.01934019e-02  8.06919858e-03]\n",
      "----------------------------------------\n",
      "input sentence: [\"There are films that make careers. For George Romero, it was NIGHT OF THE LIVING DEAD; for Kevin Smith, CLERKS; for Robert Rodriguez, EL MARIACHI. Add to that list Onur Tukel's absolutely amazing DING-A-LING-LESS. Flawless film-making, and as assured and as professional as any of the aforementioned movies. I haven't laughed this hard since I saw THE FULL MONTY. (And, even then, I don't think I laughed quite this hard... So to speak.) Tukel's talent is considerable: DING-A-LING-LESS is so chock full of double entendres that one would have to sit down with a copy of this script and do a line-by-line examination of it to fully appreciate the, uh, breadth and width of it. Every shot is beautifully composed (a clear sign of a sure-handed director), and the performances all around are solid (there's none of the over-the-top scenery chewing one might've expected from a film like this). DING-A-LING-LESS is a film whose time has come.\"]\n",
      "\n",
      "Actual Label: 1,  Predicted label: [[0.3123481]]\n"
     ]
    },
    {
     "data": {
      "text/html": [
       "<mark style=background-color:#60a22d;font-size:20px;>[START] </mark><mark style=background-color:#faedf3;font-size:20px;>there </mark><mark style=background-color:#fbe9f2;font-size:20px;>are </mark><mark style=background-color:#f2f6ec;font-size:20px;>films </mark><mark style=background-color:#f5f7f3;font-size:20px;>that </mark><mark style=background-color:#eda8d1;font-size:20px;>make </mark><mark style=background-color:#edf6e1;font-size:20px;>careers </mark><mark style=background-color:#f8f2f5;font-size:20px;>for </mark><mark style=background-color:#eca6cf;font-size:20px;>george </mark><mark style=background-color:#f7cce5;font-size:20px;>romero </mark><mark style=background-color:#d6eeb6;font-size:20px;>it </mark><mark style=background-color:#fbe7f2;font-size:20px;>was </mark><mark style=background-color:#f1f6e8;font-size:20px;>night </mark><mark style=background-color:#f5f7f3;font-size:20px;>of </mark><mark style=background-color:#f1f6ea;font-size:20px;>the </mark><mark style=background-color:#dbf0bf;font-size:20px;>living </mark><mark style=background-color:#fbd8eb;font-size:20px;>dead </mark><mark style=background-color:#f9eff4;font-size:20px;>for </mark><mark style=background-color:#f7f6f7;font-size:20px;>kevin </mark><mark style=background-color:#ddf1c1;font-size:20px;>smith </mark><mark style=background-color:#fce4f0;font-size:20px;>clerks </mark><mark style=background-color:#f7f7f7;font-size:20px;>for </mark><mark style=background-color:#f2f6ec;font-size:20px;>robert </mark><mark style=background-color:#fce5f1;font-size:20px;>rodriguez </mark><mark style=background-color:#e7f5d2;font-size:20px;>el </mark><mark style=background-color:#fde1ef;font-size:20px;>[UNK] </mark><mark style=background-color:#f6c9e3;font-size:20px;>add </mark><mark style=background-color:#f8f3f6;font-size:20px;>to </mark><mark style=background-color:#faebf3;font-size:20px;>that </mark><mark style=background-color:#cdeaa7;font-size:20px;>list </mark><mark style=background-color:#faecf3;font-size:20px;>[UNK] </mark><mark style=background-color:#f9eef4;font-size:20px;>[UNK] </mark><mark style=background-color:#f8f4f6;font-size:20px;>absolutely </mark><mark style=background-color:#276419;font-size:20px;>amazing </mark><mark style=background-color:#f7f6f7;font-size:20px;>[UNK] </mark><mark style=background-color:#62a32e;font-size:20px;>flawless </mark><mark style=background-color:#fcdded;font-size:20px;>filmmaking </mark><mark style=background-color:#e9f5d8;font-size:20px;>and </mark><mark style=background-color:#f7f6f7;font-size:20px;>as </mark><mark style=background-color:#eff6e5;font-size:20px;>assured </mark><mark style=background-color:#e6f5d0;font-size:20px;>and </mark><mark style=background-color:#faecf3;font-size:20px;>as </mark><mark style=background-color:#d2ecb0;font-size:20px;>professional </mark><mark style=background-color:#faedf3;font-size:20px;>as </mark><mark style=background-color:#fde1ef;font-size:20px;>any </mark><mark style=background-color:#f0f6e7;font-size:20px;>of </mark><mark style=background-color:#eaf5d9;font-size:20px;>the </mark><mark style=background-color:#fbd9ec;font-size:20px;>aforementioned </mark><mark style=background-color:#eaf5d9;font-size:20px;>movies </mark><mark style=background-color:#f8f2f5;font-size:20px;>i </mark><mark style=background-color:#f8f4f6;font-size:20px;>havent </mark><mark style=background-color:#cbe9a4;font-size:20px;>laughed </mark><mark style=background-color:#fce5f1;font-size:20px;>this </mark><mark style=background-color:#f3f6ed;font-size:20px;>hard </mark><mark style=background-color:#c9e8a2;font-size:20px;>since </mark><mark style=background-color:#f7f7f6;font-size:20px;>i </mark><mark style=background-color:#f7f7f7;font-size:20px;>saw </mark><mark style=background-color:#eff6e4;font-size:20px;>the </mark><mark style=background-color:#fde1ef;font-size:20px;>full </mark><mark style=background-color:#f9f1f5;font-size:20px;>monty </mark><mark style=background-color:#ebf6dc;font-size:20px;>and </mark><mark style=background-color:#fbd9ec;font-size:20px;>even </mark><mark style=background-color:#fbd8eb;font-size:20px;>then </mark><mark style=background-color:#f3f6ed;font-size:20px;>i </mark><mark style=background-color:#f9d3e8;font-size:20px;>dont </mark><mark style=background-color:#b9e187;font-size:20px;>think </mark><mark style=background-color:#f9f0f5;font-size:20px;>i </mark><mark style=background-color:#e6f5d0;font-size:20px;>laughed </mark><mark style=background-color:#d6eeb6;font-size:20px;>quite </mark><mark style=background-color:#fce5f1;font-size:20px;>this </mark><mark style=background-color:#fbe9f2;font-size:20px;>hard </mark><mark style=background-color:#fde1ef;font-size:20px;>so </mark><mark style=background-color:#fce4f0;font-size:20px;>to </mark><mark style=background-color:#f9f1f5;font-size:20px;>speak </mark><mark style=background-color:#f7f7f6;font-size:20px;>[UNK] </mark><mark style=background-color:#e58dbe;font-size:20px;>talent </mark><mark style=background-color:#eaf5d9;font-size:20px;>is </mark><mark style=background-color:#e58dbe;font-size:20px;>considerable </mark><mark style=background-color:#f7f7f6;font-size:20px;>[UNK] </mark><mark style=background-color:#e9f5d6;font-size:20px;>is </mark><mark style=background-color:#f3f6ed;font-size:20px;>so </mark><mark style=background-color:#e9f5d6;font-size:20px;>chock </mark><mark style=background-color:#fde0ef;font-size:20px;>full </mark><mark style=background-color:#f7f7f7;font-size:20px;>of </mark><mark style=background-color:#f3bcdd;font-size:20px;>double </mark><mark style=background-color:#f9eff4;font-size:20px;>[UNK] </mark><mark style=background-color:#fbe7f2;font-size:20px;>that </mark><mark style=background-color:#e7f5d3;font-size:20px;>one </mark><mark style=background-color:#fddeee;font-size:20px;>would </mark><mark style=background-color:#f5f7f2;font-size:20px;>have </mark><mark style=background-color:#fbe8f2;font-size:20px;>to </mark><mark style=background-color:#f8f5f6;font-size:20px;>sit </mark><mark style=background-color:#fbe8f2;font-size:20px;>down </mark><mark style=background-color:#f3f6ed;font-size:20px;>with </mark><mark style=background-color:#fbe6f1;font-size:20px;>a </mark><mark style=background-color:#9ed067;font-size:20px;>copy </mark><mark style=background-color:#f1f6e8;font-size:20px;>of </mark><mark style=background-color:#f3f6ed;font-size:20px;>this </mark><mark style=background-color:#a80d66;font-size:20px;>script </mark><mark style=background-color:#f0f6e7;font-size:20px;>and </mark><mark style=background-color:#fddeee;font-size:20px;>do </mark><mark style=background-color:#f3f6ed;font-size:20px;>a </mark><mark style=background-color:#f7f7f7;font-size:20px;>[UNK] </mark><mark style=background-color:#e1f3c7;font-size:20px;>examination </mark><mark style=background-color:#fce4f0;font-size:20px;>of </mark><mark style=background-color:#dff2c4;font-size:20px;>it </mark><mark style=background-color:#f8f2f5;font-size:20px;>to </mark><mark style=background-color:#edf6df;font-size:20px;>fully </mark><mark style=background-color:#79b73d;font-size:20px;>appreciate </mark><mark style=background-color:#f1f6ea;font-size:20px;>the </mark><mark style=background-color:#f9f1f5;font-size:20px;>uh </mark><mark style=background-color:#fce3f0;font-size:20px;>[UNK] </mark><mark style=background-color:#bee490;font-size:20px;>and </mark><mark style=background-color:#f7f6f7;font-size:20px;>[UNK] </mark><mark style=background-color:#e9f5d8;font-size:20px;>of </mark><mark style=background-color:#e9f5d6;font-size:20px;>it </mark><mark style=background-color:#fcdbed;font-size:20px;>every </mark><mark style=background-color:#e7f5d3;font-size:20px;>shot </mark><mark style=background-color:#e2f3ca;font-size:20px;>is </mark><mark style=background-color:#6bac34;font-size:20px;>beautifully </mark><mark style=background-color:#fbe7f2;font-size:20px;>composed </mark><mark style=background-color:#f2f6ec;font-size:20px;>a </mark><mark style=background-color:#f0f6e7;font-size:20px;>clear </mark><mark style=background-color:#efb0d6;font-size:20px;>sign </mark><mark style=background-color:#eff6e4;font-size:20px;>of </mark><mark style=background-color:#f6f7f5;font-size:20px;>a </mark><mark style=background-color:#f9f0f5;font-size:20px;>[UNK] </mark><mark style=background-color:#fcdded;font-size:20px;>director </mark><mark style=background-color:#cfebaa;font-size:20px;>and </mark><mark style=background-color:#f0f6e7;font-size:20px;>the </mark><mark style=background-color:#d9f0bc;font-size:20px;>performances </mark><mark style=background-color:#faedf3;font-size:20px;>all </mark><mark style=background-color:#f9f0f5;font-size:20px;>around </mark><mark style=background-color:#faeaf2;font-size:20px;>are </mark><mark style=background-color:#5c9e2a;font-size:20px;>solid </mark><mark style=background-color:#fbe9f2;font-size:20px;>theres </mark><mark style=background-color:#d34f99;font-size:20px;>none </mark><mark style=background-color:#ebf6db;font-size:20px;>of </mark><mark style=background-color:#f5f7f2;font-size:20px;>the </mark><mark style=background-color:#f3f6ed;font-size:20px;>overthetop </mark><mark style=background-color:#fbd8eb;font-size:20px;>scenery </mark><mark style=background-color:#f8f4f6;font-size:20px;>chewing </mark><mark style=background-color:#e7f5d3;font-size:20px;>one </mark><mark style=background-color:#f3bcdd;font-size:20px;>mightve </mark><mark style=background-color:#faebf3;font-size:20px;>expected </mark><mark style=background-color:#ebf6dc;font-size:20px;>from </mark><mark style=background-color:#f0f6e7;font-size:20px;>a </mark><mark style=background-color:#f4f7f0;font-size:20px;>film </mark><mark style=background-color:#f5f7f2;font-size:20px;>like </mark><mark style=background-color:#f8f3f6;font-size:20px;>this </mark><mark style=background-color:#edf6df;font-size:20px;>[UNK] </mark><mark style=background-color:#edf6e1;font-size:20px;>is </mark><mark style=background-color:#ebf6db;font-size:20px;>a </mark><mark style=background-color:#e8f5d5;font-size:20px;>film </mark><mark style=background-color:#f4f7f0;font-size:20px;>whose </mark><mark style=background-color:#f9f1f5;font-size:20px;>time </mark><mark style=background-color:#d0ecad;font-size:20px;>has </mark><mark style=background-color:#f3f6ed;font-size:20px;>come </mark><mark style=background-color:#f7f7f6;font-size:20px;> </mark><mark style=background-color:#f9f1f5;font-size:20px;> </mark><mark style=background-color:#f3f6ed;font-size:20px;> </mark><mark style=background-color:#f8f3f6;font-size:20px;> </mark><mark style=background-color:#f8f3f6;font-size:20px;> </mark><mark style=background-color:#f8f5f6;font-size:20px;> </mark><mark style=background-color:#ebf6db;font-size:20px;> </mark><mark style=background-color:#f3f7ef;font-size:20px;> </mark><mark style=background-color:#eff6e5;font-size:20px;> </mark><mark style=background-color:#f9eef4;font-size:20px;> </mark><mark style=background-color:#f8f5f6;font-size:20px;> </mark><mark style=background-color:#fbe8f2;font-size:20px;> </mark><mark style=background-color:#f9f1f5;font-size:20px;> </mark><mark style=background-color:#f5f7f2;font-size:20px;> </mark><mark style=background-color:#f0f6e7;font-size:20px;> </mark><mark style=background-color:#f8f5f6;font-size:20px;> </mark><mark style=background-color:#f1f6ea;font-size:20px;> </mark><mark style=background-color:#f3f7ef;font-size:20px;> </mark><mark style=background-color:#ebf6db;font-size:20px;> </mark><mark style=background-color:#f9f0f5;font-size:20px;> </mark><mark style=background-color:#eff6e5;font-size:20px;> </mark><mark style=background-color:#f2f6ec;font-size:20px;> </mark><mark style=background-color:#f9eef4;font-size:20px;> </mark><mark style=background-color:#e9f5d8;font-size:20px;> </mark><mark style=background-color:#e9f5d6;font-size:20px;> </mark><mark style=background-color:#f3f7ef;font-size:20px;> </mark><mark style=background-color:#f0f6e7;font-size:20px;> </mark><mark style=background-color:#f8f3f6;font-size:20px;> </mark><mark style=background-color:#f8f3f6;font-size:20px;> </mark><mark style=background-color:#ebf6db;font-size:20px;> </mark><mark style=background-color:#fce5f1;font-size:20px;> </mark><mark style=background-color:#f8f5f6;font-size:20px;> </mark><mark style=background-color:#f7f7f6;font-size:20px;> </mark><mark style=background-color:#f9f0f5;font-size:20px;> </mark><mark style=background-color:#f1f6e8;font-size:20px;> </mark><mark style=background-color:#f5f7f3;font-size:20px;> </mark><mark style=background-color:#f7f7f6;font-size:20px;> </mark><mark style=background-color:#edf6df;font-size:20px;> </mark><mark style=background-color:#f5f7f2;font-size:20px;> </mark><mark style=background-color:#eff6e5;font-size:20px;> </mark><mark style=background-color:#f9f1f5;font-size:20px;> </mark><mark style=background-color:#f4f7f0;font-size:20px;> </mark>"
      ],
      "text/plain": [
       "<IPython.core.display.HTML object>"
      ]
     },
     "metadata": {},
     "output_type": "display_data"
    },
    {
     "name": "stdout",
     "output_type": "stream",
     "text": [
      "\n",
      " [ 7.3123083e-02 -9.2992643e-03 -1.2241291e-02  5.9548486e-03\n",
      "  2.2144872e-03 -4.4769645e-02  1.1272298e-02 -4.5319553e-03\n",
      " -4.5360427e-02 -2.9273964e-02  2.6845098e-02 -1.3857229e-02\n",
      "  7.3723160e-03  1.5877853e-03  6.7304391e-03  2.4472326e-02\n",
      " -2.4156721e-02 -6.4879018e-03 -1.0719076e-03  2.3850521e-02\n",
      " -1.6683396e-02 -4.2296783e-04  5.8908891e-03 -1.5209125e-02\n",
      "  1.9449953e-02 -1.9232148e-02 -3.0871466e-02 -3.6478238e-03\n",
      " -1.0616899e-02  3.0891733e-02 -9.5614251e-03 -7.8195464e-03\n",
      " -3.0002501e-03  1.0090464e-01 -8.6503942e-04  7.2349116e-02\n",
      " -2.1606591e-02  1.6163394e-02 -9.4098132e-04  9.4050923e-03\n",
      "  2.0329865e-02 -9.6983239e-03  2.8381826e-02 -8.7526469e-03\n",
      " -1.9332664e-02  8.2575288e-03  1.5270955e-02 -2.3619924e-02\n",
      "  1.5306981e-02 -4.7206767e-03 -2.7754060e-03  3.1798497e-02\n",
      " -1.6433986e-02  5.1948209e-03  3.3100709e-02  2.3097126e-04\n",
      " -4.7800224e-04  9.7676860e-03 -1.9428909e-02 -4.8110913e-03\n",
      "  1.3740256e-02 -2.3548868e-02 -2.3650795e-02  4.8627108e-03\n",
      " -2.6653277e-02  4.0049575e-02 -5.7750833e-03  2.0258442e-02\n",
      "  2.6949808e-02 -1.5635831e-02 -1.1851305e-02 -1.9446908e-02\n",
      " -1.7096527e-02 -4.9337065e-03  5.1369565e-04 -5.2864619e-02\n",
      "  1.5705444e-02 -5.3333394e-02  6.1627151e-04  1.6681153e-02\n",
      "  5.1208921e-03  1.6856978e-02 -1.9865125e-02 -6.5281056e-06\n",
      " -3.7324913e-02 -7.0610708e-03 -1.4123807e-02  1.8574957e-02\n",
      " -2.0511054e-02  2.8955587e-03 -1.2648629e-02 -1.7858315e-03\n",
      " -1.2962477e-02  4.9867565e-03 -1.4454633e-02  4.9344443e-02\n",
      "  7.7636521e-03  5.4939971e-03 -9.0891376e-02  7.9986146e-03\n",
      " -2.0660255e-02  5.1799347e-03 -3.7198584e-04  2.2342656e-02\n",
      " -1.7058112e-02  2.2901386e-02 -4.2048786e-03  1.2603111e-02\n",
      "  6.2581182e-02  6.3128453e-03 -5.3771380e-03 -1.7904840e-02\n",
      "  3.7445329e-02 -1.2068353e-03  1.6022768e-02  1.7152609e-02\n",
      " -2.2133023e-02  1.8428627e-02  2.1736218e-02  6.8399794e-02\n",
      " -1.3862942e-02  5.8474927e-03  8.6554289e-03 -4.2327702e-02\n",
      "  9.8636802e-03  1.1683553e-03 -6.1155250e-03 -2.1702819e-02\n",
      "  3.0504957e-02  8.0226082e-03  2.5516277e-02 -8.8613257e-03\n",
      " -6.1914022e-03 -1.1255901e-02  7.4287325e-02 -1.2304798e-02\n",
      " -6.8788767e-02  1.4646782e-02  3.0801324e-03  5.5118180e-03\n",
      " -2.3663888e-02 -3.0264230e-03  1.8137107e-02 -3.7251506e-02\n",
      " -1.0340935e-02  1.4167089e-02  8.3633913e-03  3.4889430e-03\n",
      "  2.5959527e-03 -3.9285445e-03  1.2226699e-02  1.1482361e-02\n",
      "  1.4938478e-02  1.7925609e-02  3.7299246e-03 -5.3396327e-03\n",
      "  2.9198108e-02  4.9387775e-03  7.1508205e-04 -4.9356390e-03\n",
      "  4.7564497e-03 -3.7507452e-03 -3.1732642e-03 -2.1968507e-03\n",
      "  1.4218554e-02  4.1524721e-03  8.9099389e-03 -8.2797389e-03\n",
      " -2.1653336e-03 -1.3292899e-02 -4.9442006e-03  2.3763145e-03\n",
      "  8.5105449e-03 -1.9348254e-03  6.6363309e-03  4.2618336e-03\n",
      "  1.4453558e-02 -5.8633685e-03  9.2061805e-03  5.9798788e-03\n",
      " -7.8394599e-03  1.5979208e-02  1.6923416e-02  4.5854021e-03\n",
      "  8.1268940e-03 -3.8288198e-03 -3.7701854e-03  1.4352018e-02\n",
      " -1.5928451e-02 -2.1936144e-03  2.7821539e-04 -5.6493916e-03\n",
      "  7.7359788e-03  1.6753511e-03  3.0726194e-05  1.2394737e-02\n",
      "  2.8054554e-03  9.3688769e-03 -5.0910255e-03  3.8921952e-03]\n"
     ]
    }
   ],
   "source": [
    "example_sentences = [\n",
    "    ('Adrian Pasdar is excellent in this film. He makes a fascinating woman.',1),\n",
    "    ('This is the definitive movie version of Hamlet. Branagh cuts nothing, but there are no wasted moments.',1),\n",
    "    (\"I don't know why I like this movie so well, but I never get tired of watching it.\",1),    \n",
    "    (\"The film lacked depth, with weak characters and a confusing plot. It failed to engage, leaving me disappointed and uninterested.\",0),\n",
    "    (\"The movie's lackluster plot and uninspired performances didn't leave me impressed.\",0),\n",
    "    (\"The movie was a complete letdown: weak plot, uninspiring performances, and a total waste of time.\",0),\n",
    "    (\"The woman in this movie\",0),\n",
    "    (\"The man in this movie\",0),\n",
    "    (\"There are films that make careers. For George Romero, it was NIGHT OF THE LIVING DEAD; for Kevin Smith, CLERKS; for Robert Rodriguez, EL MARIACHI. Add to that list Onur Tukel's absolutely amazing DING-A-LING-LESS. Flawless film-making, and as assured and as professional as any of the aforementioned movies. I haven't laughed this hard since I saw THE FULL MONTY. (And, even then, I don't think I laughed quite this hard... So to speak.) Tukel's talent is considerable: DING-A-LING-LESS is so chock full of double entendres that one would have to sit down with a copy of this script and do a line-by-line examination of it to fully appreciate the, uh, breadth and width of it. Every shot is beautifully composed (a clear sign of a sure-handed director), and the performances all around are solid (there's none of the over-the-top scenery chewing one might've expected from a film like this). DING-A-LING-LESS is a film whose time has come.\",1),    \n",
    "]\n",
    "for sent, label in example_sentences:\n",
    "    ig.interpret([sent],0, label)\n",
    "    "
   ]
  },
  {
   "cell_type": "code",
   "execution_count": 73,
   "id": "fe1315e7",
   "metadata": {},
   "outputs": [
    {
     "data": {
      "text/plain": [
       "([2,\n",
       "  6706,\n",
       "  1,\n",
       "  8,\n",
       "  313,\n",
       "  9,\n",
       "  12,\n",
       "  21,\n",
       "  28,\n",
       "  160,\n",
       "  5,\n",
       "  1393,\n",
       "  247,\n",
       "  0,\n",
       "  0,\n",
       "  0,\n",
       "  0,\n",
       "  0,\n",
       "  0,\n",
       "  0,\n",
       "  0,\n",
       "  0,\n",
       "  0,\n",
       "  0,\n",
       "  0,\n",
       "  0,\n",
       "  0,\n",
       "  0,\n",
       "  0,\n",
       "  0,\n",
       "  0,\n",
       "  0,\n",
       "  0,\n",
       "  0,\n",
       "  0,\n",
       "  0,\n",
       "  0,\n",
       "  0,\n",
       "  0,\n",
       "  0,\n",
       "  0,\n",
       "  0,\n",
       "  0,\n",
       "  0,\n",
       "  0,\n",
       "  0,\n",
       "  0,\n",
       "  0,\n",
       "  0,\n",
       "  0,\n",
       "  0,\n",
       "  0,\n",
       "  0,\n",
       "  0,\n",
       "  0,\n",
       "  0,\n",
       "  0,\n",
       "  0,\n",
       "  0,\n",
       "  0,\n",
       "  0,\n",
       "  0,\n",
       "  0,\n",
       "  0,\n",
       "  0,\n",
       "  0,\n",
       "  0,\n",
       "  0,\n",
       "  0,\n",
       "  0,\n",
       "  0,\n",
       "  0,\n",
       "  0,\n",
       "  0,\n",
       "  0,\n",
       "  0,\n",
       "  0,\n",
       "  0,\n",
       "  0,\n",
       "  0,\n",
       "  0,\n",
       "  0,\n",
       "  0,\n",
       "  0,\n",
       "  0,\n",
       "  0,\n",
       "  0,\n",
       "  0,\n",
       "  0,\n",
       "  0,\n",
       "  0,\n",
       "  0,\n",
       "  0,\n",
       "  0,\n",
       "  0,\n",
       "  0,\n",
       "  0,\n",
       "  0,\n",
       "  0,\n",
       "  0,\n",
       "  0,\n",
       "  0,\n",
       "  0,\n",
       "  0,\n",
       "  0,\n",
       "  0,\n",
       "  0,\n",
       "  0,\n",
       "  0,\n",
       "  0,\n",
       "  0,\n",
       "  0,\n",
       "  0,\n",
       "  0,\n",
       "  0,\n",
       "  0,\n",
       "  0,\n",
       "  0,\n",
       "  0,\n",
       "  0,\n",
       "  0,\n",
       "  0,\n",
       "  0,\n",
       "  0,\n",
       "  0,\n",
       "  0,\n",
       "  0,\n",
       "  0,\n",
       "  0,\n",
       "  0,\n",
       "  0,\n",
       "  0,\n",
       "  0,\n",
       "  0,\n",
       "  0,\n",
       "  0,\n",
       "  0,\n",
       "  0,\n",
       "  0,\n",
       "  0,\n",
       "  0,\n",
       "  0,\n",
       "  0,\n",
       "  0,\n",
       "  0,\n",
       "  0,\n",
       "  0,\n",
       "  0,\n",
       "  0,\n",
       "  0,\n",
       "  0,\n",
       "  0,\n",
       "  0,\n",
       "  0,\n",
       "  0,\n",
       "  0,\n",
       "  0,\n",
       "  0,\n",
       "  0,\n",
       "  0,\n",
       "  0,\n",
       "  0,\n",
       "  0,\n",
       "  0,\n",
       "  0,\n",
       "  0,\n",
       "  0,\n",
       "  0,\n",
       "  0,\n",
       "  0,\n",
       "  0,\n",
       "  0,\n",
       "  0,\n",
       "  0,\n",
       "  0,\n",
       "  0,\n",
       "  0,\n",
       "  0,\n",
       "  0,\n",
       "  0,\n",
       "  0,\n",
       "  0,\n",
       "  0,\n",
       "  0,\n",
       "  0,\n",
       "  0,\n",
       "  0,\n",
       "  0,\n",
       "  0,\n",
       "  0,\n",
       "  0,\n",
       "  0,\n",
       "  0,\n",
       "  0,\n",
       "  0,\n",
       "  0,\n",
       "  0,\n",
       "  0,\n",
       "  0,\n",
       "  0],\n",
       " ['[START]',\n",
       "  'adrian',\n",
       "  '[UNK]',\n",
       "  'is',\n",
       "  'excellent',\n",
       "  'in',\n",
       "  'this',\n",
       "  'film',\n",
       "  'he',\n",
       "  'makes',\n",
       "  'a',\n",
       "  'fascinating',\n",
       "  'woman',\n",
       "  '',\n",
       "  '',\n",
       "  '',\n",
       "  '',\n",
       "  '',\n",
       "  '',\n",
       "  '',\n",
       "  '',\n",
       "  '',\n",
       "  '',\n",
       "  '',\n",
       "  '',\n",
       "  '',\n",
       "  '',\n",
       "  '',\n",
       "  '',\n",
       "  '',\n",
       "  '',\n",
       "  '',\n",
       "  '',\n",
       "  '',\n",
       "  '',\n",
       "  '',\n",
       "  '',\n",
       "  '',\n",
       "  '',\n",
       "  '',\n",
       "  '',\n",
       "  '',\n",
       "  '',\n",
       "  '',\n",
       "  '',\n",
       "  '',\n",
       "  '',\n",
       "  '',\n",
       "  '',\n",
       "  '',\n",
       "  '',\n",
       "  '',\n",
       "  '',\n",
       "  '',\n",
       "  '',\n",
       "  '',\n",
       "  '',\n",
       "  '',\n",
       "  '',\n",
       "  '',\n",
       "  '',\n",
       "  '',\n",
       "  '',\n",
       "  '',\n",
       "  '',\n",
       "  '',\n",
       "  '',\n",
       "  '',\n",
       "  '',\n",
       "  '',\n",
       "  '',\n",
       "  '',\n",
       "  '',\n",
       "  '',\n",
       "  '',\n",
       "  '',\n",
       "  '',\n",
       "  '',\n",
       "  '',\n",
       "  '',\n",
       "  '',\n",
       "  '',\n",
       "  '',\n",
       "  '',\n",
       "  '',\n",
       "  '',\n",
       "  '',\n",
       "  '',\n",
       "  '',\n",
       "  '',\n",
       "  '',\n",
       "  '',\n",
       "  '',\n",
       "  '',\n",
       "  '',\n",
       "  '',\n",
       "  '',\n",
       "  '',\n",
       "  '',\n",
       "  '',\n",
       "  '',\n",
       "  '',\n",
       "  '',\n",
       "  '',\n",
       "  '',\n",
       "  '',\n",
       "  '',\n",
       "  '',\n",
       "  '',\n",
       "  '',\n",
       "  '',\n",
       "  '',\n",
       "  '',\n",
       "  '',\n",
       "  '',\n",
       "  '',\n",
       "  '',\n",
       "  '',\n",
       "  '',\n",
       "  '',\n",
       "  '',\n",
       "  '',\n",
       "  '',\n",
       "  '',\n",
       "  '',\n",
       "  '',\n",
       "  '',\n",
       "  '',\n",
       "  '',\n",
       "  '',\n",
       "  '',\n",
       "  '',\n",
       "  '',\n",
       "  '',\n",
       "  '',\n",
       "  '',\n",
       "  '',\n",
       "  '',\n",
       "  '',\n",
       "  '',\n",
       "  '',\n",
       "  '',\n",
       "  '',\n",
       "  '',\n",
       "  '',\n",
       "  '',\n",
       "  '',\n",
       "  '',\n",
       "  '',\n",
       "  '',\n",
       "  '',\n",
       "  '',\n",
       "  '',\n",
       "  '',\n",
       "  '',\n",
       "  '',\n",
       "  '',\n",
       "  '',\n",
       "  '',\n",
       "  '',\n",
       "  '',\n",
       "  '',\n",
       "  '',\n",
       "  '',\n",
       "  '',\n",
       "  '',\n",
       "  '',\n",
       "  '',\n",
       "  '',\n",
       "  '',\n",
       "  '',\n",
       "  '',\n",
       "  '',\n",
       "  '',\n",
       "  '',\n",
       "  '',\n",
       "  '',\n",
       "  '',\n",
       "  '',\n",
       "  '',\n",
       "  '',\n",
       "  '',\n",
       "  '',\n",
       "  '',\n",
       "  '',\n",
       "  '',\n",
       "  '',\n",
       "  '',\n",
       "  '',\n",
       "  '',\n",
       "  '',\n",
       "  '',\n",
       "  '',\n",
       "  '',\n",
       "  '',\n",
       "  '',\n",
       "  '',\n",
       "  '',\n",
       "  '',\n",
       "  ''],\n",
       " [0.1664346307516098,\n",
       "  -0.002484621712937951,\n",
       "  -0.01605038344860077,\n",
       "  0.02210916206240654,\n",
       "  0.3277997374534607,\n",
       "  -0.01367497444152832,\n",
       "  -0.0027206651866436005,\n",
       "  0.005759735591709614,\n",
       "  -0.08210404217243195,\n",
       "  0.06794974207878113,\n",
       "  0.010927380993962288,\n",
       "  0.165695920586586,\n",
       "  -0.07367412745952606,\n",
       "  0.004690500907599926,\n",
       "  0.004294291138648987,\n",
       "  0.0002340208739042282,\n",
       "  -0.010066497139632702,\n",
       "  -0.0007986708078533411,\n",
       "  -0.003190157003700733,\n",
       "  0.011264181695878506,\n",
       "  0.0012334170751273632,\n",
       "  0.003389446996152401,\n",
       "  0.0066316016018390656,\n",
       "  -0.02598392404615879,\n",
       "  0.011370801366865635,\n",
       "  -0.012780779041349888,\n",
       "  -0.021177396178245544,\n",
       "  0.005120367743074894,\n",
       "  -0.00683619873598218,\n",
       "  0.01238765474408865,\n",
       "  -0.0031437294092029333,\n",
       "  -0.0011888693552464247,\n",
       "  0.0036698132753372192,\n",
       "  0.010792061686515808,\n",
       "  0.006280646659433842,\n",
       "  -0.006629997864365578,\n",
       "  0.004722898360341787,\n",
       "  -0.0013222112320363522,\n",
       "  0.00591934472322464,\n",
       "  0.005956534296274185,\n",
       "  0.004742965567857027,\n",
       "  -0.0025116566102951765,\n",
       "  0.008158540353178978,\n",
       "  -0.004107552580535412,\n",
       "  0.012511937879025936,\n",
       "  0.01012995932251215,\n",
       "  0.013145210221409798,\n",
       "  0.0036661336198449135,\n",
       "  0.0028024744242429733,\n",
       "  -0.006763100158423185,\n",
       "  -0.006961256265640259,\n",
       "  -0.01203194074332714,\n",
       "  -0.010339142754673958,\n",
       "  0.012506304308772087,\n",
       "  0.020673692226409912,\n",
       "  -0.0025939494371414185,\n",
       "  -0.004281709901988506,\n",
       "  0.0070757679641246796,\n",
       "  -0.006750961299985647,\n",
       "  -0.008074039593338966,\n",
       "  -0.0019366622436791658,\n",
       "  0.009143244475126266,\n",
       "  -0.0023169927299022675,\n",
       "  0.0021702649537473917,\n",
       "  -0.003636605106294155,\n",
       "  0.008094818331301212,\n",
       "  -0.009236311540007591,\n",
       "  -0.016451997682452202,\n",
       "  0.00840630941092968,\n",
       "  -0.00948521587997675,\n",
       "  -0.0023990219924598932,\n",
       "  -0.011621842160820961,\n",
       "  -0.007610974833369255,\n",
       "  0.016240112483501434,\n",
       "  0.00706900842487812,\n",
       "  -0.0047718132846057415,\n",
       "  0.004556334111839533,\n",
       "  -0.006966785062104464,\n",
       "  0.006883993744850159,\n",
       "  0.005492625758051872,\n",
       "  0.011836697347462177,\n",
       "  -0.008247002959251404,\n",
       "  0.0003918670117855072,\n",
       "  0.002631727373227477,\n",
       "  -0.015293356031179428,\n",
       "  -8.247653022408485e-05,\n",
       "  -0.010061926208436489,\n",
       "  0.01644410751760006,\n",
       "  0.006307058967649937,\n",
       "  0.006739730481058359,\n",
       "  -0.003376089036464691,\n",
       "  -0.003209113609045744,\n",
       "  0.0037847859784960747,\n",
       "  0.005262146703898907,\n",
       "  -0.01764700934290886,\n",
       "  0.010730057023465633,\n",
       "  0.011310689151287079,\n",
       "  0.016143763437867165,\n",
       "  0.008838442154228687,\n",
       "  -0.007931683212518692,\n",
       "  -0.005944926291704178,\n",
       "  0.002038991544395685,\n",
       "  0.005865600425750017,\n",
       "  0.011088475584983826,\n",
       "  -0.01570541225373745,\n",
       "  0.006929864175617695,\n",
       "  0.004900993313640356,\n",
       "  -0.02459249459207058,\n",
       "  0.01423972100019455,\n",
       "  0.004398417193442583,\n",
       "  0.00730664050206542,\n",
       "  -0.010928141884505749,\n",
       "  0.01954496279358864,\n",
       "  0.005525869783014059,\n",
       "  0.019015369936823845,\n",
       "  0.0016039768233895302,\n",
       "  -0.007073981687426567,\n",
       "  0.004111065063625574,\n",
       "  0.013619212433695793,\n",
       "  0.0008458276279270649,\n",
       "  0.006591089069843292,\n",
       "  0.0019907786045223475,\n",
       "  0.00938913319259882,\n",
       "  0.006676573771983385,\n",
       "  0.011347124353051186,\n",
       "  -0.0019624591805040836,\n",
       "  0.0007019611075520515,\n",
       "  0.021042482927441597,\n",
       "  0.011522112414240837,\n",
       "  0.0061011528596282005,\n",
       "  -0.009838802739977837,\n",
       "  0.0020302217453718185,\n",
       "  0.006216967944055796,\n",
       "  -0.0007835665019229054,\n",
       "  0.0019504660740494728,\n",
       "  0.012242374941706657,\n",
       "  -0.0006682829698547721,\n",
       "  0.01940988004207611,\n",
       "  0.001186611596494913,\n",
       "  -0.002742717508226633,\n",
       "  -6.90976157784462e-05,\n",
       "  0.0051164631731808186,\n",
       "  0.004778208676725626,\n",
       "  0.0048957522958517075,\n",
       "  0.001390037126839161,\n",
       "  0.010629726573824883,\n",
       "  0.005201245658099651,\n",
       "  -0.004049060866236687,\n",
       "  0.006793196778744459,\n",
       "  0.0027097268030047417,\n",
       "  0.01764955371618271,\n",
       "  0.0010423064231872559,\n",
       "  0.012555324472486973,\n",
       "  0.009889770299196243,\n",
       "  0.015770062804222107,\n",
       "  -0.011769382283091545,\n",
       "  0.004751476459205151,\n",
       "  -0.0003407588228583336,\n",
       "  -0.0019843229092657566,\n",
       "  -0.004305379930883646,\n",
       "  0.0028591554146260023,\n",
       "  -0.0045921895653009415,\n",
       "  -0.0032388505060225725,\n",
       "  -0.0012733833864331245,\n",
       "  0.018424198031425476,\n",
       "  0.005683384370058775,\n",
       "  0.008694392628967762,\n",
       "  -0.008115949109196663,\n",
       "  -0.002615741454064846,\n",
       "  -0.012117130681872368,\n",
       "  -0.004378275014460087,\n",
       "  0.0026657956186681986,\n",
       "  0.009037189185619354,\n",
       "  -0.004204595927149057,\n",
       "  0.006774868816137314,\n",
       "  0.005043720826506615,\n",
       "  0.014168107882142067,\n",
       "  -0.00559011148288846,\n",
       "  0.010610748082399368,\n",
       "  0.006446697749197483,\n",
       "  -0.013218526728451252,\n",
       "  0.015139485709369183,\n",
       "  0.016772164031863213,\n",
       "  0.004482084885239601,\n",
       "  0.008018819615244865,\n",
       "  -0.0011642677709460258,\n",
       "  -0.003984835930168629,\n",
       "  0.01407543569803238,\n",
       "  -0.017950259149074554,\n",
       "  -0.0006249987054616213,\n",
       "  0.001766306348145008,\n",
       "  -0.0033356482163071632,\n",
       "  0.0076868655160069466,\n",
       "  0.0027184784412384033,\n",
       "  -0.0007365553174167871,\n",
       "  0.015203441493213177,\n",
       "  0.003527148859575391,\n",
       "  0.010194018483161926,\n",
       "  -0.00472992192953825,\n",
       "  0.0043620336800813675],\n",
       " 0.98911136,\n",
       " 1)"
      ]
     },
     "execution_count": 73,
     "metadata": {},
     "output_type": "execute_result"
    }
   ],
   "source": [
    "sample_vector, words, igs, pred, actual_label"
   ]
  },
  {
   "cell_type": "code",
   "execution_count": 16,
   "id": "fa464f74",
   "metadata": {},
   "outputs": [
    {
     "data": {
      "text/plain": [
       "<tf.Tensor: shape=(1, 200, 32), dtype=float32, numpy=\n",
       "array([[[-0.00059784, -0.03275159,  0.02271906, ...,  0.01842468,\n",
       "          0.09823875,  0.04400781],\n",
       "        [ 0.01197303, -0.01004608,  0.03502756, ...,  0.08448137,\n",
       "         -0.0129277 , -0.05387341],\n",
       "        [ 0.04472831,  0.00880836,  0.02157377, ...,  0.07108115,\n",
       "          0.01975156, -0.01244216],\n",
       "        ...,\n",
       "        [ 0.03577767,  0.02936106,  0.01246516, ..., -0.01253782,\n",
       "          0.00284435, -0.01513893],\n",
       "        [ 0.05610805,  0.0403404 ,  0.07943371, ...,  0.04669676,\n",
       "         -0.02951703,  0.03323597],\n",
       "        [-0.02954861,  0.00456147,  0.00371142, ...,  0.027246  ,\n",
       "          0.01591534,  0.03277054]]], dtype=float32)>"
      ]
     },
     "execution_count": 16,
     "metadata": {},
     "output_type": "execute_result"
    }
   ],
   "source": [
    "input_text = [\"It is an excellent movie\"]\n",
    "tokens = model.get_layer(index=1)([input_text])\n",
    "embeddings = model.get_layer(index=2)(tokens)\n",
    "embeddings"
   ]
  },
  {
   "cell_type": "code",
   "execution_count": 32,
   "id": "889ea9cb",
   "metadata": {},
   "outputs": [
    {
     "data": {
      "text/plain": [
       "6"
      ]
     },
     "execution_count": 32,
     "metadata": {},
     "output_type": "execute_result"
    }
   ],
   "source": [
    "tf.argmax(tokens==0, axis=1).numpy()[0]"
   ]
  },
  {
   "cell_type": "code",
   "execution_count": 33,
   "id": "b2a34d93",
   "metadata": {},
   "outputs": [
    {
     "data": {
      "text/plain": [
       "<tf.Tensor: shape=(1, 200), dtype=int64, numpy=\n",
       "array([[  2,  10,   8,  35, 313,  19,   0,   0,   0,   0,   0,   0,   0,\n",
       "          0,   0,   0,   0,   0,   0,   0,   0,   0,   0,   0,   0,   0,\n",
       "          0,   0,   0,   0,   0,   0,   0,   0,   0,   0,   0,   0,   0,\n",
       "          0,   0,   0,   0,   0,   0,   0,   0,   0,   0,   0,   0,   0,\n",
       "          0,   0,   0,   0,   0,   0,   0,   0,   0,   0,   0,   0,   0,\n",
       "          0,   0,   0,   0,   0,   0,   0,   0,   0,   0,   0,   0,   0,\n",
       "          0,   0,   0,   0,   0,   0,   0,   0,   0,   0,   0,   0,   0,\n",
       "          0,   0,   0,   0,   0,   0,   0,   0,   0,   0,   0,   0,   0,\n",
       "          0,   0,   0,   0,   0,   0,   0,   0,   0,   0,   0,   0,   0,\n",
       "          0,   0,   0,   0,   0,   0,   0,   0,   0,   0,   0,   0,   0,\n",
       "          0,   0,   0,   0,   0,   0,   0,   0,   0,   0,   0,   0,   0,\n",
       "          0,   0,   0,   0,   0,   0,   0,   0,   0,   0,   0,   0,   0,\n",
       "          0,   0,   0,   0,   0,   0,   0,   0,   0,   0,   0,   0,   0,\n",
       "          0,   0,   0,   0,   0,   0,   0,   0,   0,   0,   0,   0,   0,\n",
       "          0,   0,   0,   0,   0,   0,   0,   0,   0,   0,   0,   0,   0,\n",
       "          0,   0,   0,   0,   0]], dtype=int64)>"
      ]
     },
     "execution_count": 33,
     "metadata": {},
     "output_type": "execute_result"
    }
   ],
   "source": [
    "tokens"
   ]
  },
  {
   "cell_type": "code",
   "execution_count": 18,
   "id": "92f8d4b9",
   "metadata": {},
   "outputs": [],
   "source": [
    "mask =  model.get_layer(index=2).compute_mask([input_text])\n",
    "mask"
   ]
  },
  {
   "cell_type": "code",
   "execution_count": 52,
   "id": "1955a618",
   "metadata": {},
   "outputs": [
    {
     "name": "stdout",
     "output_type": "stream",
     "text": [
      "Model: \"sequential_2\"\n",
      "_________________________________________________________________\n",
      " Layer (type)                Output Shape              Param #   \n",
      "=================================================================\n",
      " tranformer_block1 (Transfor  multiple                 10656     \n",
      " merBlock)                                                       \n",
      "                                                                 \n",
      " tranformer_block2 (Transfor  multiple                 10656     \n",
      " merBlock)                                                       \n",
      "                                                                 \n",
      " tf.__operators__.getitem_6   (None, 32)               0         \n",
      " (SlicingOpLambda)                                               \n",
      "                                                                 \n",
      " dropout_54 (Dropout)        (None, 32)                0         \n",
      "                                                                 \n",
      " dense_54 (Dense)            (None, 20)                660       \n",
      "                                                                 \n",
      " dropout_55 (Dropout)        (None, 20)                0         \n",
      "                                                                 \n",
      " dense_55 (Dense)            (None, 1)                 21        \n",
      "                                                                 \n",
      "=================================================================\n",
      "Total params: 21,993\n",
      "Trainable params: 21,993\n",
      "Non-trainable params: 0\n",
      "_________________________________________________________________\n"
     ]
    }
   ],
   "source": [
    "ig.new_model.summary()"
   ]
  },
  {
   "cell_type": "code",
   "execution_count": 67,
   "id": "5103dfad",
   "metadata": {},
   "outputs": [],
   "source": [
    "sequential_model = tf.keras.models.Sequential([tf.keras.layers.InputLayer(input_shape=(200,32))] + sequential_model)"
   ]
  },
  {
   "cell_type": "code",
   "execution_count": 77,
   "id": "68725096",
   "metadata": {},
   "outputs": [
    {
     "name": "stdout",
     "output_type": "stream",
     "text": [
      "tranformer_block1\n",
      "tranformer_block2\n",
      "layer_start_token_extractor\n",
      "dropout_78\n",
      "dense_78\n",
      "dropout_79\n",
      "dense_79\n"
     ]
    }
   ],
   "source": [
    "new_model = tf.keras.Sequential()\n",
    "#input_layer = tf.keras.layers.InputLayer(input_shape=(200,32))\n",
    "new_model.add(input_layer)\n",
    "for layer in model.layers[3:]:\n",
    "    print(layer.name)\n",
    "    new_model.add(layer)"
   ]
  },
  {
   "cell_type": "code",
   "execution_count": 79,
   "id": "7be267a9",
   "metadata": {},
   "outputs": [
    {
     "data": {
      "text/plain": [
       "<tf.Tensor: shape=(1, 1), dtype=float32, numpy=array([[0.7642441]], dtype=float32)>"
      ]
     },
     "execution_count": 79,
     "metadata": {},
     "output_type": "execute_result"
    }
   ],
   "source": [
    "new_model(embeddings)"
   ]
  },
  {
   "cell_type": "code",
   "execution_count": null,
   "id": "3d29df1d",
   "metadata": {},
   "outputs": [],
   "source": [
    "example_sentences = [\n",
    "    (\"This movie is terrible but it has some good effects.\",0),\n",
    "    (\"Ming The Merciless does a little Bardwork and a movie most foul!\",0),\n",
    "    #(\"If you haven't seen this, it's terrible. It is pure trash. I saw this about 17 years ago, and I'm still screwed up from it.\",0),\n",
    "    (\"This movie is not good. Nothing in this movie is interesting\",0)\n",
    "]\n",
    "for sent, label in example_sentences:\n",
    "    ig.interpret(sent,0, label)"
   ]
  },
  {
   "cell_type": "markdown",
   "id": "96a1b034",
   "metadata": {},
   "source": [
    "#### V6 version"
   ]
  },
  {
   "cell_type": "code",
   "execution_count": 104,
   "id": "c51a4bd7",
   "metadata": {},
   "outputs": [],
   "source": [
    "ig = IntegratedGradients(model_v6, 1, 2, bert_vocab)"
   ]
  },
  {
   "cell_type": "code",
   "execution_count": 111,
   "id": "1c13c515",
   "metadata": {},
   "outputs": [
    {
     "name": "stdout",
     "output_type": "stream",
     "text": [
      "----------------------------------------\n",
      "input sentence: Adrian Pasdar is excellent is this film. He makes a fascinating woman.\n",
      "\n",
      "Actual Label: 1,  Predicted label: [[0.95717084]]\n"
     ]
    },
    {
     "data": {
      "text/html": [
       "<mark style=background-color:#69aa33;font-size:20px;>[CLS] </mark><mark style=background-color:#9ccf64;font-size:20px;>adrian </mark><mark style=background-color:#73b239;font-size:20px;>pas </mark><mark style=background-color:#549825;font-size:20px;>##dar </mark><mark style=background-color:#9ccf64;font-size:20px;>is </mark><mark style=background-color:#6faf37;font-size:20px;>excellent </mark><mark style=background-color:#91c857;font-size:20px;>is </mark><mark style=background-color:#498d20;font-size:20px;>this </mark><mark style=background-color:#a1d26a;font-size:20px;>film </mark><mark style=background-color:#b7e085;font-size:20px;>. </mark><mark style=background-color:#62a32e;font-size:20px;>he </mark><mark style=background-color:#b5df82;font-size:20px;>makes </mark><mark style=background-color:#3d7f1e;font-size:20px;>a </mark><mark style=background-color:#67a832;font-size:20px;>fascinating </mark><mark style=background-color:#34741c;font-size:20px;>woman </mark><mark style=background-color:#aeda7a;font-size:20px;>. </mark><mark style=background-color:#b0dc7d;font-size:20px;>[SEP] </mark>"
      ],
      "text/plain": [
       "<IPython.core.display.HTML object>"
      ]
     },
     "metadata": {},
     "output_type": "display_data"
    },
    {
     "name": "stdout",
     "output_type": "stream",
     "text": [
      "----------------------------------------\n",
      "input sentence: This is the definitive movie version of Hamlet. Branagh cuts nothing, but there are no wasted moments.\n",
      "\n",
      "Actual Label: 1,  Predicted label: [[0.95632136]]\n"
     ]
    },
    {
     "data": {
      "text/html": [
       "<mark style=background-color:#69aa33;font-size:20px;>[CLS] </mark><mark style=background-color:#9ccf64;font-size:20px;>this </mark><mark style=background-color:#73b239;font-size:20px;>is </mark><mark style=background-color:#569927;font-size:20px;>the </mark><mark style=background-color:#9ed067;font-size:20px;>definitive </mark><mark style=background-color:#71b038;font-size:20px;>movie </mark><mark style=background-color:#91c857;font-size:20px;>version </mark><mark style=background-color:#4b8f21;font-size:20px;>of </mark><mark style=background-color:#a3d36c;font-size:20px;>hamlet </mark><mark style=background-color:#b7e085;font-size:20px;>. </mark><mark style=background-color:#64a52f;font-size:20px;>bran </mark><mark style=background-color:#b5df82;font-size:20px;>##agh </mark><mark style=background-color:#3d7f1e;font-size:20px;>cuts </mark><mark style=background-color:#67a832;font-size:20px;>nothing </mark><mark style=background-color:#37781c;font-size:20px;>, </mark><mark style=background-color:#aeda7a;font-size:20px;>but </mark><mark style=background-color:#b0dc7d;font-size:20px;>there </mark><mark style=background-color:#98cc5f;font-size:20px;>are </mark><mark style=background-color:#b2dd7f;font-size:20px;>no </mark><mark style=background-color:#33721c;font-size:20px;>wasted </mark><mark style=background-color:#d4edb3;font-size:20px;>moments </mark><mark style=background-color:#d6eeb6;font-size:20px;>. </mark><mark style=background-color:#83bf46;font-size:20px;>[SEP] </mark>"
      ],
      "text/plain": [
       "<IPython.core.display.HTML object>"
      ]
     },
     "metadata": {},
     "output_type": "display_data"
    },
    {
     "name": "stdout",
     "output_type": "stream",
     "text": [
      "----------------------------------------\n",
      "input sentence: I don't know why I like this movie so well, but I never get tired of watching it.\n",
      "\n",
      "Actual Label: 1,  Predicted label: [[0.95629215]]\n"
     ]
    },
    {
     "data": {
      "text/html": [
       "<mark style=background-color:#69aa33;font-size:20px;>[CLS] </mark><mark style=background-color:#9ccf64;font-size:20px;>i </mark><mark style=background-color:#73b239;font-size:20px;>don </mark><mark style=background-color:#569927;font-size:20px;>' </mark><mark style=background-color:#9ed067;font-size:20px;>t </mark><mark style=background-color:#71b038;font-size:20px;>know </mark><mark style=background-color:#93c959;font-size:20px;>why </mark><mark style=background-color:#4b8f21;font-size:20px;>i </mark><mark style=background-color:#a1d26a;font-size:20px;>like </mark><mark style=background-color:#b7e085;font-size:20px;>this </mark><mark style=background-color:#64a52f;font-size:20px;>movie </mark><mark style=background-color:#b7e085;font-size:20px;>so </mark><mark style=background-color:#3f811e;font-size:20px;>well </mark><mark style=background-color:#67a832;font-size:20px;>, </mark><mark style=background-color:#36761c;font-size:20px;>but </mark><mark style=background-color:#aeda7a;font-size:20px;>i </mark><mark style=background-color:#b0dc7d;font-size:20px;>never </mark><mark style=background-color:#98cc5f;font-size:20px;>get </mark><mark style=background-color:#b5df82;font-size:20px;>tired </mark><mark style=background-color:#31711b;font-size:20px;>of </mark><mark style=background-color:#d4edb3;font-size:20px;>watching </mark><mark style=background-color:#d6eeb6;font-size:20px;>it </mark><mark style=background-color:#83bf46;font-size:20px;>. </mark><mark style=background-color:#9ccf64;font-size:20px;>[SEP] </mark>"
      ],
      "text/plain": [
       "<IPython.core.display.HTML object>"
      ]
     },
     "metadata": {},
     "output_type": "display_data"
    },
    {
     "name": "stdout",
     "output_type": "stream",
     "text": [
      "----------------------------------------\n",
      "input sentence: It is an excellent movie\n",
      "\n",
      "Actual Label: 1,  Predicted label: [[0.95702946]]\n"
     ]
    },
    {
     "data": {
      "text/html": [
       "<mark style=background-color:#69aa33;font-size:20px;>[CLS] </mark><mark style=background-color:#9ccf64;font-size:20px;>it </mark><mark style=background-color:#73b239;font-size:20px;>is </mark><mark style=background-color:#569927;font-size:20px;>an </mark><mark style=background-color:#9ccf64;font-size:20px;>excellent </mark><mark style=background-color:#71b038;font-size:20px;>movie </mark><mark style=background-color:#93c959;font-size:20px;>[SEP] </mark>"
      ],
      "text/plain": [
       "<IPython.core.display.HTML object>"
      ]
     },
     "metadata": {},
     "output_type": "display_data"
    }
   ],
   "source": [
    "example_sentences = [\n",
    "    ('Adrian Pasdar is excellent is this film. He makes a fascinating woman.',1),\n",
    "    ('This is the definitive movie version of Hamlet. Branagh cuts nothing, but there are no wasted moments.',1),\n",
    "    (\"I don't know why I like this movie so well, but I never get tired of watching it.\",1),\n",
    "    (\"It is an excellent movie\",1),\n",
    "]\n",
    "for sent, label in example_sentences:\n",
    "    ig.interpret(sent,0, label)\n",
    "    "
   ]
  },
  {
   "cell_type": "code",
   "execution_count": 92,
   "id": "8746167a",
   "metadata": {},
   "outputs": [
    {
     "name": "stdout",
     "output_type": "stream",
     "text": [
      "Shape of the sample_embed: (1, 200, 32)\n",
      "Shape of the path_gradients: (51, 200, 32)\n",
      "Shape of igs: (200,)\n",
      "----------------------------------------\n",
      "input sentence: ['This movie is terrible but it has some good effects.']\n",
      "\n",
      "Actual Label: 0,  Predicted label: [[0.03891662]]\n"
     ]
    },
    {
     "data": {
      "text/html": [
       "<mark style=background-color:#e897c4;font-size:20px;>[START] </mark><mark style=background-color:#f8f3f6;font-size:20px;>this </mark><mark style=background-color:#f7f6f7;font-size:20px;>movie </mark><mark style=background-color:#f1f6e8;font-size:20px;>is </mark><mark style=background-color:#8e0152;font-size:20px;>terrible </mark><mark style=background-color:#f8f3f6;font-size:20px;>but </mark><mark style=background-color:#edf6e1;font-size:20px;>it </mark><mark style=background-color:#f1f6ea;font-size:20px;>has </mark><mark style=background-color:#f8f2f5;font-size:20px;>some </mark><mark style=background-color:#e1f3c7;font-size:20px;>good </mark><mark style=background-color:#f7f6f7;font-size:20px;>effects </mark><mark style=background-color:#f6f7f5;font-size:20px;> </mark><mark style=background-color:#f6f7f5;font-size:20px;> </mark><mark style=background-color:#f5f7f3;font-size:20px;> </mark><mark style=background-color:#f5f7f3;font-size:20px;> </mark><mark style=background-color:#f7f7f6;font-size:20px;> </mark><mark style=background-color:#f8f4f6;font-size:20px;> </mark><mark style=background-color:#f7f7f6;font-size:20px;> </mark><mark style=background-color:#f7f6f7;font-size:20px;> </mark><mark style=background-color:#f4f7f0;font-size:20px;> </mark><mark style=background-color:#f6f7f5;font-size:20px;> </mark><mark style=background-color:#f6f7f5;font-size:20px;> </mark><mark style=background-color:#f5f7f2;font-size:20px;> </mark><mark style=background-color:#f9eef4;font-size:20px;> </mark><mark style=background-color:#f3f7ef;font-size:20px;> </mark><mark style=background-color:#f8f3f6;font-size:20px;> </mark><mark style=background-color:#f9eff4;font-size:20px;> </mark><mark style=background-color:#f5f7f3;font-size:20px;> </mark><mark style=background-color:#f8f5f6;font-size:20px;> </mark><mark style=background-color:#f3f6ed;font-size:20px;> </mark><mark style=background-color:#f7f7f7;font-size:20px;> </mark><mark style=background-color:#f7f7f7;font-size:20px;> </mark><mark style=background-color:#f6f7f5;font-size:20px;> </mark><mark style=background-color:#f4f7f0;font-size:20px;> </mark><mark style=background-color:#f5f7f3;font-size:20px;> </mark><mark style=background-color:#f8f5f6;font-size:20px;> </mark><mark style=background-color:#f5f7f2;font-size:20px;> </mark><mark style=background-color:#f7f7f7;font-size:20px;> </mark><mark style=background-color:#f5f7f3;font-size:20px;> </mark><mark style=background-color:#f5f7f3;font-size:20px;> </mark><mark style=background-color:#f5f7f3;font-size:20px;> </mark><mark style=background-color:#f7f6f7;font-size:20px;> </mark><mark style=background-color:#f4f7f0;font-size:20px;> </mark><mark style=background-color:#f7f6f7;font-size:20px;> </mark><mark style=background-color:#f3f7ef;font-size:20px;> </mark><mark style=background-color:#f3f7ef;font-size:20px;> </mark><mark style=background-color:#f3f7ef;font-size:20px;> </mark><mark style=background-color:#f6f7f5;font-size:20px;> </mark><mark style=background-color:#f6f7f5;font-size:20px;> </mark><mark style=background-color:#f8f5f6;font-size:20px;> </mark><mark style=background-color:#f8f5f6;font-size:20px;> </mark><mark style=background-color:#f8f3f6;font-size:20px;> </mark><mark style=background-color:#f8f3f6;font-size:20px;> </mark><mark style=background-color:#f3f7ef;font-size:20px;> </mark><mark style=background-color:#f1f6ea;font-size:20px;> </mark><mark style=background-color:#f7f6f7;font-size:20px;> </mark><mark style=background-color:#f7f6f7;font-size:20px;> </mark><mark style=background-color:#f5f7f2;font-size:20px;> </mark><mark style=background-color:#f8f5f6;font-size:20px;> </mark><mark style=background-color:#f8f5f6;font-size:20px;> </mark><mark style=background-color:#f7f7f7;font-size:20px;> </mark><mark style=background-color:#f4f7f0;font-size:20px;> </mark><mark style=background-color:#f7f7f7;font-size:20px;> </mark><mark style=background-color:#f7f7f6;font-size:20px;> </mark><mark style=background-color:#f7f7f7;font-size:20px;> </mark><mark style=background-color:#f5f7f2;font-size:20px;> </mark><mark style=background-color:#f8f4f6;font-size:20px;> </mark><mark style=background-color:#f9f1f5;font-size:20px;> </mark><mark style=background-color:#f5f7f2;font-size:20px;> </mark><mark style=background-color:#f8f4f6;font-size:20px;> </mark><mark style=background-color:#f7f7f7;font-size:20px;> </mark><mark style=background-color:#f8f3f6;font-size:20px;> </mark><mark style=background-color:#f8f5f6;font-size:20px;> </mark><mark style=background-color:#f3f6ed;font-size:20px;> </mark><mark style=background-color:#f5f7f3;font-size:20px;> </mark><mark style=background-color:#f7f6f7;font-size:20px;> </mark><mark style=background-color:#f5f7f3;font-size:20px;> </mark><mark style=background-color:#f8f5f6;font-size:20px;> </mark><mark style=background-color:#f5f7f2;font-size:20px;> </mark><mark style=background-color:#f5f7f3;font-size:20px;> </mark><mark style=background-color:#f3f7ef;font-size:20px;> </mark><mark style=background-color:#f8f4f6;font-size:20px;> </mark><mark style=background-color:#f7f7f6;font-size:20px;> </mark><mark style=background-color:#f7f7f6;font-size:20px;> </mark><mark style=background-color:#f8f2f5;font-size:20px;> </mark><mark style=background-color:#f7f7f6;font-size:20px;> </mark><mark style=background-color:#f8f4f6;font-size:20px;> </mark><mark style=background-color:#f2f6ec;font-size:20px;> </mark><mark style=background-color:#f5f7f3;font-size:20px;> </mark><mark style=background-color:#f5f7f3;font-size:20px;> </mark><mark style=background-color:#f7f6f7;font-size:20px;> </mark><mark style=background-color:#f7f7f7;font-size:20px;> </mark><mark style=background-color:#f6f7f5;font-size:20px;> </mark><mark style=background-color:#f5f7f3;font-size:20px;> </mark><mark style=background-color:#f9f0f5;font-size:20px;> </mark><mark style=background-color:#f4f7f0;font-size:20px;> </mark><mark style=background-color:#f3f7ef;font-size:20px;> </mark><mark style=background-color:#f2f6ec;font-size:20px;> </mark><mark style=background-color:#f4f7f0;font-size:20px;> </mark><mark style=background-color:#f8f5f6;font-size:20px;> </mark><mark style=background-color:#f8f5f6;font-size:20px;> </mark><mark style=background-color:#f7f7f6;font-size:20px;> </mark><mark style=background-color:#f5f7f3;font-size:20px;> </mark><mark style=background-color:#f4f7f0;font-size:20px;> </mark><mark style=background-color:#f8f2f5;font-size:20px;> </mark><mark style=background-color:#f5f7f2;font-size:20px;> </mark><mark style=background-color:#f5f7f3;font-size:20px;> </mark><mark style=background-color:#f9eef4;font-size:20px;> </mark><mark style=background-color:#f3f6ed;font-size:20px;> </mark><mark style=background-color:#f5f7f3;font-size:20px;> </mark><mark style=background-color:#f5f7f2;font-size:20px;> </mark><mark style=background-color:#f8f4f6;font-size:20px;> </mark><mark style=background-color:#f1f6ea;font-size:20px;> </mark><mark style=background-color:#f5f7f3;font-size:20px;> </mark><mark style=background-color:#f1f6ea;font-size:20px;> </mark><mark style=background-color:#f6f7f5;font-size:20px;> </mark><mark style=background-color:#f8f5f6;font-size:20px;> </mark><mark style=background-color:#f5f7f3;font-size:20px;> </mark><mark style=background-color:#f3f7ef;font-size:20px;> </mark><mark style=background-color:#f6f7f5;font-size:20px;> </mark><mark style=background-color:#f5f7f3;font-size:20px;> </mark><mark style=background-color:#f6f7f5;font-size:20px;> </mark><mark style=background-color:#f4f7f0;font-size:20px;> </mark><mark style=background-color:#f5f7f2;font-size:20px;> </mark><mark style=background-color:#f3f7ef;font-size:20px;> </mark><mark style=background-color:#f7f7f7;font-size:20px;> </mark><mark style=background-color:#f7f7f6;font-size:20px;> </mark><mark style=background-color:#f1f6ea;font-size:20px;> </mark><mark style=background-color:#f3f7ef;font-size:20px;> </mark><mark style=background-color:#f5f7f3;font-size:20px;> </mark><mark style=background-color:#f8f4f6;font-size:20px;> </mark><mark style=background-color:#f6f7f5;font-size:20px;> </mark><mark style=background-color:#f5f7f2;font-size:20px;> </mark><mark style=background-color:#f7f7f6;font-size:20px;> </mark><mark style=background-color:#f6f7f5;font-size:20px;> </mark><mark style=background-color:#f4f7f0;font-size:20px;> </mark><mark style=background-color:#f7f7f7;font-size:20px;> </mark><mark style=background-color:#f1f6ea;font-size:20px;> </mark><mark style=background-color:#f7f7f6;font-size:20px;> </mark><mark style=background-color:#f7f7f7;font-size:20px;> </mark><mark style=background-color:#f7f7f6;font-size:20px;> </mark><mark style=background-color:#f5f7f3;font-size:20px;> </mark><mark style=background-color:#f5f7f3;font-size:20px;> </mark><mark style=background-color:#f5f7f3;font-size:20px;> </mark><mark style=background-color:#f7f7f6;font-size:20px;> </mark><mark style=background-color:#f4f7f0;font-size:20px;> </mark><mark style=background-color:#f5f7f3;font-size:20px;> </mark><mark style=background-color:#f7f6f7;font-size:20px;> </mark><mark style=background-color:#f5f7f2;font-size:20px;> </mark><mark style=background-color:#f6f7f5;font-size:20px;> </mark><mark style=background-color:#f2f6ec;font-size:20px;> </mark><mark style=background-color:#f7f7f6;font-size:20px;> </mark><mark style=background-color:#f3f7ef;font-size:20px;> </mark><mark style=background-color:#f4f7f0;font-size:20px;> </mark><mark style=background-color:#f3f6ed;font-size:20px;> </mark><mark style=background-color:#f8f3f6;font-size:20px;> </mark><mark style=background-color:#f5f7f3;font-size:20px;> </mark><mark style=background-color:#f7f7f6;font-size:20px;> </mark><mark style=background-color:#f7f7f7;font-size:20px;> </mark><mark style=background-color:#f7f7f7;font-size:20px;> </mark><mark style=background-color:#f6f7f5;font-size:20px;> </mark><mark style=background-color:#f7f6f7;font-size:20px;> </mark><mark style=background-color:#f7f6f7;font-size:20px;> </mark><mark style=background-color:#f7f7f7;font-size:20px;> </mark><mark style=background-color:#f2f6ec;font-size:20px;> </mark><mark style=background-color:#f5f7f3;font-size:20px;> </mark><mark style=background-color:#f5f7f2;font-size:20px;> </mark><mark style=background-color:#f8f4f6;font-size:20px;> </mark><mark style=background-color:#f7f7f7;font-size:20px;> </mark><mark style=background-color:#f8f3f6;font-size:20px;> </mark><mark style=background-color:#f7f6f7;font-size:20px;> </mark><mark style=background-color:#f6f7f5;font-size:20px;> </mark><mark style=background-color:#f5f7f2;font-size:20px;> </mark><mark style=background-color:#f7f7f7;font-size:20px;> </mark><mark style=background-color:#f5f7f2;font-size:20px;> </mark><mark style=background-color:#f5f7f3;font-size:20px;> </mark><mark style=background-color:#f3f6ed;font-size:20px;> </mark><mark style=background-color:#f8f5f6;font-size:20px;> </mark><mark style=background-color:#f4f7f0;font-size:20px;> </mark><mark style=background-color:#f5f7f2;font-size:20px;> </mark><mark style=background-color:#f8f4f6;font-size:20px;> </mark><mark style=background-color:#f2f6ec;font-size:20px;> </mark><mark style=background-color:#f2f6ec;font-size:20px;> </mark><mark style=background-color:#f5f7f3;font-size:20px;> </mark><mark style=background-color:#f5f7f2;font-size:20px;> </mark><mark style=background-color:#f7f7f6;font-size:20px;> </mark><mark style=background-color:#f7f6f7;font-size:20px;> </mark><mark style=background-color:#f3f6ed;font-size:20px;> </mark><mark style=background-color:#f9f1f5;font-size:20px;> </mark><mark style=background-color:#f7f7f7;font-size:20px;> </mark><mark style=background-color:#f7f7f6;font-size:20px;> </mark><mark style=background-color:#f7f7f7;font-size:20px;> </mark><mark style=background-color:#f5f7f2;font-size:20px;> </mark><mark style=background-color:#f5f7f3;font-size:20px;> </mark><mark style=background-color:#f7f7f6;font-size:20px;> </mark><mark style=background-color:#f3f6ed;font-size:20px;> </mark><mark style=background-color:#f6f7f5;font-size:20px;> </mark><mark style=background-color:#f4f7f0;font-size:20px;> </mark><mark style=background-color:#f7f6f7;font-size:20px;> </mark><mark style=background-color:#f6f7f5;font-size:20px;> </mark>"
      ],
      "text/plain": [
       "<IPython.core.display.HTML object>"
      ]
     },
     "metadata": {},
     "output_type": "display_data"
    },
    {
     "name": "stdout",
     "output_type": "stream",
     "text": [
      "Shape of the sample_embed: (1, 200, 32)\n",
      "Shape of the path_gradients: (51, 200, 32)\n",
      "Shape of igs: (200,)\n",
      "----------------------------------------\n",
      "input sentence: ['Ming The Merciless does a little Bardwork and a movie most foul!']\n",
      "\n",
      "Actual Label: 0,  Predicted label: [[0.9000741]]\n"
     ]
    },
    {
     "data": {
      "text/html": [
       "<mark style=background-color:#397a1d;font-size:20px;>[START] </mark><mark style=background-color:#f9f1f5;font-size:20px;>ming </mark><mark style=background-color:#fde2f0;font-size:20px;>the </mark><mark style=background-color:#f7f7f6;font-size:20px;>merciless </mark><mark style=background-color:#8e0152;font-size:20px;>does </mark><mark style=background-color:#fbd9ec;font-size:20px;>a </mark><mark style=background-color:#bbe28a;font-size:20px;>little </mark><mark style=background-color:#fbe6f1;font-size:20px;>[UNK] </mark><mark style=background-color:#e9f5d6;font-size:20px;>and </mark><mark style=background-color:#e7f5d2;font-size:20px;>a </mark><mark style=background-color:#f2f6ec;font-size:20px;>movie </mark><mark style=background-color:#b0dc7d;font-size:20px;>most </mark><mark style=background-color:#f0f6e7;font-size:20px;>foul </mark><mark style=background-color:#f1f6e8;font-size:20px;> </mark><mark style=background-color:#f1f6e8;font-size:20px;> </mark><mark style=background-color:#f7f7f7;font-size:20px;> </mark><mark style=background-color:#fce5f1;font-size:20px;> </mark><mark style=background-color:#f8f5f6;font-size:20px;> </mark><mark style=background-color:#f9f0f5;font-size:20px;> </mark><mark style=background-color:#e8f5d5;font-size:20px;> </mark><mark style=background-color:#f4f7f0;font-size:20px;> </mark><mark style=background-color:#f3f6ed;font-size:20px;> </mark><mark style=background-color:#eef6e2;font-size:20px;> </mark><mark style=background-color:#eeabd2;font-size:20px;> </mark><mark style=background-color:#e7f5d2;font-size:20px;> </mark><mark style=background-color:#fddeee;font-size:20px;> </mark><mark style=background-color:#f5c2e0;font-size:20px;> </mark><mark style=background-color:#f0f6e7;font-size:20px;> </mark><mark style=background-color:#faeaf2;font-size:20px;> </mark><mark style=background-color:#e1f3c7;font-size:20px;> </mark><mark style=background-color:#f9f1f5;font-size:20px;> </mark><mark style=background-color:#f8f4f6;font-size:20px;> </mark><mark style=background-color:#f3f6ed;font-size:20px;> </mark><mark style=background-color:#e9f5d6;font-size:20px;> </mark><mark style=background-color:#eff6e5;font-size:20px;> </mark><mark style=background-color:#fbe9f2;font-size:20px;> </mark><mark style=background-color:#f0f6e7;font-size:20px;> </mark><mark style=background-color:#f8f5f6;font-size:20px;> </mark><mark style=background-color:#eff6e4;font-size:20px;> </mark><mark style=background-color:#eff6e4;font-size:20px;> </mark><mark style=background-color:#f1f6e8;font-size:20px;> </mark><mark style=background-color:#f8f2f5;font-size:20px;> </mark><mark style=background-color:#ebf6db;font-size:20px;> </mark><mark style=background-color:#f9eff4;font-size:20px;> </mark><mark style=background-color:#e6f5d0;font-size:20px;> </mark><mark style=background-color:#e9f5d6;font-size:20px;> </mark><mark style=background-color:#e4f4cd;font-size:20px;> </mark><mark style=background-color:#f3f6ed;font-size:20px;> </mark><mark style=background-color:#f4f7f0;font-size:20px;> </mark><mark style=background-color:#faeaf2;font-size:20px;> </mark><mark style=background-color:#faebf3;font-size:20px;> </mark><mark style=background-color:#fde0ef;font-size:20px;> </mark><mark style=background-color:#fce3f0;font-size:20px;> </mark><mark style=background-color:#e4f4cd;font-size:20px;> </mark><mark style=background-color:#c7e89f;font-size:20px;> </mark><mark style=background-color:#f9f1f5;font-size:20px;> </mark><mark style=background-color:#f9eef4;font-size:20px;> </mark><mark style=background-color:#edf6df;font-size:20px;> </mark><mark style=background-color:#fbe9f2;font-size:20px;> </mark><mark style=background-color:#fbe7f2;font-size:20px;> </mark><mark style=background-color:#f8f3f6;font-size:20px;> </mark><mark style=background-color:#eaf5d9;font-size:20px;> </mark><mark style=background-color:#f8f3f6;font-size:20px;> </mark><mark style=background-color:#f5f7f2;font-size:20px;> </mark><mark style=background-color:#f9f0f5;font-size:20px;> </mark><mark style=background-color:#ebf6dc;font-size:20px;> </mark><mark style=background-color:#fce5f1;font-size:20px;> </mark><mark style=background-color:#f9d1e8;font-size:20px;> </mark><mark style=background-color:#ecf6de;font-size:20px;> </mark><mark style=background-color:#fce5f1;font-size:20px;> </mark><mark style=background-color:#f8f4f6;font-size:20px;> </mark><mark style=background-color:#fddeee;font-size:20px;> </mark><mark style=background-color:#fbe9f2;font-size:20px;> </mark><mark style=background-color:#d8efb9;font-size:20px;> </mark><mark style=background-color:#eef6e2;font-size:20px;> </mark><mark style=background-color:#f9eef4;font-size:20px;> </mark><mark style=background-color:#f0f6e7;font-size:20px;> </mark><mark style=background-color:#fbe9f2;font-size:20px;> </mark><mark style=background-color:#edf6e1;font-size:20px;> </mark><mark style=background-color:#eff6e5;font-size:20px;> </mark><mark style=background-color:#e6f5d0;font-size:20px;> </mark><mark style=background-color:#fbe7f2;font-size:20px;> </mark><mark style=background-color:#f7f7f6;font-size:20px;> </mark><mark style=background-color:#f4f7f0;font-size:20px;> </mark><mark style=background-color:#fad4e9;font-size:20px;> </mark><mark style=background-color:#f7f6f7;font-size:20px;> </mark><mark style=background-color:#fce5f1;font-size:20px;> </mark><mark style=background-color:#d6eeb6;font-size:20px;> </mark><mark style=background-color:#eff6e4;font-size:20px;> </mark><mark style=background-color:#eff6e4;font-size:20px;> </mark><mark style=background-color:#f9eff4;font-size:20px;> </mark><mark style=background-color:#f8f2f5;font-size:20px;> </mark><mark style=background-color:#f3f6ed;font-size:20px;> </mark><mark style=background-color:#f0f6e7;font-size:20px;> </mark><mark style=background-color:#f7cce5;font-size:20px;> </mark><mark style=background-color:#e9f5d6;font-size:20px;> </mark><mark style=background-color:#e7f5d3;font-size:20px;> </mark><mark style=background-color:#d4edb3;font-size:20px;> </mark><mark style=background-color:#eaf5d9;font-size:20px;> </mark><mark style=background-color:#fbe8f2;font-size:20px;> </mark><mark style=background-color:#faebf3;font-size:20px;> </mark><mark style=background-color:#f5f7f2;font-size:20px;> </mark><mark style=background-color:#eff6e5;font-size:20px;> </mark><mark style=background-color:#e8f5d5;font-size:20px;> </mark><mark style=background-color:#f8d0e7;font-size:20px;> </mark><mark style=background-color:#edf6e1;font-size:20px;> </mark><mark style=background-color:#f1f6e8;font-size:20px;> </mark><mark style=background-color:#f1b5d9;font-size:20px;> </mark><mark style=background-color:#dff2c4;font-size:20px;> </mark><mark style=background-color:#f2f6ec;font-size:20px;> </mark><mark style=background-color:#edf6df;font-size:20px;> </mark><mark style=background-color:#fce3f0;font-size:20px;> </mark><mark style=background-color:#c9e8a2;font-size:20px;> </mark><mark style=background-color:#f0f6e7;font-size:20px;> </mark><mark style=background-color:#cdeaa7;font-size:20px;> </mark><mark style=background-color:#f5f7f2;font-size:20px;> </mark><mark style=background-color:#fbe9f2;font-size:20px;> </mark><mark style=background-color:#f2f6ec;font-size:20px;> </mark><mark style=background-color:#e4f4cd;font-size:20px;> </mark><mark style=background-color:#f5f7f3;font-size:20px;> </mark><mark style=background-color:#eff6e4;font-size:20px;> </mark><mark style=background-color:#f4f7f0;font-size:20px;> </mark><mark style=background-color:#eaf5d9;font-size:20px;> </mark><mark style=background-color:#eef6e2;font-size:20px;> </mark><mark style=background-color:#e7f5d2;font-size:20px;> </mark><mark style=background-color:#f8f3f6;font-size:20px;> </mark><mark style=background-color:#f7f7f6;font-size:20px;> </mark><mark style=background-color:#c7e89f;font-size:20px;> </mark><mark style=background-color:#e7f5d2;font-size:20px;> </mark><mark style=background-color:#eff6e5;font-size:20px;> </mark><mark style=background-color:#fce5f1;font-size:20px;> </mark><mark style=background-color:#f4f7f0;font-size:20px;> </mark><mark style=background-color:#eef6e2;font-size:20px;> </mark><mark style=background-color:#f7f6f7;font-size:20px;> </mark><mark style=background-color:#f5f7f2;font-size:20px;> </mark><mark style=background-color:#e7f5d3;font-size:20px;> </mark><mark style=background-color:#f8f5f6;font-size:20px;> </mark><mark style=background-color:#c6e79c;font-size:20px;> </mark><mark style=background-color:#f6f7f5;font-size:20px;> </mark><mark style=background-color:#f8f2f5;font-size:20px;> </mark><mark style=background-color:#f7f6f7;font-size:20px;> </mark><mark style=background-color:#eff6e5;font-size:20px;> </mark><mark style=background-color:#f0f6e7;font-size:20px;> </mark><mark style=background-color:#f1f6e8;font-size:20px;> </mark><mark style=background-color:#f7f7f6;font-size:20px;> </mark><mark style=background-color:#e9f5d6;font-size:20px;> </mark><mark style=background-color:#eff6e5;font-size:20px;> </mark><mark style=background-color:#f9eef4;font-size:20px;> </mark><mark style=background-color:#edf6e1;font-size:20px;> </mark><mark style=background-color:#f4f7f0;font-size:20px;> </mark><mark style=background-color:#d0ecad;font-size:20px;> </mark><mark style=background-color:#f6f7f5;font-size:20px;> </mark><mark style=background-color:#e7f5d2;font-size:20px;> </mark><mark style=background-color:#e9f5d8;font-size:20px;> </mark><mark style=background-color:#dbf0bf;font-size:20px;> </mark><mark style=background-color:#fde0ef;font-size:20px;> </mark><mark style=background-color:#f0f6e7;font-size:20px;> </mark><mark style=background-color:#f7f7f6;font-size:20px;> </mark><mark style=background-color:#f8f4f6;font-size:20px;> </mark><mark style=background-color:#f9f0f5;font-size:20px;> </mark><mark style=background-color:#f3f6ed;font-size:20px;> </mark><mark style=background-color:#f9eff4;font-size:20px;> </mark><mark style=background-color:#f9f0f5;font-size:20px;> </mark><mark style=background-color:#f8f3f6;font-size:20px;> </mark><mark style=background-color:#d0ecad;font-size:20px;> </mark><mark style=background-color:#f0f6e7;font-size:20px;> </mark><mark style=background-color:#ebf6dc;font-size:20px;> </mark><mark style=background-color:#fbe7f2;font-size:20px;> </mark><mark style=background-color:#f8f3f6;font-size:20px;> </mark><mark style=background-color:#fddeee;font-size:20px;> </mark><mark style=background-color:#f9eef4;font-size:20px;> </mark><mark style=background-color:#f4f7f0;font-size:20px;> </mark><mark style=background-color:#ebf6dc;font-size:20px;> </mark><mark style=background-color:#f9eff4;font-size:20px;> </mark><mark style=background-color:#eff6e4;font-size:20px;> </mark><mark style=background-color:#f1f6ea;font-size:20px;> </mark><mark style=background-color:#e1f3c7;font-size:20px;> </mark><mark style=background-color:#faecf3;font-size:20px;> </mark><mark style=background-color:#e9f5d6;font-size:20px;> </mark><mark style=background-color:#eff6e4;font-size:20px;> </mark><mark style=background-color:#fde1ef;font-size:20px;> </mark><mark style=background-color:#d9f0bc;font-size:20px;> </mark><mark style=background-color:#d8efb9;font-size:20px;> </mark><mark style=background-color:#f1f6e8;font-size:20px;> </mark><mark style=background-color:#ecf6de;font-size:20px;> </mark><mark style=background-color:#f8f5f6;font-size:20px;> </mark><mark style=background-color:#f9eff4;font-size:20px;> </mark><mark style=background-color:#ddf1c1;font-size:20px;> </mark><mark style=background-color:#f8cee6;font-size:20px;> </mark><mark style=background-color:#f8f4f6;font-size:20px;> </mark><mark style=background-color:#f6f7f5;font-size:20px;> </mark><mark style=background-color:#f9eff4;font-size:20px;> </mark><mark style=background-color:#edf6e1;font-size:20px;> </mark><mark style=background-color:#f1f6e8;font-size:20px;> </mark><mark style=background-color:#f7f6f7;font-size:20px;> </mark><mark style=background-color:#ddf1c1;font-size:20px;> </mark><mark style=background-color:#f3f7ef;font-size:20px;> </mark><mark style=background-color:#eaf5d9;font-size:20px;> </mark><mark style=background-color:#f9eef4;font-size:20px;> </mark><mark style=background-color:#f2f6ec;font-size:20px;> </mark>"
      ],
      "text/plain": [
       "<IPython.core.display.HTML object>"
      ]
     },
     "metadata": {},
     "output_type": "display_data"
    },
    {
     "name": "stdout",
     "output_type": "stream",
     "text": [
      "Shape of the sample_embed: (1, 200, 32)\n",
      "Shape of the path_gradients: (51, 200, 32)\n",
      "Shape of igs: (200,)\n",
      "----------------------------------------\n",
      "input sentence: ['This movie is not good. Nothing in this movie is interesting']\n",
      "\n",
      "Actual Label: 0,  Predicted label: [[0.28716248]]\n"
     ]
    },
    {
     "data": {
      "text/html": [
       "<mark style=background-color:#d8efb9;font-size:20px;>[START] </mark><mark style=background-color:#faebf3;font-size:20px;>this </mark><mark style=background-color:#faecf3;font-size:20px;>movie </mark><mark style=background-color:#e7f5d3;font-size:20px;>is </mark><mark style=background-color:#e99cc8;font-size:20px;>not </mark><mark style=background-color:#e7f5d2;font-size:20px;>good </mark><mark style=background-color:#8e0152;font-size:20px;>nothing </mark><mark style=background-color:#f7f7f7;font-size:20px;>in </mark><mark style=background-color:#eeabd2;font-size:20px;>this </mark><mark style=background-color:#f0f6e7;font-size:20px;>movie </mark><mark style=background-color:#e9f5d8;font-size:20px;>is </mark><mark style=background-color:#f7cce5;font-size:20px;>interesting </mark><mark style=background-color:#f4f7f0;font-size:20px;> </mark><mark style=background-color:#f4f7f0;font-size:20px;> </mark><mark style=background-color:#f3f7ef;font-size:20px;> </mark><mark style=background-color:#f7f7f6;font-size:20px;> </mark><mark style=background-color:#f9eef4;font-size:20px;> </mark><mark style=background-color:#f7f7f7;font-size:20px;> </mark><mark style=background-color:#f8f4f6;font-size:20px;> </mark><mark style=background-color:#eff6e5;font-size:20px;> </mark><mark style=background-color:#f5f7f2;font-size:20px;> </mark><mark style=background-color:#f5f7f2;font-size:20px;> </mark><mark style=background-color:#f2f6ec;font-size:20px;> </mark><mark style=background-color:#fcdded;font-size:20px;> </mark><mark style=background-color:#eff6e4;font-size:20px;> </mark><mark style=background-color:#faecf3;font-size:20px;> </mark><mark style=background-color:#fce4f0;font-size:20px;> </mark><mark style=background-color:#f3f7ef;font-size:20px;> </mark><mark style=background-color:#f9f1f5;font-size:20px;> </mark><mark style=background-color:#edf6df;font-size:20px;> </mark><mark style=background-color:#f8f4f6;font-size:20px;> </mark><mark style=background-color:#f7f6f7;font-size:20px;> </mark><mark style=background-color:#f5f7f2;font-size:20px;> </mark><mark style=background-color:#f0f6e7;font-size:20px;> </mark><mark style=background-color:#f3f6ed;font-size:20px;> </mark><mark style=background-color:#f9f0f5;font-size:20px;> </mark><mark style=background-color:#f3f6ed;font-size:20px;> </mark><mark style=background-color:#f7f7f7;font-size:20px;> </mark><mark style=background-color:#f3f6ed;font-size:20px;> </mark><mark style=background-color:#f3f6ed;font-size:20px;> </mark><mark style=background-color:#f3f7ef;font-size:20px;> </mark><mark style=background-color:#f8f5f6;font-size:20px;> </mark><mark style=background-color:#f0f6e7;font-size:20px;> </mark><mark style=background-color:#f8f4f6;font-size:20px;> </mark><mark style=background-color:#eef6e2;font-size:20px;> </mark><mark style=background-color:#eff6e5;font-size:20px;> </mark><mark style=background-color:#eef6e2;font-size:20px;> </mark><mark style=background-color:#f5f7f2;font-size:20px;> </mark><mark style=background-color:#f5f7f2;font-size:20px;> </mark><mark style=background-color:#f9f0f5;font-size:20px;> </mark><mark style=background-color:#f9f1f5;font-size:20px;> </mark><mark style=background-color:#faecf3;font-size:20px;> </mark><mark style=background-color:#f9eef4;font-size:20px;> </mark><mark style=background-color:#eef6e2;font-size:20px;> </mark><mark style=background-color:#e9f5d6;font-size:20px;> </mark><mark style=background-color:#f8f5f6;font-size:20px;> </mark><mark style=background-color:#f8f4f6;font-size:20px;> </mark><mark style=background-color:#f1f6ea;font-size:20px;> </mark><mark style=background-color:#f9f1f5;font-size:20px;> </mark><mark style=background-color:#f9f0f5;font-size:20px;> </mark><mark style=background-color:#f8f5f6;font-size:20px;> </mark><mark style=background-color:#f0f6e7;font-size:20px;> </mark><mark style=background-color:#f7f6f7;font-size:20px;> </mark><mark style=background-color:#f6f7f5;font-size:20px;> </mark><mark style=background-color:#f8f4f6;font-size:20px;> </mark><mark style=background-color:#f1f6ea;font-size:20px;> </mark><mark style=background-color:#f9eef4;font-size:20px;> </mark><mark style=background-color:#fbe8f2;font-size:20px;> </mark><mark style=background-color:#f1f6ea;font-size:20px;> </mark><mark style=background-color:#f9eef4;font-size:20px;> </mark><mark style=background-color:#f7f6f7;font-size:20px;> </mark><mark style=background-color:#faecf3;font-size:20px;> </mark><mark style=background-color:#f9f0f5;font-size:20px;> </mark><mark style=background-color:#ecf6de;font-size:20px;> </mark><mark style=background-color:#f2f6ec;font-size:20px;> </mark><mark style=background-color:#f8f3f6;font-size:20px;> </mark><mark style=background-color:#f3f6ed;font-size:20px;> </mark><mark style=background-color:#f9f0f5;font-size:20px;> </mark><mark style=background-color:#f2f6ec;font-size:20px;> </mark><mark style=background-color:#f3f6ed;font-size:20px;> </mark><mark style=background-color:#eff6e4;font-size:20px;> </mark><mark style=background-color:#f9eff4;font-size:20px;> </mark><mark style=background-color:#f7f7f6;font-size:20px;> </mark><mark style=background-color:#f5f7f3;font-size:20px;> </mark><mark style=background-color:#fbe9f2;font-size:20px;> </mark><mark style=background-color:#f7f7f7;font-size:20px;> </mark><mark style=background-color:#f9eef4;font-size:20px;> </mark><mark style=background-color:#ebf6dc;font-size:20px;> </mark><mark style=background-color:#f3f6ed;font-size:20px;> </mark><mark style=background-color:#f3f6ed;font-size:20px;> </mark><mark style=background-color:#f8f4f6;font-size:20px;> </mark><mark style=background-color:#f8f5f6;font-size:20px;> </mark><mark style=background-color:#f5f7f2;font-size:20px;> </mark><mark style=background-color:#f3f6ed;font-size:20px;> </mark><mark style=background-color:#fbe6f1;font-size:20px;> </mark><mark style=background-color:#eff6e5;font-size:20px;> </mark><mark style=background-color:#eff6e4;font-size:20px;> </mark><mark style=background-color:#ebf6db;font-size:20px;> </mark><mark style=background-color:#f0f6e7;font-size:20px;> </mark><mark style=background-color:#f9f0f5;font-size:20px;> </mark><mark style=background-color:#f9f1f5;font-size:20px;> </mark><mark style=background-color:#f6f7f5;font-size:20px;> </mark><mark style=background-color:#f3f6ed;font-size:20px;> </mark><mark style=background-color:#eff6e5;font-size:20px;> </mark><mark style=background-color:#fbe8f2;font-size:20px;> </mark><mark style=background-color:#f2f6ec;font-size:20px;> </mark><mark style=background-color:#f3f7ef;font-size:20px;> </mark><mark style=background-color:#fde1ef;font-size:20px;> </mark><mark style=background-color:#edf6df;font-size:20px;> </mark><mark style=background-color:#f4f7f0;font-size:20px;> </mark><mark style=background-color:#f1f6ea;font-size:20px;> </mark><mark style=background-color:#f9eef4;font-size:20px;> </mark><mark style=background-color:#e9f5d6;font-size:20px;> </mark><mark style=background-color:#f3f7ef;font-size:20px;> </mark><mark style=background-color:#eaf5d9;font-size:20px;> </mark><mark style=background-color:#f5f7f3;font-size:20px;> </mark><mark style=background-color:#f9f0f5;font-size:20px;> </mark><mark style=background-color:#f4f7f0;font-size:20px;> </mark><mark style=background-color:#eef6e2;font-size:20px;> </mark><mark style=background-color:#f5f7f3;font-size:20px;> </mark><mark style=background-color:#f3f6ed;font-size:20px;> </mark><mark style=background-color:#f5f7f3;font-size:20px;> </mark><mark style=background-color:#f0f6e7;font-size:20px;> </mark><mark style=background-color:#f2f6ec;font-size:20px;> </mark><mark style=background-color:#eff6e4;font-size:20px;> </mark><mark style=background-color:#f7f6f7;font-size:20px;> </mark><mark style=background-color:#f7f7f6;font-size:20px;> </mark><mark style=background-color:#e9f5d6;font-size:20px;> </mark><mark style=background-color:#eff6e4;font-size:20px;> </mark><mark style=background-color:#f3f6ed;font-size:20px;> </mark><mark style=background-color:#f9eef4;font-size:20px;> </mark><mark style=background-color:#f5f7f2;font-size:20px;> </mark><mark style=background-color:#f2f6ec;font-size:20px;> </mark><mark style=background-color:#f7f7f7;font-size:20px;> </mark><mark style=background-color:#f5f7f3;font-size:20px;> </mark><mark style=background-color:#eff6e4;font-size:20px;> </mark><mark style=background-color:#f7f7f7;font-size:20px;> </mark><mark style=background-color:#e8f5d5;font-size:20px;> </mark><mark style=background-color:#f6f7f5;font-size:20px;> </mark><mark style=background-color:#f8f5f6;font-size:20px;> </mark><mark style=background-color:#f7f7f6;font-size:20px;> </mark><mark style=background-color:#f3f6ed;font-size:20px;> </mark><mark style=background-color:#f3f7ef;font-size:20px;> </mark><mark style=background-color:#f3f7ef;font-size:20px;> </mark><mark style=background-color:#f7f7f6;font-size:20px;> </mark><mark style=background-color:#f0f6e7;font-size:20px;> </mark><mark style=background-color:#f3f6ed;font-size:20px;> </mark><mark style=background-color:#f8f3f6;font-size:20px;> </mark><mark style=background-color:#f2f6ec;font-size:20px;> </mark><mark style=background-color:#f5f7f3;font-size:20px;> </mark><mark style=background-color:#ebf6db;font-size:20px;> </mark><mark style=background-color:#f7f7f6;font-size:20px;> </mark><mark style=background-color:#eff6e4;font-size:20px;> </mark><mark style=background-color:#f0f6e7;font-size:20px;> </mark><mark style=background-color:#ecf6de;font-size:20px;> </mark><mark style=background-color:#faecf3;font-size:20px;> </mark><mark style=background-color:#f3f6ed;font-size:20px;> </mark><mark style=background-color:#f7f7f6;font-size:20px;> </mark><mark style=background-color:#f7f6f7;font-size:20px;> </mark><mark style=background-color:#f8f4f6;font-size:20px;> </mark><mark style=background-color:#f4f7f0;font-size:20px;> </mark><mark style=background-color:#f8f4f6;font-size:20px;> </mark><mark style=background-color:#f8f4f6;font-size:20px;> </mark><mark style=background-color:#f7f6f7;font-size:20px;> </mark><mark style=background-color:#ebf6db;font-size:20px;> </mark><mark style=background-color:#f3f7ef;font-size:20px;> </mark><mark style=background-color:#f1f6ea;font-size:20px;> </mark><mark style=background-color:#f9eff4;font-size:20px;> </mark><mark style=background-color:#f7f6f7;font-size:20px;> </mark><mark style=background-color:#faecf3;font-size:20px;> </mark><mark style=background-color:#f8f3f6;font-size:20px;> </mark><mark style=background-color:#f5f7f3;font-size:20px;> </mark><mark style=background-color:#f1f6ea;font-size:20px;> </mark><mark style=background-color:#f8f4f6;font-size:20px;> </mark><mark style=background-color:#f2f6ec;font-size:20px;> </mark><mark style=background-color:#f4f7f0;font-size:20px;> </mark><mark style=background-color:#edf6e1;font-size:20px;> </mark><mark style=background-color:#f8f2f5;font-size:20px;> </mark><mark style=background-color:#eff6e5;font-size:20px;> </mark><mark style=background-color:#f3f6ed;font-size:20px;> </mark><mark style=background-color:#f9eef4;font-size:20px;> </mark><mark style=background-color:#ecf6de;font-size:20px;> </mark><mark style=background-color:#ebf6dc;font-size:20px;> </mark><mark style=background-color:#f4f7f0;font-size:20px;> </mark><mark style=background-color:#f1f6ea;font-size:20px;> </mark><mark style=background-color:#f7f7f7;font-size:20px;> </mark><mark style=background-color:#f8f4f6;font-size:20px;> </mark><mark style=background-color:#ecf6de;font-size:20px;> </mark><mark style=background-color:#fbe7f2;font-size:20px;> </mark><mark style=background-color:#f7f6f7;font-size:20px;> </mark><mark style=background-color:#f7f7f6;font-size:20px;> </mark><mark style=background-color:#f8f4f6;font-size:20px;> </mark><mark style=background-color:#f1f6ea;font-size:20px;> </mark><mark style=background-color:#f3f7ef;font-size:20px;> </mark><mark style=background-color:#f7f7f6;font-size:20px;> </mark><mark style=background-color:#ecf6de;font-size:20px;> </mark><mark style=background-color:#f5f7f2;font-size:20px;> </mark><mark style=background-color:#f0f6e7;font-size:20px;> </mark><mark style=background-color:#f8f3f6;font-size:20px;> </mark><mark style=background-color:#f4f7f0;font-size:20px;> </mark>"
      ],
      "text/plain": [
       "<IPython.core.display.HTML object>"
      ]
     },
     "metadata": {},
     "output_type": "display_data"
    }
   ],
   "source": [
    "example_sentences = [\n",
    "    (\"This movie is terrible but it has some good effects.\",0),\n",
    "    (\"Ming The Merciless does a little Bardwork and a movie most foul!\",0),\n",
    "    #(\"If you haven't seen this, it's terrible. It is pure trash. I saw this about 17 years ago, and I'm still screwed up from it.\",0),\n",
    "    (\"This movie is not good. Nothing in this movie is interesting\",0)\n",
    "]\n",
    "for sent, label in example_sentences:\n",
    "    ig.interpret([sent],0, label)"
   ]
  },
  {
   "cell_type": "code",
   "execution_count": null,
   "id": "d5ae0d37",
   "metadata": {},
   "outputs": [],
   "source": []
  },
  {
   "cell_type": "code",
   "execution_count": null,
   "id": "4017461e",
   "metadata": {},
   "outputs": [],
   "source": []
  },
  {
   "cell_type": "code",
   "execution_count": null,
   "id": "6b98daaf",
   "metadata": {},
   "outputs": [],
   "source": []
  },
  {
   "cell_type": "markdown",
   "id": "045d30d5",
   "metadata": {},
   "source": [
    "### Financial Phrasebank"
   ]
  },
  {
   "cell_type": "code",
   "execution_count": 56,
   "id": "95c2c79a",
   "metadata": {},
   "outputs": [
    {
     "name": "stdout",
     "output_type": "stream",
     "text": [
      "WARNING:tensorflow:No training configuration found in save file, so the model was *not* compiled. Compile it manually.\n"
     ]
    }
   ],
   "source": [
    "model_fin = tf.keras.models.load_model(r\"saved_models\\fin77_bert_v2\")"
   ]
  },
  {
   "cell_type": "code",
   "execution_count": 59,
   "id": "7e28bd0c",
   "metadata": {},
   "outputs": [],
   "source": [
    "igf = IntegratedGradients(model_fin, 1, 2, bert_vocab)"
   ]
  },
  {
   "cell_type": "code",
   "execution_count": 68,
   "id": "5d2eb873",
   "metadata": {},
   "outputs": [
    {
     "name": "stdout",
     "output_type": "stream",
     "text": [
      "----------------------------------------\n",
      "input sentence: Scanfil has also issued a profit warning .\n",
      "\n",
      "Actual Label: 0,  Predicted label: [[0.99041253 0.00388008 0.00570729]]\n"
     ]
    },
    {
     "data": {
      "text/html": [
       "<mark style=background-color:#b7e085;font-size:20px;>[CLS] </mark><mark style=background-color:#dff2c4;font-size:20px;>scan </mark><mark style=background-color:#c6e79c;font-size:20px;>##fi </mark><mark style=background-color:#a1d26a;font-size:20px;>##l </mark><mark style=background-color:#549825;font-size:20px;>has </mark><mark style=background-color:#43861f;font-size:20px;>also </mark><mark style=background-color:#488c20;font-size:20px;>issued </mark><mark style=background-color:#34741c;font-size:20px;>a </mark><mark style=background-color:#40831e;font-size:20px;>profit </mark><mark style=background-color:#36761c;font-size:20px;>warning </mark><mark style=background-color:#e2f3ca;font-size:20px;>. </mark><mark style=background-color:#d6eeb6;font-size:20px;>[SEP] </mark>"
      ],
      "text/plain": [
       "<IPython.core.display.HTML object>"
      ]
     },
     "metadata": {},
     "output_type": "display_data"
    },
    {
     "name": "stdout",
     "output_type": "stream",
     "text": [
      "----------------------------------------\n",
      "input sentence: The move was triggered by weak demand for forestry equipment and the uncertain market situation .\n",
      "\n",
      "Actual Label: 0,  Predicted label: [[0.95826775 0.02990319 0.01182909]]\n"
     ]
    },
    {
     "data": {
      "text/html": [
       "<mark style=background-color:#ebf6dc;font-size:20px;>[CLS] </mark><mark style=background-color:#e2f3ca;font-size:20px;>the </mark><mark style=background-color:#c0e593;font-size:20px;>move </mark><mark style=background-color:#b9e187;font-size:20px;>was </mark><mark style=background-color:#b9e187;font-size:20px;>triggered </mark><mark style=background-color:#aeda7a;font-size:20px;>by </mark><mark style=background-color:#79b73d;font-size:20px;>weak </mark><mark style=background-color:#eef6e2;font-size:20px;>demand </mark><mark style=background-color:#d4edb3;font-size:20px;>for </mark><mark style=background-color:#e2f3ca;font-size:20px;>forestry </mark><mark style=background-color:#faedf3;font-size:20px;>equipment </mark><mark style=background-color:#8fc654;font-size:20px;>and </mark><mark style=background-color:#73b239;font-size:20px;>the </mark><mark style=background-color:#529624;font-size:20px;>uncertain </mark><mark style=background-color:#cfebaa;font-size:20px;>market </mark><mark style=background-color:#93c959;font-size:20px;>situation </mark><mark style=background-color:#fbe7f2;font-size:20px;>. </mark><mark style=background-color:#f9eef4;font-size:20px;>[SEP] </mark>"
      ],
      "text/plain": [
       "<IPython.core.display.HTML object>"
      ]
     },
     "metadata": {},
     "output_type": "display_data"
    }
   ],
   "source": [
    "example_sentences = [\n",
    "    ('Scanfil has also issued a profit warning .',0),\n",
    "    ('The move was triggered by weak demand for forestry equipment and the uncertain market situation .',0),\n",
    " \n",
    "]\n",
    "for sent, label in example_sentences:\n",
    "    igf.interpret(sent,0, label)"
   ]
  },
  {
   "cell_type": "code",
   "execution_count": 69,
   "id": "4e81d713",
   "metadata": {},
   "outputs": [
    {
     "name": "stdout",
     "output_type": "stream",
     "text": [
      "----------------------------------------\n",
      "input sentence: The terms of the transactions remained undisclosed .\n",
      "\n",
      "Actual Label: 1,  Predicted label: [[8.3839532e-04 9.9911612e-01 4.5528133e-05]]\n"
     ]
    },
    {
     "data": {
      "text/html": [
       "<mark style=background-color:#77b53c;font-size:20px;>[CLS] </mark><mark style=background-color:#b2dd7f;font-size:20px;>the </mark><mark style=background-color:#bbe28a;font-size:20px;>terms </mark><mark style=background-color:#b2dd7f;font-size:20px;>of </mark><mark style=background-color:#bde38d;font-size:20px;>the </mark><mark style=background-color:#a7d672;font-size:20px;>transactions </mark><mark style=background-color:#aeda7a;font-size:20px;>remained </mark><mark style=background-color:#a1d26a;font-size:20px;>undisclosed </mark><mark style=background-color:#f3f6ed;font-size:20px;>. </mark><mark style=background-color:#f2f6ec;font-size:20px;>[SEP] </mark>"
      ],
      "text/plain": [
       "<IPython.core.display.HTML object>"
      ]
     },
     "metadata": {},
     "output_type": "display_data"
    },
    {
     "name": "stdout",
     "output_type": "stream",
     "text": [
      "----------------------------------------\n",
      "input sentence: Panostaja did not disclose the purchase price .\n",
      "\n",
      "Actual Label: 1,  Predicted label: [[9.1748696e-04 9.9902344e-01 5.9096208e-05]]\n"
     ]
    },
    {
     "data": {
      "text/html": [
       "<mark style=background-color:#79b73d;font-size:20px;>[CLS] </mark><mark style=background-color:#dbf0bf;font-size:20px;>pan </mark><mark style=background-color:#cfebaa;font-size:20px;>##osta </mark><mark style=background-color:#c7e89f;font-size:20px;>##ja </mark><mark style=background-color:#bde38d;font-size:20px;>did </mark><mark style=background-color:#a1d26a;font-size:20px;>not </mark><mark style=background-color:#a5d56f;font-size:20px;>disclose </mark><mark style=background-color:#a3d36c;font-size:20px;>the </mark><mark style=background-color:#a9d874;font-size:20px;>purchase </mark><mark style=background-color:#83bf46;font-size:20px;>price </mark><mark style=background-color:#5a9d29;font-size:20px;>. </mark><mark style=background-color:#eef6e2;font-size:20px;>[SEP] </mark>"
      ],
      "text/plain": [
       "<IPython.core.display.HTML object>"
      ]
     },
     "metadata": {},
     "output_type": "display_data"
    },
    {
     "name": "stdout",
     "output_type": "stream",
     "text": [
      "----------------------------------------\n",
      "input sentence: The order also includes start-up and commissioning services .\n",
      "\n",
      "Actual Label: 1,  Predicted label: [[1.2103784e-05 9.9993837e-01 4.9475806e-05]]\n"
     ]
    },
    {
     "data": {
      "text/html": [
       "<mark style=background-color:#9ccf64;font-size:20px;>[CLS] </mark><mark style=background-color:#e9f5d8;font-size:20px;>the </mark><mark style=background-color:#b9e187;font-size:20px;>order </mark><mark style=background-color:#c4e699;font-size:20px;>also </mark><mark style=background-color:#93c959;font-size:20px;>includes </mark><mark style=background-color:#ddf1c1;font-size:20px;>start </mark><mark style=background-color:#c4e699;font-size:20px;>- </mark><mark style=background-color:#cdeaa7;font-size:20px;>up </mark><mark style=background-color:#9ccf64;font-size:20px;>and </mark><mark style=background-color:#aeda7a;font-size:20px;>commissioning </mark><mark style=background-color:#acd977;font-size:20px;>services </mark><mark style=background-color:#509423;font-size:20px;>. </mark><mark style=background-color:#edf6e1;font-size:20px;>[SEP] </mark>"
      ],
      "text/plain": [
       "<IPython.core.display.HTML object>"
      ]
     },
     "metadata": {},
     "output_type": "display_data"
    }
   ],
   "source": [
    " example_sentences = [\n",
    "('The terms of the transactions remained undisclosed .',1),\n",
    "('Panostaja did not disclose the purchase price .',1),\n",
    "('The order also includes start-up and commissioning services .',1),\n",
    "]\n",
    "for sent, label in example_sentences:\n",
    "    igf.interpret(sent, 1, label)    \n"
   ]
  },
  {
   "cell_type": "code",
   "execution_count": 70,
   "id": "59cd2122",
   "metadata": {},
   "outputs": [
    {
     "name": "stdout",
     "output_type": "stream",
     "text": [
      "----------------------------------------\n",
      "input sentence: Pretax profit jumped to EUR 21.9 million from EUR 3.1 million .\n",
      "\n",
      "Actual Label: 2,  Predicted label: [[1.0809471e-03 7.1551454e-05 9.9884748e-01]]\n"
     ]
    },
    {
     "data": {
      "text/html": [
       "<mark style=background-color:#7dba40;font-size:20px;>[CLS] </mark><mark style=background-color:#dbf0bf;font-size:20px;>pre </mark><mark style=background-color:#b9e187;font-size:20px;>##ta </mark><mark style=background-color:#6faf37;font-size:20px;>##x </mark><mark style=background-color:#64a52f;font-size:20px;>profit </mark><mark style=background-color:#40831e;font-size:20px;>jumped </mark><mark style=background-color:#286619;font-size:20px;>to </mark><mark style=background-color:#43861f;font-size:20px;>eu </mark><mark style=background-color:#42841f;font-size:20px;>##r </mark><mark style=background-color:#43861f;font-size:20px;>21 </mark><mark style=background-color:#34741c;font-size:20px;>. </mark><mark style=background-color:#529624;font-size:20px;>9 </mark><mark style=background-color:#5a9d29;font-size:20px;>million </mark><mark style=background-color:#2b691a;font-size:20px;>from </mark><mark style=background-color:#43861f;font-size:20px;>eu </mark><mark style=background-color:#3f811e;font-size:20px;>##r </mark><mark style=background-color:#5c9e2a;font-size:20px;>3 </mark><mark style=background-color:#36761c;font-size:20px;>. </mark><mark style=background-color:#75b43b;font-size:20px;>1 </mark><mark style=background-color:#569927;font-size:20px;>million </mark><mark style=background-color:#a1d26a;font-size:20px;>. </mark><mark style=background-color:#aeda7a;font-size:20px;>[SEP] </mark>"
      ],
      "text/plain": [
       "<IPython.core.display.HTML object>"
      ]
     },
     "metadata": {},
     "output_type": "display_data"
    },
    {
     "name": "stdout",
     "output_type": "stream",
     "text": [
      "----------------------------------------\n",
      "input sentence: However , the proportion of the paid standing orders grew in 2009 .\n",
      "\n",
      "Actual Label: 2,  Predicted label: [[3.1007707e-02 8.7562617e-04 9.6811664e-01]]\n"
     ]
    },
    {
     "data": {
      "text/html": [
       "<mark style=background-color:#6dad36;font-size:20px;>[CLS] </mark><mark style=background-color:#4e9322;font-size:20px;>however </mark><mark style=background-color:#b2dd7f;font-size:20px;>, </mark><mark style=background-color:#3f811e;font-size:20px;>the </mark><mark style=background-color:#66a731;font-size:20px;>proportion </mark><mark style=background-color:#9ed067;font-size:20px;>of </mark><mark style=background-color:#9ed067;font-size:20px;>the </mark><mark style=background-color:#b5df82;font-size:20px;>paid </mark><mark style=background-color:#dff2c4;font-size:20px;>standing </mark><mark style=background-color:#e8f5d5;font-size:20px;>orders </mark><mark style=background-color:#6dad36;font-size:20px;>grew </mark><mark style=background-color:#40831e;font-size:20px;>in </mark><mark style=background-color:#6bac34;font-size:20px;>2009 </mark><mark style=background-color:#468a20;font-size:20px;>. </mark><mark style=background-color:#d2ecb0;font-size:20px;>[SEP] </mark>"
      ],
      "text/plain": [
       "<IPython.core.display.HTML object>"
      ]
     },
     "metadata": {},
     "output_type": "display_data"
    },
    {
     "name": "stdout",
     "output_type": "stream",
     "text": [
      "----------------------------------------\n",
      "input sentence: Net sales in 2007 are expected to be 10 % up on 2006 .\n",
      "\n",
      "Actual Label: 2,  Predicted label: [[1.0009514e-03 2.2401226e-04 9.9877506e-01]]\n"
     ]
    },
    {
     "data": {
      "text/html": [
       "<mark style=background-color:#a7d672;font-size:20px;>[CLS] </mark><mark style=background-color:#8cc551;font-size:20px;>net </mark><mark style=background-color:#79b73d;font-size:20px;>sales </mark><mark style=background-color:#c2e596;font-size:20px;>in </mark><mark style=background-color:#e8f5d5;font-size:20px;>2007 </mark><mark style=background-color:#b5df82;font-size:20px;>are </mark><mark style=background-color:#b7e085;font-size:20px;>expected </mark><mark style=background-color:#509423;font-size:20px;>to </mark><mark style=background-color:#468a20;font-size:20px;>be </mark><mark style=background-color:#2e6d1b;font-size:20px;>10 </mark><mark style=background-color:#3f811e;font-size:20px;>% </mark><mark style=background-color:#509423;font-size:20px;>up </mark><mark style=background-color:#45881f;font-size:20px;>on </mark><mark style=background-color:#cbe9a4;font-size:20px;>2006 </mark><mark style=background-color:#a5d56f;font-size:20px;>. </mark><mark style=background-color:#c4e699;font-size:20px;>[SEP] </mark>"
      ],
      "text/plain": [
       "<IPython.core.display.HTML object>"
      ]
     },
     "metadata": {},
     "output_type": "display_data"
    }
   ],
   "source": [
    "  example_sentences = [\n",
    "      ('Pretax profit jumped to EUR 21.9 million from EUR 3.1 million .',2),\n",
    "     ('However , the proportion of the paid standing orders grew in 2009 .',2),\n",
    "     ('Net sales in 2007 are expected to be 10 % up on 2006 .',2)\n",
    "  ]\n",
    "    \n",
    "for sent, label in example_sentences:\n",
    "    igf.interpret(sent, 2, label)     "
   ]
  },
  {
   "cell_type": "code",
   "execution_count": null,
   "id": "10751dbc",
   "metadata": {},
   "outputs": [],
   "source": []
  },
  {
   "cell_type": "code",
   "execution_count": 34,
   "id": "ac56701b",
   "metadata": {},
   "outputs": [
    {
     "name": "stdout",
     "output_type": "stream",
     "text": [
      "----------------------------------------\n",
      "input sentence: Brilliant and moving performances by Tom Courtenay and Peter Finch.\n",
      "\n",
      "Actual Label: 1,  Predicted label: 0.9923424124717712\n"
     ]
    },
    {
     "data": {
      "text/html": [
       "<mark style=background-color:#488c20>[CLS] </mark><mark style=background-color:#42841f>brilliant </mark><mark style=background-color:#276419>and </mark><mark style=background-color:#31711b>moving </mark><mark style=background-color:#2a681a>performances </mark><mark style=background-color:#3d7f1e>by </mark><mark style=background-color:#3a7b1d>tom </mark><mark style=background-color:#589b28>court </mark><mark style=background-color:#88c24c>##enay </mark><mark style=background-color:#42841f>and </mark><mark style=background-color:#306f1b>peter </mark><mark style=background-color:#69aa33>finch </mark><mark style=background-color:#45881f>. </mark><mark style=background-color:#98cc5f>[SEP] </mark>"
      ],
      "text/plain": [
       "<IPython.core.display.HTML object>"
      ]
     },
     "metadata": {},
     "output_type": "display_data"
    },
    {
     "name": "stdout",
     "output_type": "stream",
     "text": [
      "----------------------------------------\n",
      "input sentence: This is a great movie. Too bad it is not available on home video.\n",
      "\n",
      "Actual Label: 1,  Predicted label: 0.9972672462463379\n"
     ]
    },
    {
     "data": {
      "text/html": [
       "<mark style=background-color:#36761c>[CLS] </mark><mark style=background-color:#286619>this </mark><mark style=background-color:#2d6b1a>is </mark><mark style=background-color:#276419>a </mark><mark style=background-color:#276419>great </mark><mark style=background-color:#2e6d1b>movie </mark><mark style=background-color:#286619>. </mark><mark style=background-color:#71b038>too </mark><mark style=background-color:#77b53c>bad </mark><mark style=background-color:#37781c>it </mark><mark style=background-color:#c4e699>is </mark><mark style=background-color:#edf6e1>not </mark><mark style=background-color:#83bf46>available </mark><mark style=background-color:#98cc5f>on </mark><mark style=background-color:#83bf46>home </mark><mark style=background-color:#b2dd7f>video </mark><mark style=background-color:#75b43b>. </mark><mark style=background-color:#7bb93e>[SEP] </mark>"
      ],
      "text/plain": [
       "<IPython.core.display.HTML object>"
      ]
     },
     "metadata": {},
     "output_type": "display_data"
    },
    {
     "name": "stdout",
     "output_type": "stream",
     "text": [
      "----------------------------------------\n",
      "input sentence: Just love the interplay between two great characters of stage & screen - Veidt & Barrymore\n",
      "\n",
      "Actual Label: 1,  Predicted label: 0.9932690262794495\n"
     ]
    },
    {
     "data": {
      "text/html": [
       "<mark style=background-color:#5a9d29>[CLS] </mark><mark style=background-color:#64a52f>just </mark><mark style=background-color:#33721c>love </mark><mark style=background-color:#2e6d1b>the </mark><mark style=background-color:#306f1b>inter </mark><mark style=background-color:#3d7f1e>##play </mark><mark style=background-color:#3c7d1d>between </mark><mark style=background-color:#42841f>two </mark><mark style=background-color:#276419>great </mark><mark style=background-color:#3a7b1d>characters </mark><mark style=background-color:#36761c>of </mark><mark style=background-color:#66a731>stage </mark><mark style=background-color:#75b43b>& </mark><mark style=background-color:#69aa33>screen </mark><mark style=background-color:#509423>- </mark><mark style=background-color:#83bf46>ve </mark><mark style=background-color:#8cc551>##id </mark><mark style=background-color:#7fbc41>##t </mark><mark style=background-color:#62a32e>& </mark><mark style=background-color:#7dba40>barry </mark><mark style=background-color:#509423>##more </mark><mark style=background-color:#67a832>[SEP] </mark>"
      ],
      "text/plain": [
       "<IPython.core.display.HTML object>"
      ]
     },
     "metadata": {},
     "output_type": "display_data"
    }
   ],
   "source": [
    "example_sentences = [\n",
    "    ('Brilliant and moving performances by Tom Courtenay and Peter Finch.',1),\n",
    " ('This is a great movie. Too bad it is not available on home video.',1),\n",
    " ('Just love the interplay between two great characters of stage & screen - Veidt & Barrymore',1),\n",
    " #('a mesmerizing film that certainly keeps your attention... Ben Daniels is fascinating (and courageous) to watch.',1),\n",
    " #('Add this little gem to your list of holiday regulars. It is<br /><br />sweet, funny, and endearing',1)\n",
    "                    ]\n",
    "for example, actual_label in example_sentences:\n",
    "    ig.interpret(example,0, actual_label)"
   ]
  },
  {
   "cell_type": "code",
   "execution_count": 36,
   "id": "47fa299f",
   "metadata": {},
   "outputs": [],
   "source": [
    "example_sentences = [\n",
    "    (\"This movie is terrible but it has some good effects.\",0),\n",
    "    (\"Ming The Merciless does a little Bardwork and a movie most foul!\",0),\n",
    "    #(\"If you haven't seen this, it's terrible. It is pure trash. I saw this about 17 years ago, and I'm still screwed up from it.\",0),\n",
    "    (\"This movie is not good. Nothing in this movie is interesting\",0)\n",
    "]"
   ]
  },
  {
   "cell_type": "code",
   "execution_count": 37,
   "id": "40dd5d98",
   "metadata": {},
   "outputs": [
    {
     "name": "stdout",
     "output_type": "stream",
     "text": [
      "----------------------------------------\n",
      "input sentence: This movie is terrible but it has some good effects.\n",
      "\n",
      "Actual Label: 0,  Predicted label: 0.03200889006257057\n"
     ]
    },
    {
     "data": {
      "text/html": [
       "<mark style=background-color:#d75ea1>[CLS] </mark><mark style=background-color:#a80d66>this </mark><mark style=background-color:#920355>movie </mark><mark style=background-color:#b51370>is </mark><mark style=background-color:#8e0152>terrible </mark><mark style=background-color:#d24c97>but </mark><mark style=background-color:#b71472>it </mark><mark style=background-color:#cb3289>has </mark><mark style=background-color:#d24c97>some </mark><mark style=background-color:#d04493>good </mark><mark style=background-color:#bd1777>effects </mark><mark style=background-color:#de77ae>. </mark><mark style=background-color:#d965a4>[SEP] </mark>"
      ],
      "text/plain": [
       "<IPython.core.display.HTML object>"
      ]
     },
     "metadata": {},
     "output_type": "display_data"
    },
    {
     "name": "stdout",
     "output_type": "stream",
     "text": [
      "----------------------------------------\n",
      "input sentence: Ming The Merciless does a little Bardwork and a movie most foul!\n",
      "\n",
      "Actual Label: 0,  Predicted label: 0.19832904636859894\n"
     ]
    },
    {
     "data": {
      "text/html": [
       "<mark style=background-color:#e795c3>[CLS] </mark><mark style=background-color:#f6c7e3>ming </mark><mark style=background-color:#f9f1f5>the </mark><mark style=background-color:#f9eef4>mer </mark><mark style=background-color:#e7f5d3>##ci </mark><mark style=background-color:#f8cee6>##less </mark><mark style=background-color:#df79b0>does </mark><mark style=background-color:#e48bbc>a </mark><mark style=background-color:#f4c1df>little </mark><mark style=background-color:#fad4e9>bard </mark><mark style=background-color:#eba1cb>##work </mark><mark style=background-color:#d861a2>and </mark><mark style=background-color:#ce3d8f>a </mark><mark style=background-color:#ae106b>movie </mark><mark style=background-color:#a10a61>most </mark><mark style=background-color:#8e0152>foul </mark><mark style=background-color:#e181b5>! </mark><mark style=background-color:#e286b8>[SEP] </mark>"
      ],
      "text/plain": [
       "<IPython.core.display.HTML object>"
      ]
     },
     "metadata": {},
     "output_type": "display_data"
    },
    {
     "name": "stdout",
     "output_type": "stream",
     "text": [
      "----------------------------------------\n",
      "input sentence: This movie is not good. Nothing in this movie is interesting\n",
      "\n",
      "Actual Label: 0,  Predicted label: 0.013764705508947372\n"
     ]
    },
    {
     "data": {
      "text/html": [
       "<mark style=background-color:#cb3289>[CLS] </mark><mark style=background-color:#a60c65>this </mark><mark style=background-color:#9f095f>movie </mark><mark style=background-color:#aa0e68>is </mark><mark style=background-color:#cb3289>not </mark><mark style=background-color:#c01879>good </mark><mark style=background-color:#e181b5>. </mark><mark style=background-color:#c92b86>nothing </mark><mark style=background-color:#c62080>in </mark><mark style=background-color:#bd1777>this </mark><mark style=background-color:#b71472>movie </mark><mark style=background-color:#c92b86>is </mark><mark style=background-color:#b3126f>interesting </mark><mark style=background-color:#df7cb1>[SEP] </mark>"
      ],
      "text/plain": [
       "<IPython.core.display.HTML object>"
      ]
     },
     "metadata": {},
     "output_type": "display_data"
    }
   ],
   "source": [
    "for example, actual_label in example_sentences:\n",
    "    ig.interpret(example,0, actual_label)"
   ]
  },
  {
   "cell_type": "code",
   "execution_count": 26,
   "id": "be425bfc",
   "metadata": {},
   "outputs": [
    {
     "data": {
      "text/plain": [
       "['[CLS]',\n",
       " 'this',\n",
       " 'is',\n",
       " 'not',\n",
       " 'a',\n",
       " 'good',\n",
       " 'movie',\n",
       " '.',\n",
       " 'it',\n",
       " 'has',\n",
       " 'nothing',\n",
       " 'interesting',\n",
       " 'with',\n",
       " 'no',\n",
       " 'entertainment',\n",
       " '[SEP]']"
      ]
     },
     "execution_count": 26,
     "metadata": {},
     "output_type": "execute_result"
    }
   ],
   "source": [
    "only_words"
   ]
  },
  {
   "cell_type": "code",
   "execution_count": 27,
   "id": "7c7ef707",
   "metadata": {},
   "outputs": [
    {
     "data": {
      "text/plain": [
       "['#c62080',\n",
       " '#8e0152',\n",
       " '#9b075c',\n",
       " '#99065a',\n",
       " '#940457',\n",
       " '#9b075c',\n",
       " '#9d085e',\n",
       " '#b71472',\n",
       " '#970559',\n",
       " '#9d085e',\n",
       " '#9d085e',\n",
       " '#9b075c',\n",
       " '#9f095f',\n",
       " '#9b075c',\n",
       " '#9f095f',\n",
       " '#c92b86']"
      ]
     },
     "execution_count": 27,
     "metadata": {},
     "output_type": "execute_result"
    }
   ],
   "source": [
    "only_words_colors"
   ]
  },
  {
   "cell_type": "code",
   "execution_count": 125,
   "id": "17264eae",
   "metadata": {},
   "outputs": [],
   "source": [
    "embed_mask = tf.stack([tf.stack([tf.squeeze(sample_vector_mask,axis=0)]*interpolated_texts.shape[0])]*interpolated_texts.shape[-1],axis=-1)"
   ]
  },
  {
   "cell_type": "code",
   "execution_count": 126,
   "id": "2d474e72",
   "metadata": {},
   "outputs": [
    {
     "data": {
      "text/plain": [
       "TensorShape([51, 128, 768])"
      ]
     },
     "execution_count": 126,
     "metadata": {},
     "output_type": "execute_result"
    }
   ],
   "source": [
    "embed_mask.shape"
   ]
  },
  {
   "cell_type": "code",
   "execution_count": 99,
   "id": "af74c807",
   "metadata": {},
   "outputs": [
    {
     "data": {
      "text/plain": [
       "TensorShape([51, 128])"
      ]
     },
     "execution_count": 99,
     "metadata": {},
     "output_type": "execute_result"
    }
   ],
   "source": [
    "tf.stack([tf.squeeze(sample_vector_mask,axis=0)]*51)"
   ]
  },
  {
   "cell_type": "code",
   "execution_count": 100,
   "id": "93460637",
   "metadata": {},
   "outputs": [
    {
     "data": {
      "text/plain": [
       "<tf.Tensor: shape=(128,), dtype=int32, numpy=\n",
       "array([1, 1, 1, 1, 1, 1, 1, 1, 1, 1, 1, 1, 1, 1, 1, 1, 1, 1, 1, 1, 1, 1,\n",
       "       1, 0, 0, 0, 0, 0, 0, 0, 0, 0, 0, 0, 0, 0, 0, 0, 0, 0, 0, 0, 0, 0,\n",
       "       0, 0, 0, 0, 0, 0, 0, 0, 0, 0, 0, 0, 0, 0, 0, 0, 0, 0, 0, 0, 0, 0,\n",
       "       0, 0, 0, 0, 0, 0, 0, 0, 0, 0, 0, 0, 0, 0, 0, 0, 0, 0, 0, 0, 0, 0,\n",
       "       0, 0, 0, 0, 0, 0, 0, 0, 0, 0, 0, 0, 0, 0, 0, 0, 0, 0, 0, 0, 0, 0,\n",
       "       0, 0, 0, 0, 0, 0, 0, 0, 0, 0, 0, 0, 0, 0, 0, 0, 0, 0])>"
      ]
     },
     "execution_count": 100,
     "metadata": {},
     "output_type": "execute_result"
    }
   ],
   "source": [
    "tf.stack([tf.squeeze(sample_vector_mask,axis=0)]*51)[0]"
   ]
  },
  {
   "cell_type": "code",
   "execution_count": 101,
   "id": "154f8fae",
   "metadata": {},
   "outputs": [
    {
     "data": {
      "text/plain": [
       "<tf.Tensor: shape=(128,), dtype=int32, numpy=\n",
       "array([1, 1, 1, 1, 1, 1, 1, 1, 1, 1, 1, 1, 1, 1, 1, 1, 1, 1, 1, 1, 1, 1,\n",
       "       1, 0, 0, 0, 0, 0, 0, 0, 0, 0, 0, 0, 0, 0, 0, 0, 0, 0, 0, 0, 0, 0,\n",
       "       0, 0, 0, 0, 0, 0, 0, 0, 0, 0, 0, 0, 0, 0, 0, 0, 0, 0, 0, 0, 0, 0,\n",
       "       0, 0, 0, 0, 0, 0, 0, 0, 0, 0, 0, 0, 0, 0, 0, 0, 0, 0, 0, 0, 0, 0,\n",
       "       0, 0, 0, 0, 0, 0, 0, 0, 0, 0, 0, 0, 0, 0, 0, 0, 0, 0, 0, 0, 0, 0,\n",
       "       0, 0, 0, 0, 0, 0, 0, 0, 0, 0, 0, 0, 0, 0, 0, 0, 0, 0])>"
      ]
     },
     "execution_count": 101,
     "metadata": {},
     "output_type": "execute_result"
    }
   ],
   "source": [
    "tf.stack([tf.squeeze(sample_vector_mask,axis=0)]*51)[1]"
   ]
  },
  {
   "cell_type": "code",
   "execution_count": 109,
   "id": "ed3d638c",
   "metadata": {},
   "outputs": [],
   "source": [
    "embed_mask = tf.stack([tf.stack([tf.squeeze(sample_vector_mask,axis=0)]*51)]*768,axis=-1)"
   ]
  },
  {
   "cell_type": "code",
   "execution_count": 120,
   "id": "dffc5f9f",
   "metadata": {},
   "outputs": [
    {
     "data": {
      "text/plain": [
       "<tf.Tensor: shape=(768,), dtype=float32, numpy=\n",
       "array([1., 1., 1., 1., 1., 1., 1., 1., 1., 1., 1., 1., 1., 1., 1., 1., 1.,\n",
       "       1., 1., 1., 1., 1., 1., 1., 1., 1., 1., 1., 1., 1., 1., 1., 1., 1.,\n",
       "       1., 1., 1., 1., 1., 1., 1., 1., 1., 1., 1., 1., 1., 1., 1., 1., 1.,\n",
       "       1., 1., 1., 1., 1., 1., 1., 1., 1., 1., 1., 1., 1., 1., 1., 1., 1.,\n",
       "       1., 1., 1., 1., 1., 1., 1., 1., 1., 1., 1., 1., 1., 1., 1., 1., 1.,\n",
       "       1., 1., 1., 1., 1., 1., 1., 1., 1., 1., 1., 1., 1., 1., 1., 1., 1.,\n",
       "       1., 1., 1., 1., 1., 1., 1., 1., 1., 1., 1., 1., 1., 1., 1., 1., 1.,\n",
       "       1., 1., 1., 1., 1., 1., 1., 1., 1., 1., 1., 1., 1., 1., 1., 1., 1.,\n",
       "       1., 1., 1., 1., 1., 1., 1., 1., 1., 1., 1., 1., 1., 1., 1., 1., 1.,\n",
       "       1., 1., 1., 1., 1., 1., 1., 1., 1., 1., 1., 1., 1., 1., 1., 1., 1.,\n",
       "       1., 1., 1., 1., 1., 1., 1., 1., 1., 1., 1., 1., 1., 1., 1., 1., 1.,\n",
       "       1., 1., 1., 1., 1., 1., 1., 1., 1., 1., 1., 1., 1., 1., 1., 1., 1.,\n",
       "       1., 1., 1., 1., 1., 1., 1., 1., 1., 1., 1., 1., 1., 1., 1., 1., 1.,\n",
       "       1., 1., 1., 1., 1., 1., 1., 1., 1., 1., 1., 1., 1., 1., 1., 1., 1.,\n",
       "       1., 1., 1., 1., 1., 1., 1., 1., 1., 1., 1., 1., 1., 1., 1., 1., 1.,\n",
       "       1., 1., 1., 1., 1., 1., 1., 1., 1., 1., 1., 1., 1., 1., 1., 1., 1.,\n",
       "       1., 1., 1., 1., 1., 1., 1., 1., 1., 1., 1., 1., 1., 1., 1., 1., 1.,\n",
       "       1., 1., 1., 1., 1., 1., 1., 1., 1., 1., 1., 1., 1., 1., 1., 1., 1.,\n",
       "       1., 1., 1., 1., 1., 1., 1., 1., 1., 1., 1., 1., 1., 1., 1., 1., 1.,\n",
       "       1., 1., 1., 1., 1., 1., 1., 1., 1., 1., 1., 1., 1., 1., 1., 1., 1.,\n",
       "       1., 1., 1., 1., 1., 1., 1., 1., 1., 1., 1., 1., 1., 1., 1., 1., 1.,\n",
       "       1., 1., 1., 1., 1., 1., 1., 1., 1., 1., 1., 1., 1., 1., 1., 1., 1.,\n",
       "       1., 1., 1., 1., 1., 1., 1., 1., 1., 1., 1., 1., 1., 1., 1., 1., 1.,\n",
       "       1., 1., 1., 1., 1., 1., 1., 1., 1., 1., 1., 1., 1., 1., 1., 1., 1.,\n",
       "       1., 1., 1., 1., 1., 1., 1., 1., 1., 1., 1., 1., 1., 1., 1., 1., 1.,\n",
       "       1., 1., 1., 1., 1., 1., 1., 1., 1., 1., 1., 1., 1., 1., 1., 1., 1.,\n",
       "       1., 1., 1., 1., 1., 1., 1., 1., 1., 1., 1., 1., 1., 1., 1., 1., 1.,\n",
       "       1., 1., 1., 1., 1., 1., 1., 1., 1., 1., 1., 1., 1., 1., 1., 1., 1.,\n",
       "       1., 1., 1., 1., 1., 1., 1., 1., 1., 1., 1., 1., 1., 1., 1., 1., 1.,\n",
       "       1., 1., 1., 1., 1., 1., 1., 1., 1., 1., 1., 1., 1., 1., 1., 1., 1.,\n",
       "       1., 1., 1., 1., 1., 1., 1., 1., 1., 1., 1., 1., 1., 1., 1., 1., 1.,\n",
       "       1., 1., 1., 1., 1., 1., 1., 1., 1., 1., 1., 1., 1., 1., 1., 1., 1.,\n",
       "       1., 1., 1., 1., 1., 1., 1., 1., 1., 1., 1., 1., 1., 1., 1., 1., 1.,\n",
       "       1., 1., 1., 1., 1., 1., 1., 1., 1., 1., 1., 1., 1., 1., 1., 1., 1.,\n",
       "       1., 1., 1., 1., 1., 1., 1., 1., 1., 1., 1., 1., 1., 1., 1., 1., 1.,\n",
       "       1., 1., 1., 1., 1., 1., 1., 1., 1., 1., 1., 1., 1., 1., 1., 1., 1.,\n",
       "       1., 1., 1., 1., 1., 1., 1., 1., 1., 1., 1., 1., 1., 1., 1., 1., 1.,\n",
       "       1., 1., 1., 1., 1., 1., 1., 1., 1., 1., 1., 1., 1., 1., 1., 1., 1.,\n",
       "       1., 1., 1., 1., 1., 1., 1., 1., 1., 1., 1., 1., 1., 1., 1., 1., 1.,\n",
       "       1., 1., 1., 1., 1., 1., 1., 1., 1., 1., 1., 1., 1., 1., 1., 1., 1.,\n",
       "       1., 1., 1., 1., 1., 1., 1., 1., 1., 1., 1., 1., 1., 1., 1., 1., 1.,\n",
       "       1., 1., 1., 1., 1., 1., 1., 1., 1., 1., 1., 1., 1., 1., 1., 1., 1.,\n",
       "       1., 1., 1., 1., 1., 1., 1., 1., 1., 1., 1., 1., 1., 1., 1., 1., 1.,\n",
       "       1., 1., 1., 1., 1., 1., 1., 1., 1., 1., 1., 1., 1., 1., 1., 1., 1.,\n",
       "       1., 1., 1., 1., 1., 1., 1., 1., 1., 1., 1., 1., 1., 1., 1., 1., 1.,\n",
       "       1., 1., 1.], dtype=float32)>"
      ]
     },
     "execution_count": 120,
     "metadata": {},
     "output_type": "execute_result"
    }
   ],
   "source": [
    "tf.cast(embed_mask,tf.float32)[0,2,:]"
   ]
  },
  {
   "cell_type": "code",
   "execution_count": 122,
   "id": "602fdb4d",
   "metadata": {},
   "outputs": [
    {
     "data": {
      "text/plain": [
       "<tf.Tensor: shape=(768,), dtype=float32, numpy=\n",
       "array([-2.25587800e-01,  2.01965459e-02,  1.84850454e-01, -1.13895082e+00,\n",
       "       -2.13364825e-01, -1.54985055e-01,  9.75442290e-01,  9.60577905e-01,\n",
       "        4.62330133e-03, -2.03896642e-01, -2.78885067e-01, -2.12675524e+00,\n",
       "        7.25151598e-02,  2.90099621e-01,  5.69295958e-02,  6.42334044e-01,\n",
       "       -6.68650985e-01, -1.30643201e+00, -1.99604273e-01, -4.53674793e-01,\n",
       "       -1.29027128e-01, -9.68629241e-01,  1.51404262e-01,  1.21593618e+00,\n",
       "       -2.01499149e-01,  4.12348002e-01,  2.39093363e-01,  5.90653360e-01,\n",
       "       -6.30988032e-02, -2.11396500e-01,  9.48700383e-02, -1.97239801e-01,\n",
       "       -8.91468287e-01, -1.61453575e-01,  2.28095457e-01,  3.35238814e-01,\n",
       "       -2.07806513e-01, -3.26945871e-01, -7.75267780e-01,  8.68874073e-01,\n",
       "       -7.27359891e-01, -6.96282685e-01,  6.84453011e-01, -2.06107289e-01,\n",
       "       -3.17290068e-01, -9.81706738e-01, -1.25785396e-01,  1.50026172e-01,\n",
       "       -5.89663327e-01,  7.24048376e-01,  4.79593605e-01, -3.87964010e-01,\n",
       "       -1.69893116e-01,  4.94661570e-01,  2.70859540e-01,  4.31286126e-01,\n",
       "       -9.38013434e-01, -1.22342682e+00, -6.29972279e-01, -6.16317272e-01,\n",
       "       -4.91832271e-02,  7.56496251e-01,  6.52695298e-01, -5.79534292e-01,\n",
       "        6.08121276e-01,  6.95104003e-01,  6.02349862e-02,  7.84725428e-01,\n",
       "       -8.88630688e-01,  5.90403900e-02, -2.28187263e-01,  1.77544385e-01,\n",
       "        1.63390374e+00, -4.35476214e-01, -9.08785880e-01, -1.18821904e-01,\n",
       "       -4.95838761e-01,  4.45422113e-01, -5.17711282e-01,  2.23579273e-01,\n",
       "        1.38527289e-01,  6.99103773e-01, -4.43152517e-01,  9.61057246e-01,\n",
       "        4.59355712e-02,  4.24187303e-01, -6.35025322e-01,  7.20260814e-02,\n",
       "       -8.77039135e-01,  7.27564394e-01, -5.89770854e-01, -4.35198367e-01,\n",
       "       -6.90397099e-02,  3.96141052e-01,  5.93042016e-01, -1.00769258e+00,\n",
       "        2.13151202e-02,  2.67846614e-01, -3.44790995e-01,  4.58005726e-01,\n",
       "       -3.68821621e-01, -3.61833483e-01,  8.32247436e-01, -2.53960073e-01,\n",
       "       -7.22125590e-01,  9.02189553e-01,  1.06749809e+00, -2.14659497e-02,\n",
       "        8.20458531e-01, -2.80389130e-01,  8.09594750e-01,  2.83647627e-02,\n",
       "        3.17108870e-01,  7.70303607e-01, -3.75042439e-01,  1.50372374e+00,\n",
       "        4.64120924e-01, -3.21748018e-01,  8.52643326e-02,  1.72488153e-01,\n",
       "        4.17696476e-01, -8.87177944e-01, -6.46701604e-02,  1.09184563e+00,\n",
       "       -6.85127914e-01,  7.59153903e-01, -5.07385969e-01,  2.47047216e-01,\n",
       "        1.21141803e+00, -6.45853043e-01,  1.63685158e-01,  5.78085363e-01,\n",
       "        9.53084230e-01, -8.68236542e-01, -2.82825232e-02, -2.49066472e-01,\n",
       "       -8.82937312e-02, -1.03860831e+00, -1.05430114e+00,  7.07029760e-01,\n",
       "        4.93542582e-01,  3.40438694e-01,  1.78147602e+00,  1.34337664e-01,\n",
       "        8.91083479e-01,  6.84222043e-01,  3.58769357e-01, -1.25136450e-01,\n",
       "       -1.55533701e-01, -6.59621954e-01,  3.64802033e-01, -1.09195602e+00,\n",
       "       -7.44024575e-01, -8.90740395e-01,  4.61555243e-01, -1.11217177e+00,\n",
       "       -1.62588835e-01,  3.93704087e-01,  6.93265140e-01,  2.97165960e-02,\n",
       "        2.06675872e-01, -4.07814741e-01,  3.83161455e-01,  3.30120742e-01,\n",
       "       -6.95109665e-01, -2.27041006e-01, -1.71997175e-01,  1.15551424e+00,\n",
       "       -8.51247311e-01, -5.93755662e-01,  5.50748348e-01,  8.71012747e-01,\n",
       "        4.02380377e-02, -2.26040483e-01, -6.97594523e-01,  2.24026710e-01,\n",
       "       -1.93529725e-01,  7.04221606e-01, -3.40773948e-02, -7.45812476e-01,\n",
       "       -3.46793562e-01,  7.98406005e-01,  6.85700417e-01, -3.05471599e-01,\n",
       "        6.60595596e-01, -4.28716958e-01, -8.94079626e-01, -2.56034322e-02,\n",
       "       -2.93360859e-01, -5.40580302e-02,  2.90805548e-01,  2.32289761e-01,\n",
       "        4.86053109e-01, -3.85794342e-01, -2.93108642e-01,  1.10037141e-02,\n",
       "        6.10720575e-01, -1.45310926e+00,  3.18793029e-01,  1.09188519e-01,\n",
       "        9.01449472e-04,  3.11324477e-01, -7.39085972e-01,  1.59600049e-01,\n",
       "        5.07502407e-02, -2.55292386e-01,  2.89941490e-01, -5.52034140e-01,\n",
       "        2.19574347e-01, -6.44227326e-01, -1.77780956e-01,  3.53102922e-01,\n",
       "       -1.63959756e-01,  8.05933893e-01, -3.13464671e-01, -4.84734386e-01,\n",
       "        3.16576809e-01, -6.54523745e-02, -5.59113026e-01, -8.22513223e-01,\n",
       "       -3.06028068e-01,  2.55129367e-01, -7.17311382e-01,  6.26034200e-01,\n",
       "        4.27140117e-01,  3.40090990e-01, -2.27894738e-01, -8.62933040e-01,\n",
       "       -3.00169736e-01,  3.29861641e-01, -5.34051657e-01, -5.07721752e-02,\n",
       "       -4.57067937e-01, -2.87836134e-01, -7.08933055e-01, -4.16300297e-01,\n",
       "       -8.83114398e-01, -1.17905855e+00,  1.59221721e+00, -8.35286260e-01,\n",
       "       -1.59298792e-01, -2.76205391e-01, -2.55757608e-02,  2.57849872e-01,\n",
       "        1.05491292e+00, -2.17126802e-01, -9.41488087e-01,  5.10811687e-01,\n",
       "        1.36502549e-01, -8.58276486e-01, -1.27871048e+00, -1.00062919e+00,\n",
       "        2.04914473e-02,  6.17839992e-02, -4.43981797e-01, -6.64499998e-01,\n",
       "        9.31499451e-02, -1.95648402e-01,  6.55855358e-01,  3.61892253e-01,\n",
       "        3.10151547e-01, -8.30047190e-01,  8.87940705e-01,  2.19169036e-02,\n",
       "       -6.03933394e-01, -5.99802494e-01, -1.11465663e-01, -4.09589171e-01,\n",
       "       -3.39762002e-01,  9.01945412e-01,  2.83499271e-01,  7.38034070e-01,\n",
       "        9.91179347e-01,  1.11475790e+00,  7.60100223e-03, -4.88579646e-02,\n",
       "        8.69540811e-01,  9.04865656e-03,  3.93771023e-01,  3.08892608e-01,\n",
       "        1.00496876e+00,  3.47013533e-01, -1.01904333e+00, -1.13456510e-02,\n",
       "       -5.41390300e-01, -4.11925435e-01, -4.46275473e-02, -5.63410461e-01,\n",
       "       -2.36977369e-01, -9.28024530e-01, -5.21734774e-01,  1.58485189e-01,\n",
       "       -2.40300849e-01, -1.02595198e+00,  3.21494579e-01, -5.49440920e-01,\n",
       "        3.01504917e-02,  4.67202812e-01, -3.09425056e-01, -7.70780504e-01,\n",
       "       -6.75148785e-01,  3.30795109e-01,  3.68377388e-01,  3.11984956e-01,\n",
       "       -3.38454187e-01,  1.13508427e+00, -7.20085278e-02, -1.14986777e+00,\n",
       "       -7.04838216e-01, -2.23173350e-01, -1.85758397e-02,  1.24340393e-01,\n",
       "       -5.34539036e-02,  4.73021388e-01,  6.23729348e-01, -2.11547077e-01,\n",
       "       -2.71052897e-01,  3.25207770e-01,  7.96144485e-01, -4.01620895e-01,\n",
       "        5.40364921e-01,  2.56736726e-01,  2.49786854e-01,  6.17892683e-01,\n",
       "       -1.87667102e-01,  1.19613275e-01,  2.85673380e-01,  5.81947088e-01,\n",
       "       -1.29730567e-01, -1.62407303e+00, -3.33768010e-01, -3.54131699e-01,\n",
       "        4.93278563e-01, -2.65356526e-02,  9.21566561e-02,  3.13995600e-01,\n",
       "       -6.82744443e-01, -8.48790765e-01, -1.54461980e-01, -1.03265023e+00,\n",
       "       -4.50695187e-01, -7.13117957e-01,  3.22103083e-01, -7.96192527e-01,\n",
       "        2.28965394e-02,  8.72637182e-02,  8.09074268e-02, -9.16371107e-01,\n",
       "        3.13008398e-01, -8.93658459e-01, -6.02101348e-02, -1.01553011e+00,\n",
       "        7.95560122e-01, -7.43132830e-01, -2.28716865e-01, -2.07245779e+00,\n",
       "        7.64700115e-01, -1.22170649e-01, -4.25290704e-01,  9.52863768e-02,\n",
       "        5.72230637e-01, -7.12720633e-01, -4.71203268e-01, -5.19167602e-01,\n",
       "        1.12641358e+00, -1.09117642e-01, -9.22580004e-01,  8.96465003e-01,\n",
       "        5.36568224e-01,  6.06589615e-01, -2.66627133e-01,  5.02759397e-01,\n",
       "       -5.89751363e-01, -8.92673075e-01, -6.23421788e-01, -6.89949989e-01,\n",
       "       -1.20195806e+00, -3.61992002e-01,  3.71426910e-01,  4.08997834e-01,\n",
       "       -1.13331079e+00,  2.68687278e-01,  2.27025583e-01, -4.74689722e-01,\n",
       "        1.23333657e+00, -2.24942863e-01, -4.19875860e-01,  6.45024955e-01,\n",
       "       -1.07559943e+00,  3.33061755e-01,  2.23088086e-01, -3.17880332e-01,\n",
       "        9.90203738e-01,  5.82078695e-01,  3.76457423e-01,  1.14056319e-01,\n",
       "       -2.85234004e-01, -1.15721738e+00,  3.68082136e-01,  4.55698878e-01,\n",
       "       -9.77871180e-01,  8.44170153e-01, -1.06942797e+00, -1.17685869e-01,\n",
       "        7.27095664e-01,  3.32255542e-01,  7.49239326e-01,  2.60037273e-01,\n",
       "        5.73006511e-01,  9.30338651e-02,  7.85275996e-01, -1.99787319e-01,\n",
       "        5.93347311e-01,  1.14220130e+00, -1.64870858e+00, -3.98601294e-01,\n",
       "        1.14018118e+00, -2.55024880e-01,  3.49587768e-01, -2.07837760e-01,\n",
       "        3.48454654e-01, -5.21831989e-01, -2.92323142e-01, -2.15479881e-02,\n",
       "        4.00932953e-02,  7.84469783e-01,  3.50993693e-01,  4.50901389e-01,\n",
       "        7.17205584e-01,  2.99684167e-01, -3.75530928e-01,  1.27548599e+00,\n",
       "       -1.34823489e+00,  4.93501991e-01, -2.82525159e-02, -3.10081631e-01,\n",
       "       -3.67037654e-01, -1.35387933e+00, -5.67736775e-02, -4.78809655e-01,\n",
       "        1.78603247e-01,  1.40513790e+00,  4.85997617e-01, -2.63483729e-02,\n",
       "        5.66526413e-01, -7.69822061e-01, -1.03196573e+00, -8.24802965e-02,\n",
       "       -3.27194005e-01,  1.10913849e+00, -1.19761992e+00, -4.54624176e-01,\n",
       "       -7.05968142e-02,  1.30196548e+00,  1.22504622e-01,  2.79359430e-01,\n",
       "       -7.91727662e-01, -1.98252141e-01, -4.04132456e-01,  1.35247633e-01,\n",
       "       -1.39262050e-01,  5.21249212e-02,  1.29114866e-01,  4.82148379e-02,\n",
       "       -5.73054314e-01,  3.43719423e-01,  1.65703535e-01, -9.76538479e-01,\n",
       "        1.64742634e-01,  1.01929772e+00,  5.70345044e-01,  5.74140787e-01,\n",
       "       -6.00708246e-01, -3.81040901e-01, -1.41109824e-01,  3.62222716e-02,\n",
       "       -1.74734902e+00,  6.23801112e-01,  4.01471287e-01,  7.54551411e-01,\n",
       "        9.73022729e-02, -5.77463746e-01,  3.82246494e-01,  7.99146444e-02,\n",
       "        4.79803532e-02, -4.64167953e-01, -1.76587522e-01,  1.21237837e-01,\n",
       "        2.49143302e-01, -9.42491088e-03, -1.04926121e+00,  2.23386526e-01,\n",
       "        2.17841879e-01,  1.13485664e-01, -2.45752588e-01, -1.99466541e-01,\n",
       "        4.65232223e-01,  4.49707896e-01,  2.99791008e-01,  1.23357165e+00,\n",
       "       -1.05588007e+00,  4.33708966e-01, -1.32872450e+00, -1.47625059e-01,\n",
       "        5.17363906e-01, -1.18191862e+00,  5.17390966e-01,  2.02206165e-01,\n",
       "       -6.23588972e-02,  4.31062430e-01, -3.68841849e-02,  7.37758040e-01,\n",
       "       -7.18186915e-01, -4.69777018e-01,  5.06375842e-02,  1.51860881e+00,\n",
       "       -3.23313355e-01,  6.54713631e-01, -6.09636128e-01,  2.43780226e-01,\n",
       "        7.62621500e-03,  6.11637175e-01,  5.36225498e-01, -3.69837433e-01,\n",
       "        7.19082832e-01, -3.13263148e-01,  5.78067936e-02, -3.96094531e-01,\n",
       "       -6.54478669e-01,  4.07028720e-02,  7.22144008e-01, -5.48584044e-01,\n",
       "       -6.41162217e-01, -1.35726005e-01, -4.49366421e-01,  3.44734371e-01,\n",
       "       -1.25831515e-02, -8.66744339e-01, -4.90148813e-01,  3.28960828e-02,\n",
       "        9.71090496e-01, -7.96982884e-01, -2.48265609e-01,  1.56258717e-01,\n",
       "       -1.01205659e+00, -1.10010993e+00,  1.90363854e-01,  3.39950398e-02,\n",
       "       -4.22403723e-01, -6.56280398e-01,  1.40864980e+00, -4.38962653e-02,\n",
       "        2.73234025e-03,  4.57703859e-01,  1.87101945e-01,  9.39386904e-01,\n",
       "       -1.53756887e-03, -1.02304447e+00, -3.99850547e-01,  2.09995180e-01,\n",
       "       -3.84186506e-01, -1.17652309e+00,  7.67977417e-01, -9.39881325e-01,\n",
       "        1.03939712e-01,  2.32309505e-01, -6.65474534e-01,  2.88381279e-01,\n",
       "        1.53432950e-01, -1.39032707e-01, -3.68482858e-01,  3.68526220e-01,\n",
       "       -6.13312840e-01,  2.34555364e-01,  1.35306060e-01,  6.53002739e-01,\n",
       "        8.57994258e-01,  1.01504803e+00, -5.75193167e-01,  3.97133410e-01,\n",
       "       -6.73117563e-02, -4.05529708e-01, -1.06918335e+00, -3.89034420e-01,\n",
       "        9.36225712e-01, -2.54205674e-01, -2.38794480e-02, -1.04687512e+00,\n",
       "       -4.50855583e-01, -3.90972465e-01,  1.35391474e-01, -6.32115841e-01,\n",
       "       -1.72513202e-01, -1.17083952e-01, -1.11812854e+00,  1.23031545e+00,\n",
       "        4.76523638e-01,  4.40768182e-01, -1.37063813e+00, -3.39177251e-01,\n",
       "       -4.72307503e-01,  2.84531713e-02,  2.15106755e-01, -4.11597580e-01,\n",
       "       -2.69621462e-01, -1.86409086e-01, -6.37450099e-01, -1.32625163e-01,\n",
       "       -2.09981456e-01, -4.58261192e-01,  8.44356775e-01,  6.61519766e-01,\n",
       "       -5.22918820e-01,  4.97846812e-01,  1.71619639e-01, -1.55058667e-01,\n",
       "       -7.35015869e-01,  9.32925999e-01, -6.89031780e-01, -1.52640355e+00,\n",
       "        1.04906631e+00,  2.56573796e-01, -2.38515645e-01, -4.39384669e-01,\n",
       "        8.62740755e-01, -1.00604677e+00, -5.81739783e-01, -1.14849150e-01,\n",
       "       -4.45049465e-01, -8.87533277e-02,  9.02665973e-01,  2.23616526e-01,\n",
       "       -1.69573665e-01,  5.37847877e-01, -7.15049326e-01, -3.89635056e-01,\n",
       "       -6.89629495e-01,  4.13595200e-01,  3.56458724e-01,  4.21378702e-01,\n",
       "       -6.55089319e-01,  2.00034127e-01,  3.88553798e-01, -7.05326676e-01,\n",
       "        9.06231776e-02,  4.25694287e-01,  5.71123600e-01,  1.05030246e-01,\n",
       "       -1.52674407e-01, -1.12132236e-01,  1.85325027e+00,  4.24471349e-01,\n",
       "        1.75768450e-01,  6.74881041e-01, -9.37319040e-01,  5.63133478e-01,\n",
       "        3.02935302e-01, -4.31228340e-01, -1.57543823e-01,  6.60310686e-01,\n",
       "        1.94031283e-01, -1.04743445e+00,  1.22183013e+00, -5.84872127e-01,\n",
       "       -2.90643096e-01,  6.24859035e-01,  3.66534382e-01,  9.08857882e-01,\n",
       "       -7.03874230e-01,  7.36640632e-01,  1.39634466e+00, -9.31839794e-02,\n",
       "       -5.70504129e-01, -2.25857496e-02,  1.97570875e-01, -2.21128568e-01,\n",
       "       -1.09862074e-01,  4.93800312e-01, -3.46611515e-02,  3.33092660e-02,\n",
       "       -3.57086718e-01, -2.53465772e-01,  1.22885799e+00,  2.13344455e-01,\n",
       "       -4.06740457e-01, -1.39848363e+00, -3.82311285e-01,  4.19348419e-01,\n",
       "        4.36559021e-01, -5.02232909e-01, -5.38086891e-01, -6.59916699e-01,\n",
       "        6.29543513e-03, -2.56494850e-01, -4.55399811e-01, -6.01726592e-01,\n",
       "        6.60509706e-01, -1.26638785e-01,  1.25488353e+00,  2.96779007e-01,\n",
       "       -5.95111698e-02,  3.34669739e-01, -2.57234633e-01,  3.90022919e-02,\n",
       "        7.67622471e-01, -9.28240791e-02, -3.62678021e-02, -7.74410665e-02,\n",
       "        4.39925104e-01, -7.01702595e-01, -6.95410967e-02,  7.27154672e-01,\n",
       "       -3.10149759e-01, -5.61771281e-02, -3.31553966e-01, -3.05308282e-01,\n",
       "        7.27136731e-02, -4.48982865e-01,  2.21411526e-01,  8.35772932e-01,\n",
       "       -1.56373334e+00,  5.94698153e-02, -3.37269828e-02,  5.67880154e-01,\n",
       "        9.96269345e-01, -9.23779756e-02,  3.64533067e-02,  8.01654831e-02,\n",
       "        7.41267800e-01, -3.87856781e-01,  3.89525950e-01,  7.32143819e-01,\n",
       "       -2.88241476e-01, -2.60631025e-01,  7.76658535e-01,  6.53920531e-01,\n",
       "        6.90744638e-01,  4.16018158e-01,  5.85201323e-01,  1.31928933e+00,\n",
       "       -5.90729825e-02,  5.31925745e-02,  1.44113851e+00, -1.31137156e+00,\n",
       "       -8.31401050e-01,  2.20525004e-02, -5.35303019e-02, -5.83573461e-01,\n",
       "        2.90690988e-01,  1.10327214e-01,  6.67940736e-01, -1.17734063e+00,\n",
       "        1.48128301e-01, -5.94459236e-01, -8.22821200e-01,  6.27011776e-01,\n",
       "       -3.20729196e-01, -4.28042173e-01,  6.69016719e-01, -2.11007759e-01,\n",
       "        3.92747849e-01, -2.87250638e-01, -2.31593370e-01,  1.01265204e+00,\n",
       "        9.87510741e-01,  4.51535225e-01, -5.86507678e-01,  6.18033767e-01],\n",
       "      dtype=float32)>"
      ]
     },
     "execution_count": 122,
     "metadata": {},
     "output_type": "execute_result"
    }
   ],
   "source": [
    "interpolated_texts[50,2,:]"
   ]
  },
  {
   "cell_type": "code",
   "execution_count": 124,
   "id": "5d0f13db",
   "metadata": {},
   "outputs": [
    {
     "data": {
      "text/plain": [
       "<tf.Tensor: shape=(768,), dtype=float32, numpy=\n",
       "array([-0.,  0.,  0., -0., -0., -0.,  0.,  0.,  0., -0., -0., -0.,  0.,\n",
       "        0.,  0.,  0., -0., -0.,  0., -0., -0., -0., -0.,  0.,  0.,  0.,\n",
       "        0.,  0., -0.,  0., -0., -0., -0., -0., -0.,  0., -0.,  0., -0.,\n",
       "        0., -0., -0.,  0., -0.,  0., -0.,  0., -0., -0.,  0.,  0., -0.,\n",
       "       -0.,  0.,  0.,  0., -0., -0., -0., -0., -0.,  0.,  0., -0.,  0.,\n",
       "        0.,  0.,  0., -0., -0.,  0.,  0.,  0., -0., -0.,  0., -0., -0.,\n",
       "       -0., -0.,  0.,  0., -0.,  0., -0.,  0.,  0.,  0.,  0.,  0., -0.,\n",
       "       -0., -0.,  0.,  0., -0., -0.,  0., -0.,  0.,  0., -0.,  0., -0.,\n",
       "       -0.,  0.,  0., -0.,  0.,  0.,  0., -0.,  0., -0.,  0.,  0.,  0.,\n",
       "       -0.,  0., -0.,  0., -0., -0.,  0., -0.,  0., -0.,  0.,  0., -0.,\n",
       "        0.,  0.,  0., -0., -0., -0.,  0., -0., -0.,  0., -0.,  0.,  0.,\n",
       "       -0.,  0.,  0.,  0.,  0.,  0., -0.,  0., -0., -0., -0., -0., -0.,\n",
       "        0.,  0.,  0., -0.,  0., -0.,  0., -0., -0.,  0.,  0.,  0., -0.,\n",
       "       -0.,  0.,  0.,  0., -0., -0.,  0.,  0.,  0., -0., -0., -0.,  0.,\n",
       "        0., -0.,  0., -0., -0., -0., -0.,  0., -0., -0., -0., -0.,  0.,\n",
       "       -0.,  0., -0.,  0.,  0.,  0., -0., -0.,  0., -0., -0.,  0., -0.,\n",
       "        0., -0.,  0.,  0., -0.,  0., -0., -0.,  0.,  0.,  0., -0., -0.,\n",
       "       -0., -0.,  0.,  0.,  0.,  0., -0., -0.,  0., -0., -0., -0., -0.,\n",
       "       -0.,  0., -0., -0.,  0., -0.,  0., -0., -0.,  0.,  0.,  0.,  0.,\n",
       "       -0.,  0., -0., -0., -0., -0., -0.,  0., -0., -0.,  0.,  0., -0.,\n",
       "        0., -0.,  0., -0., -0., -0.,  0., -0.,  0.,  0., -0.,  0.,  0.,\n",
       "        0., -0.,  0.,  0.,  0.,  0., -0.,  0.,  0., -0., -0.,  0., -0.,\n",
       "       -0., -0., -0., -0.,  0.,  0., -0., -0.,  0., -0.,  0.,  0.,  0.,\n",
       "       -0., -0.,  0.,  0.,  0.,  0.,  0., -0., -0., -0., -0., -0.,  0.,\n",
       "        0., -0.,  0., -0., -0., -0.,  0., -0.,  0.,  0.,  0., -0.,  0.,\n",
       "       -0., -0.,  0., -0., -0.,  0., -0.,  0.,  0., -0.,  0., -0., -0.,\n",
       "        0., -0., -0., -0.,  0., -0., -0., -0.,  0., -0.,  0., -0., -0.,\n",
       "       -0.,  0., -0.,  0., -0.,  0.,  0.,  0.,  0.,  0., -0., -0., -0.,\n",
       "        0.,  0., -0.,  0.,  0.,  0., -0.,  0., -0.,  0., -0., -0., -0.,\n",
       "       -0., -0.,  0., -0.,  0., -0.,  0.,  0., -0.,  0., -0., -0.,  0.,\n",
       "        0., -0.,  0.,  0., -0., -0., -0., -0., -0., -0., -0.,  0.,  0.,\n",
       "       -0.,  0.,  0.,  0., -0.,  0., -0.,  0., -0.,  0.,  0., -0., -0.,\n",
       "        0.,  0.,  0., -0.,  0., -0., -0., -0.,  0., -0.,  0., -0.,  0.,\n",
       "       -0.,  0.,  0., -0.,  0.,  0.,  0., -0., -0.,  0., -0., -0.,  0.,\n",
       "        0., -0.,  0., -0., -0.,  0., -0.,  0., -0.,  0.,  0.,  0., -0.,\n",
       "        0., -0., -0.,  0.,  0., -0., -0.,  0., -0., -0.,  0.,  0., -0.,\n",
       "        0.,  0., -0.,  0., -0., -0., -0., -0., -0.,  0.,  0.,  0., -0.,\n",
       "        0.,  0., -0., -0., -0., -0.,  0.,  0., -0., -0.,  0.,  0.,  0.,\n",
       "       -0., -0.,  0.,  0., -0.,  0., -0., -0., -0., -0.,  0., -0.,  0.,\n",
       "        0., -0.,  0., -0.,  0., -0., -0., -0.,  0., -0.,  0., -0.,  0.,\n",
       "        0.,  0.,  0.,  0.,  0., -0.,  0., -0., -0., -0.,  0., -0., -0.,\n",
       "        0., -0., -0., -0., -0., -0.,  0.,  0., -0., -0., -0., -0., -0.,\n",
       "       -0., -0., -0., -0.,  0.,  0., -0.,  0., -0.,  0., -0., -0., -0.,\n",
       "        0., -0., -0.,  0., -0., -0., -0.,  0.,  0., -0., -0., -0.,  0.,\n",
       "       -0.,  0., -0.,  0.,  0., -0., -0.,  0., -0., -0., -0., -0.,  0.,\n",
       "       -0., -0., -0., -0.,  0., -0., -0.,  0., -0., -0.,  0.,  0.,  0.,\n",
       "       -0., -0., -0.,  0., -0.,  0.,  0., -0., -0.,  0., -0.,  0.,  0.,\n",
       "       -0.,  0.,  0.,  0., -0., -0.,  0., -0., -0.,  0.,  0., -0., -0.,\n",
       "        0., -0.,  0.,  0., -0., -0.,  0.,  0., -0.,  0., -0., -0.,  0.,\n",
       "        0.,  0.,  0., -0., -0.,  0.,  0.,  0.,  0., -0.,  0.,  0.,  0.,\n",
       "        0.,  0., -0., -0., -0., -0.,  0., -0., -0.,  0.,  0., -0.,  0.,\n",
       "        0.,  0.,  0.,  0.,  0., -0.,  0.,  0., -0., -0., -0.,  0., -0.,\n",
       "        0.,  0.,  0.,  0., -0., -0.,  0.,  0., -0., -0., -0., -0., -0.,\n",
       "        0., -0., -0., -0., -0., -0.,  0.,  0., -0.,  0., -0., -0.,  0.,\n",
       "        0.,  0.,  0.,  0., -0.,  0.,  0., -0.,  0.,  0., -0., -0.,  0.,\n",
       "       -0., -0., -0., -0.,  0., -0., -0., -0.,  0.,  0.,  0.,  0.,  0.,\n",
       "       -0.,  0.,  0.,  0., -0., -0.,  0.,  0.,  0.,  0.,  0.,  0., -0.,\n",
       "       -0.,  0., -0.,  0., -0., -0., -0.,  0., -0., -0., -0.,  0., -0.,\n",
       "        0.,  0., -0.,  0., -0.,  0.,  0.,  0., -0.,  0.,  0., -0., -0.,\n",
       "        0.], dtype=float32)>"
      ]
     },
     "execution_count": 124,
     "metadata": {},
     "output_type": "execute_result"
    }
   ],
   "source": [
    "tf.math.multiply(interpolated_texts, tf.cast(embed_mask,tf.float32))[50,23,:]"
   ]
  },
  {
   "cell_type": "code",
   "execution_count": null,
   "id": "c233c263",
   "metadata": {},
   "outputs": [],
   "source": [
    "for i in range(interpolated_texts.shape[0]):\n",
    "    "
   ]
  },
  {
   "cell_type": "code",
   "execution_count": 86,
   "id": "1dc53523",
   "metadata": {},
   "outputs": [
    {
     "ename": "TypeError",
     "evalue": "'tensorflow.python.framework.ops.EagerTensor' object does not support item assignment",
     "output_type": "error",
     "traceback": [
      "\u001b[1;31m---------------------------------------------------------------------------\u001b[0m",
      "\u001b[1;31mTypeError\u001b[0m                                 Traceback (most recent call last)",
      "\u001b[1;32m<ipython-input-86-db2ad4a5d2a5>\u001b[0m in \u001b[0;36m<module>\u001b[1;34m\u001b[0m\n\u001b[1;32m----> 1\u001b[1;33m \u001b[0minterpolated_texts\u001b[0m\u001b[1;33m[\u001b[0m\u001b[1;36m0\u001b[0m\u001b[1;33m,\u001b[0m\u001b[1;36m0\u001b[0m\u001b[1;33m,\u001b[0m\u001b[1;36m0\u001b[0m\u001b[1;33m]\u001b[0m \u001b[1;33m=\u001b[0m \u001b[1;36m0.0\u001b[0m\u001b[1;33m\u001b[0m\u001b[1;33m\u001b[0m\u001b[0m\n\u001b[0m",
      "\u001b[1;31mTypeError\u001b[0m: 'tensorflow.python.framework.ops.EagerTensor' object does not support item assignment"
     ]
    }
   ],
   "source": [
    "interpolated_texts[0,0,0] = 0.0"
   ]
  },
  {
   "cell_type": "code",
   "execution_count": null,
   "id": "59c2f10e",
   "metadata": {},
   "outputs": [],
   "source": []
  },
  {
   "cell_type": "code",
   "execution_count": 68,
   "id": "4a691264",
   "metadata": {},
   "outputs": [],
   "source": [
    "sample_vector_mask = tf.squeeze(sample_vector_mask)\n",
    "new_vect = tf.stack([sample_vector_mask, sample_vector_mask],axis=0)"
   ]
  },
  {
   "cell_type": "code",
   "execution_count": 69,
   "id": "557474bf",
   "metadata": {},
   "outputs": [
    {
     "data": {
      "text/plain": [
       "TensorShape([2, 128, 4])"
      ]
     },
     "execution_count": 69,
     "metadata": {},
     "output_type": "execute_result"
    }
   ],
   "source": [
    "tf.stack([new_vect, new_vect,new_vect,new_vect],axis=-1).shape"
   ]
  },
  {
   "cell_type": "code",
   "execution_count": 60,
   "id": "aafe0dea",
   "metadata": {},
   "outputs": [
    {
     "ename": "InvalidArgumentError",
     "evalue": "{{function_node __wrapped__Mul_device_/job:localhost/replica:0/task:0/device:GPU:0}} required broadcastable shapes [Op:Mul]",
     "output_type": "error",
     "traceback": [
      "\u001b[1;31m---------------------------------------------------------------------------\u001b[0m",
      "\u001b[1;31mInvalidArgumentError\u001b[0m                      Traceback (most recent call last)",
      "\u001b[1;32m<ipython-input-60-be1a083a1eb4>\u001b[0m in \u001b[0;36m<module>\u001b[1;34m\u001b[0m\n\u001b[1;32m----> 1\u001b[1;33m \u001b[0minterpolated_texts\u001b[0m \u001b[1;33m*\u001b[0m \u001b[0mtf\u001b[0m\u001b[1;33m.\u001b[0m\u001b[0mcast\u001b[0m\u001b[1;33m(\u001b[0m\u001b[0msample_vector_mask\u001b[0m\u001b[1;33m,\u001b[0m \u001b[0mtf\u001b[0m\u001b[1;33m.\u001b[0m\u001b[0mfloat32\u001b[0m\u001b[1;33m)\u001b[0m\u001b[1;33m\u001b[0m\u001b[1;33m\u001b[0m\u001b[0m\n\u001b[0m",
      "\u001b[1;32m~\\anaconda3\\lib\\site-packages\\tensorflow\\python\\util\\traceback_utils.py\u001b[0m in \u001b[0;36merror_handler\u001b[1;34m(*args, **kwargs)\u001b[0m\n\u001b[0;32m    151\u001b[0m     \u001b[1;32mexcept\u001b[0m \u001b[0mException\u001b[0m \u001b[1;32mas\u001b[0m \u001b[0me\u001b[0m\u001b[1;33m:\u001b[0m\u001b[1;33m\u001b[0m\u001b[1;33m\u001b[0m\u001b[0m\n\u001b[0;32m    152\u001b[0m       \u001b[0mfiltered_tb\u001b[0m \u001b[1;33m=\u001b[0m \u001b[0m_process_traceback_frames\u001b[0m\u001b[1;33m(\u001b[0m\u001b[0me\u001b[0m\u001b[1;33m.\u001b[0m\u001b[0m__traceback__\u001b[0m\u001b[1;33m)\u001b[0m\u001b[1;33m\u001b[0m\u001b[1;33m\u001b[0m\u001b[0m\n\u001b[1;32m--> 153\u001b[1;33m       \u001b[1;32mraise\u001b[0m \u001b[0me\u001b[0m\u001b[1;33m.\u001b[0m\u001b[0mwith_traceback\u001b[0m\u001b[1;33m(\u001b[0m\u001b[0mfiltered_tb\u001b[0m\u001b[1;33m)\u001b[0m \u001b[1;32mfrom\u001b[0m \u001b[1;32mNone\u001b[0m\u001b[1;33m\u001b[0m\u001b[1;33m\u001b[0m\u001b[0m\n\u001b[0m\u001b[0;32m    154\u001b[0m     \u001b[1;32mfinally\u001b[0m\u001b[1;33m:\u001b[0m\u001b[1;33m\u001b[0m\u001b[1;33m\u001b[0m\u001b[0m\n\u001b[0;32m    155\u001b[0m       \u001b[1;32mdel\u001b[0m \u001b[0mfiltered_tb\u001b[0m\u001b[1;33m\u001b[0m\u001b[1;33m\u001b[0m\u001b[0m\n",
      "\u001b[1;32m~\\anaconda3\\lib\\site-packages\\tensorflow\\python\\framework\\ops.py\u001b[0m in \u001b[0;36mraise_from_not_ok_status\u001b[1;34m(e, name)\u001b[0m\n\u001b[0;32m   7207\u001b[0m \u001b[1;32mdef\u001b[0m \u001b[0mraise_from_not_ok_status\u001b[0m\u001b[1;33m(\u001b[0m\u001b[0me\u001b[0m\u001b[1;33m,\u001b[0m \u001b[0mname\u001b[0m\u001b[1;33m)\u001b[0m\u001b[1;33m:\u001b[0m\u001b[1;33m\u001b[0m\u001b[1;33m\u001b[0m\u001b[0m\n\u001b[0;32m   7208\u001b[0m   \u001b[0me\u001b[0m\u001b[1;33m.\u001b[0m\u001b[0mmessage\u001b[0m \u001b[1;33m+=\u001b[0m \u001b[1;33m(\u001b[0m\u001b[1;34m\" name: \"\u001b[0m \u001b[1;33m+\u001b[0m \u001b[0mname\u001b[0m \u001b[1;32mif\u001b[0m \u001b[0mname\u001b[0m \u001b[1;32mis\u001b[0m \u001b[1;32mnot\u001b[0m \u001b[1;32mNone\u001b[0m \u001b[1;32melse\u001b[0m \u001b[1;34m\"\"\u001b[0m\u001b[1;33m)\u001b[0m\u001b[1;33m\u001b[0m\u001b[1;33m\u001b[0m\u001b[0m\n\u001b[1;32m-> 7209\u001b[1;33m   \u001b[1;32mraise\u001b[0m \u001b[0mcore\u001b[0m\u001b[1;33m.\u001b[0m\u001b[0m_status_to_exception\u001b[0m\u001b[1;33m(\u001b[0m\u001b[0me\u001b[0m\u001b[1;33m)\u001b[0m \u001b[1;32mfrom\u001b[0m \u001b[1;32mNone\u001b[0m  \u001b[1;31m# pylint: disable=protected-access\u001b[0m\u001b[1;33m\u001b[0m\u001b[1;33m\u001b[0m\u001b[0m\n\u001b[0m\u001b[0;32m   7210\u001b[0m \u001b[1;33m\u001b[0m\u001b[0m\n\u001b[0;32m   7211\u001b[0m \u001b[1;33m\u001b[0m\u001b[0m\n",
      "\u001b[1;31mInvalidArgumentError\u001b[0m: {{function_node __wrapped__Mul_device_/job:localhost/replica:0/task:0/device:GPU:0}} required broadcastable shapes [Op:Mul]"
     ]
    }
   ],
   "source": [
    "interpolated_texts * tf.cast(sample_vector_mask, tf.float32)"
   ]
  },
  {
   "cell_type": "markdown",
   "id": "016c85cf",
   "metadata": {},
   "source": [
    "### Financial Dataset"
   ]
  },
  {
   "cell_type": "code",
   "execution_count": 53,
   "id": "72e1570f",
   "metadata": {},
   "outputs": [],
   "source": [
    "bank_model = tf.keras.models.load_model(r\"saved_models\\bank77_LSTM\")"
   ]
  },
  {
   "cell_type": "code",
   "execution_count": null,
   "id": "6c30f250",
   "metadata": {},
   "outputs": [],
   "source": [
    "ig_b = IntegratedGradients(model, 0, 1)"
   ]
  }
 ],
 "metadata": {
  "kernelspec": {
   "display_name": "Python 3",
   "language": "python",
   "name": "python3"
  },
  "language_info": {
   "codemirror_mode": {
    "name": "ipython",
    "version": 3
   },
   "file_extension": ".py",
   "mimetype": "text/x-python",
   "name": "python",
   "nbconvert_exporter": "python",
   "pygments_lexer": "ipython3",
   "version": "3.8.8"
  }
 },
 "nbformat": 4,
 "nbformat_minor": 5
}
